{
 "cells": [
  {
   "cell_type": "markdown",
   "id": "dab62ef2",
   "metadata": {},
   "source": [
    "# Technische Universität Berlin #\n",
    "**Fakultät II - Mathematik und Naturwissenschaften**\n",
    "\n",
    "**Seminar Stochastische Partielle Differentialgleichungen**\n",
    "\n",
    "*Prof. Dr. Wilhelm Stannat*\n",
    "\n",
    "*Yang Bai*\n",
    "\n",
    "*Studiengang: Wissenschaftliches Rechnen (Master)*\n",
    "\n",
    "*SoSe 2021*"
   ]
  },
  {
   "cell_type": "markdown",
   "id": "46456965",
   "metadata": {},
   "source": [
    "## Import all necessary modules"
   ]
  },
  {
   "cell_type": "code",
   "execution_count": 1,
   "id": "2e69b041",
   "metadata": {},
   "outputs": [],
   "source": [
    "import numpy as np\n",
    "from scipy.interpolate import lagrange\n",
    "from prettytable import PrettyTable"
   ]
  },
  {
   "cell_type": "markdown",
   "id": "c6b49a2d",
   "metadata": {},
   "source": [
    "# Revsion: The $\\theta$ method for FBSDEs model:\n",
    "Let us use explicit euler method to calculate the numerical results"
   ]
  },
  {
   "cell_type": "markdown",
   "id": "45050b46",
   "metadata": {},
   "source": [
    "**(1) Consider the decoupled FBSDE:**\n",
    "$$\n",
    "\\left\\{\\begin{array}{l}\n",
    "\\mathrm{d} X_{t}=\\frac{1}{1+2 \\exp \\left(t+X_{t}\\right)} \\mathrm{d} t+\\frac{\\exp \\left(t+X_{t}\\right)}{1+\\exp \\left(t+X_{t}\\right)} \\mathrm{d} W_{t} \\\\\n",
    "-\\mathrm{d} Y_{t}=\\left(-\\frac{2 Y_{t}}{1+2 \\exp \\left(t+X_{t}\\right)}-\\frac{1}{2}\\left(\\frac{Y_{t} Z_{t}}{1+\\exp \\left(t+X_{t}\\right)}-Y_{t}^{2} Z_{t}\\right)\\right) \\mathrm{d} t-Z_{t} \\mathrm{~d} W_{t}\n",
    "\\end{array}\\right.\n",
    "$$"
   ]
  },
  {
   "cell_type": "markdown",
   "id": "0cec979a",
   "metadata": {},
   "source": [
    "We assume $\n",
    "x_{0}=0, T=1\n",
    "$,\n",
    "with the terminal conditions:$$\n",
    "Y_{T}=\\frac{\\exp \\left(T+X_{T}\\right)}{1+\\exp \\left(T+X_{T}\\right)}\n",
    "$$\n",
    "The analytical solution: $$\n",
    "Y_{t}=\\frac{\\exp \\left(t+X_{t}\\right)}{1+\\exp \\left(t+X_{t}\\right)}, \\quad Z_{t}=\\frac{\\left(\\exp \\left(t+X_{t}\\right)\\right)^{2}}{\\left(1+\\exp \\left(t+X_{t}\\right)\\right)^{3}}\n",
    "$$\n",
    "then we have the below definition:"
   ]
  },
  {
   "cell_type": "code",
   "execution_count": 2,
   "id": "6b43bd18",
   "metadata": {},
   "outputs": [],
   "source": [
    "def g(x,T):\n",
    "    return np.exp(T+x)/(1+np.exp(T+x))\n",
    "def Z_exact(x,t):\n",
    "    return (np.exp(t+x))**2/(1+np.exp(t+x))**3\n",
    "def f(y,x,t,z):\n",
    "    return (-2*y/(1+2*np.exp(t+x))-0.5*(y*z/(1+np.exp(t+x))-y*y*z))\n",
    "def sigma(x,t):\n",
    "    return np.exp(t+x)/(1+np.exp(t+x))\n",
    "def beta(x,t):\n",
    "    return 1/(1+2*np.exp(t+x))"
   ]
  },
  {
   "cell_type": "code",
   "execution_count": 3,
   "id": "6c7c1d86",
   "metadata": {},
   "outputs": [],
   "source": [
    "def expectation(I,x,sigma,beta,t,delta_t):\n",
    "    a,w=np.polynomial.hermite.hermgauss(10)\n",
    "    x = np.expand_dims(x, axis=1)\n",
    "    a = np.expand_dims(a, axis=0)\n",
    "    E_1=np.dot(I(x+beta(x,t)*delta_t+np.dot(sigma(x,t)*np.sqrt(2*delta_t),a)),w)/np.sqrt(np.pi)\n",
    "    E_2=np.dot(I(x+beta(x,t)*delta_t+np.dot(sigma(x,t)*np.sqrt(2*delta_t),a))*np.sqrt(2*delta_t)*a,w)/np.sqrt(np.pi)\n",
    "    return E_1,E_2"
   ]
  },
  {
   "cell_type": "code",
   "execution_count": 4,
   "id": "2499a0b1",
   "metadata": {},
   "outputs": [],
   "source": [
    "def expectation_fm(I,x,sigma,beta,delta_t,NE,f,z,t):\n",
    "    e3=0\n",
    "    for i in range(0,NE):\n",
    "        e3+=f(I(x+beta(x,t)*delta_t+sigma(x,t)*np.sqrt(delta_t)*np.random.normal(0,1)),x,t,z(x+beta(x,t)*delta_t+sigma(x,t)*np.sqrt(delta_t)*np.random.normal(0,1)))\n",
    "    e3/=NE\n",
    "    return e3"
   ]
  },
  {
   "cell_type": "code",
   "execution_count": 5,
   "id": "cd6bff80",
   "metadata": {},
   "outputs": [],
   "source": [
    "x=np.arange(0.9,1.1,0.05)"
   ]
  },
  {
   "cell_type": "code",
   "execution_count": 6,
   "id": "a3f6621a",
   "metadata": {},
   "outputs": [
    {
     "data": {
      "text/plain": [
       "array([0.9 , 0.95, 1.  , 1.05, 1.1 ])"
      ]
     },
     "execution_count": 6,
     "metadata": {},
     "output_type": "execute_result"
    }
   ],
   "source": [
    "x"
   ]
  },
  {
   "cell_type": "code",
   "execution_count": 7,
   "id": "d1722c36",
   "metadata": {},
   "outputs": [],
   "source": [
    "N_=[1,2,3,4,5,6,7,8,9];T0=0;T=1;\n",
    "y=np.zeros(len(N_))\n",
    "z=np.zeros(len(N_))\n",
    "for N in range(len(N_)):\n",
    "    t,delta_t=np.linspace(T0,T,num=N_[N]+1,endpoint=True,retstep=True)\n",
    "    Y=np.zeros((N_[N]+1,len(x)))\n",
    "    Z=np.zeros((N_[N]+1,len(x)))\n",
    "    Y[-1]=g(x,T)\n",
    "    Z[-1]=Z_exact(x,T)\n",
    "    I=lagrange(x,g(x,T))\n",
    "    IZ=lagrange(x,Z_exact(x,T))\n",
    "    for n in range(N_[N]-1,-1,-1): \n",
    "        E_1,E_2=expectation(I,x,sigma,beta,t[n],delta_t)\n",
    "        E_3 = expectation_fm(I,x,sigma,beta,delta_t,500,f,IZ,t[n])\n",
    "        Z[n]=E_2/delta_t\n",
    "        Y[n]=E_1+delta_t*E_3\n",
    "        I=lagrange(x,Y[n])\n",
    "        IZ=lagrange(x,Z[n])\n",
    "    y[N]=Y[0][2]\n",
    "    z[N]=Z[0][2]"
   ]
  },
  {
   "cell_type": "code",
   "execution_count": 8,
   "id": "942fc6a8",
   "metadata": {},
   "outputs": [],
   "source": [
    "exact_y,exact_z=g(1,0),Z_exact(1,0)"
   ]
  },
  {
   "cell_type": "code",
   "execution_count": 9,
   "id": "da1865db",
   "metadata": {},
   "outputs": [
    {
     "name": "stdout",
     "output_type": "stream",
     "text": [
      "+---+------------+--------------------+------------+---------------------+-------------+-------------+\n",
      "| N |  y_exact   |         y          |  z_exact   |          z          | |y-y_exact| | |z-z_exact| |\n",
      "+---+------------+--------------------+------------+---------------------+-------------+-------------+\n",
      "| 1 | 0.73105858 | 0.6263826098191397 | 0.14373484 | 0.07623770088075846 |  0.10467597 |  0.06749714 |\n",
      "| 2 | 0.73105858 | 0.6830700114265429 | 0.14373484 | 0.11963460016088456 |  0.04798857 |  0.02410024 |\n",
      "| 3 | 0.73105858 | 0.7008718292475297 | 0.14373484 | 0.12994032785445966 |  0.03018675 |  0.01379451 |\n",
      "| 4 | 0.73105858 | 0.7091652967557999 | 0.14373484 | 0.13501950900884863 |  0.02189328 |  0.00871533 |\n",
      "| 5 | 0.73105858 | 0.7141844870931404 | 0.14373484 | 0.13798693327921352 |  0.01687409 |  0.00574791 |\n",
      "| 6 | 0.73105858 | 0.717473673915016  | 0.14373484 | 0.14029546656880001 |  0.01358490 |  0.00343937 |\n",
      "| 7 | 0.73105858 | 0.719992105417779  | 0.14373484 | 0.14164028261515768 |  0.01106647 |  0.00209456 |\n",
      "| 8 | 0.73105858 | 0.7217268751625946 | 0.14373484 |  0.1430767482037804 |  0.00933170 |  0.00065809 |\n",
      "| 9 | 0.73105858 | 0.7231235965283301 | 0.14373484 | 0.14375957128257938 |  0.00793498 |  0.00002473 |\n",
      "+---+------------+--------------------+------------+---------------------+-------------+-------------+\n"
     ]
    }
   ],
   "source": [
    "table = PrettyTable()\n",
    "table.field_names = [\"N\",\"y_exact\",\"y\",\"z_exact\",\"z\",\"|y-y_exact|\", \"|z-z_exact|\"]\n",
    "for i in range(len(N_)):\n",
    "    table.add_row([N_[i],\"{:.8f}\".format(exact_y),y[i],\"{:.8f}\".format(exact_z),z[i],\"{:.8f}\".format(abs(y[i]-exact_y)),\"{:.8f}\".format(abs(z[i]-exact_z))])\n",
    "print(table)"
   ]
  },
  {
   "cell_type": "markdown",
   "id": "d968ea02",
   "metadata": {},
   "source": [
    "**Reference:** \n",
    "\n",
    "(1)Tao Tang, Weidong ZhaoandTao Zhou, Deferred Correction Methods for Forward Backward Stochastic Differential Equations, Numerical Mathematics: Theory, Methods and Applications , Volume 10 , Issue 2 , May 2017 , pp. 222 - 242\n",
    "\n",
    "DOI: https://doi.org/10.4208/nmtma.2017.s02\n",
    "\n",
    "(2)Weidong Zhao, Yu Fu, and Tao Zhou, New Kinds of High-Order Multistep Schemes for Coupled Forward Backward Stochastic Differential Equations, SIAM J. Sci. Comput., 36(4), A1731–A1751. (21 pages)\n",
    "\n",
    "Read More: https://epubs.siam.org/doi/abs/10.1137/130941274"
   ]
  },
  {
   "cell_type": "markdown",
   "id": "c9a17582",
   "metadata": {},
   "source": [
    "**(2) Consider the decoupled FBSDE:**$$\n",
    "\\begin{cases}dx_{t}=x_{t}dt+0.1x_{t}dW_{t}&\\\\ -dy_{t}=\\left( 10z_{t}+\\frac{y_{t}}{200} \\right)  dt-z_{t}dW_{t}&\\end{cases} \n",
    "$$"
   ]
  },
  {
   "cell_type": "markdown",
   "id": "4f5f7fee",
   "metadata": {},
   "source": [
    "We assume $\n",
    "x_{0}=1, T=1\n",
    "$,\n",
    "with the terminal conditions:$$\n",
    "y_{T}=e^{-x}\n",
    "$$\n",
    "The analytical solution: $$\n",
    "\\left( y_{t},z_{t}\\right)  =\\left( e^{-x},-\\frac{xe^{-x}}{10} \\right)  \n",
    "$$\n",
    "then we have the below definition:"
   ]
  },
  {
   "cell_type": "code",
   "execution_count": 10,
   "id": "db19b8c9",
   "metadata": {},
   "outputs": [],
   "source": [
    "def g(x,t):\n",
    "    return np.exp(-x)"
   ]
  },
  {
   "cell_type": "code",
   "execution_count": 11,
   "id": "7dbd901b",
   "metadata": {},
   "outputs": [],
   "source": [
    "def f(y,x,t,z):\n",
    "    return -((z/0.1)+0.5*0.1*0.1*y)"
   ]
  },
  {
   "cell_type": "code",
   "execution_count": 12,
   "id": "e954bd1f",
   "metadata": {},
   "outputs": [],
   "source": [
    "def Z_exact(x,t):\n",
    "    return -np.exp(-x)*0.1*x"
   ]
  },
  {
   "cell_type": "code",
   "execution_count": 13,
   "id": "b6be2387",
   "metadata": {},
   "outputs": [],
   "source": [
    "def sigma(x,t):\n",
    "    return 0.1*x"
   ]
  },
  {
   "cell_type": "code",
   "execution_count": 14,
   "id": "c89b9b82",
   "metadata": {},
   "outputs": [],
   "source": [
    "def beta(x,t):\n",
    "    return x"
   ]
  },
  {
   "cell_type": "code",
   "execution_count": 15,
   "id": "6349f257",
   "metadata": {},
   "outputs": [],
   "source": [
    "def expectation(I,x,sigma,beta,t,delta_t):\n",
    "    a,w=np.polynomial.hermite.hermgauss(10)\n",
    "    x = np.expand_dims(x, axis=1)\n",
    "    a = np.expand_dims(a, axis=0)\n",
    "    E_1=np.dot(I(x+beta(x,t)*delta_t+np.dot(sigma(x,t)*np.sqrt(2*delta_t),a)),w)/np.sqrt(np.pi)\n",
    "    E_2=np.dot(I(x+beta(x,t)*delta_t+np.dot(sigma(x,t)*np.sqrt(2*delta_t),a))*np.sqrt(2*delta_t)*a,w)/np.sqrt(np.pi)\n",
    "    return E_1,E_2"
   ]
  },
  {
   "cell_type": "code",
   "execution_count": 16,
   "id": "18253367",
   "metadata": {},
   "outputs": [],
   "source": [
    "def expectation_fm(I,x,sigma,beta,delta_t,NE,f,z):\n",
    "    e3=0\n",
    "    for i in range(0,NE):\n",
    "        e3+=f(I(x+beta(x,t)*delta_t+sigma(x,t)*np.sqrt(delta_t)*np.random.normal(0,1)),x,t,z(x+beta(x,t)*delta_t+sigma(x,t)*np.sqrt(delta_t)*np.random.normal(0,1)))\n",
    "    e3/=NE\n",
    "    return e3"
   ]
  },
  {
   "cell_type": "code",
   "execution_count": 17,
   "id": "eeefe235",
   "metadata": {},
   "outputs": [],
   "source": [
    "x=np.arange(0.9,1.1,0.05)"
   ]
  },
  {
   "cell_type": "code",
   "execution_count": 18,
   "id": "faf24739",
   "metadata": {},
   "outputs": [
    {
     "data": {
      "text/plain": [
       "array([0.9 , 0.95, 1.  , 1.05, 1.1 ])"
      ]
     },
     "execution_count": 18,
     "metadata": {},
     "output_type": "execute_result"
    }
   ],
   "source": [
    "x"
   ]
  },
  {
   "cell_type": "code",
   "execution_count": 19,
   "id": "02608e91",
   "metadata": {},
   "outputs": [],
   "source": [
    "N_=[32,64,128,256,512];T0=0;T=1;\n",
    "y=np.zeros(len(N_))\n",
    "z=np.zeros(len(N_))\n",
    "for N in range(len(N_)):\n",
    "    t,delta_t=np.linspace(T0,T,num=N_[N]+1,endpoint=True,retstep=True)\n",
    "    Y=np.zeros((N_[N]+1,len(x)))\n",
    "    Z=np.zeros((N_[N]+1,len(x)))\n",
    "    Y[-1]=g(x,T)\n",
    "    Z[-1]=Z_exact(x,T)\n",
    "    I=lagrange(x,g(x,T))\n",
    "    IZ=lagrange(x,Z_exact(x,T))\n",
    "    for n in range(N_[N]-1,-1,-1): \n",
    "        E_1,E_2=expectation(I,x,sigma,beta,t[n],delta_t)\n",
    "        E_3 = expectation_fm(I,x,sigma,beta,delta_t,500,f,IZ)\n",
    "        Z[n]=E_2/delta_t\n",
    "        Y[n]=E_1+delta_t*E_3\n",
    "        I=lagrange(x,Y[n])\n",
    "        IZ=lagrange(x,Z[n])\n",
    "    y[N]=Y[0][2]\n",
    "    z[N]=Z[0][2]"
   ]
  },
  {
   "cell_type": "code",
   "execution_count": 20,
   "id": "5762ef97",
   "metadata": {},
   "outputs": [],
   "source": [
    "exact_y,exact_z=g(1,0),Z_exact(1,0)"
   ]
  },
  {
   "cell_type": "code",
   "execution_count": 21,
   "id": "b996fdb3",
   "metadata": {},
   "outputs": [
    {
     "name": "stdout",
     "output_type": "stream",
     "text": [
      "+-----+------------+---------------------+-------------+-----------------------+-------------+-------------+\n",
      "|  N  |  y_exact   |          y          |   z_exact   |           z           | |y-y_exact| | |z-z_exact| |\n",
      "+-----+------------+---------------------+-------------+-----------------------+-------------+-------------+\n",
      "|  32 | 0.36787944 | 0.36176979788518737 | -0.03678794 | -0.036952601504824434 |  0.00610964 |  0.00016466 |\n",
      "|  64 | 0.36787944 | 0.36496121331788506 | -0.03678794 |  -0.03670272358811309 |  0.00291823 |  0.00008522 |\n",
      "| 128 | 0.36787944 | 0.36644705135081207 | -0.03678794 |  -0.03656558249022643 |  0.00143239 |  0.00022236 |\n",
      "| 256 | 0.36787944 |  0.3671661116619773 | -0.03678794 |  -0.03649495968640918 |  0.00071333 |  0.00029298 |\n",
      "| 512 | 0.36787944 | 0.36751995227090645 | -0.03678794 |  -0.03645818430962587 |  0.00035949 |  0.00032976 |\n",
      "+-----+------------+---------------------+-------------+-----------------------+-------------+-------------+\n"
     ]
    }
   ],
   "source": [
    "table = PrettyTable()\n",
    "table.field_names = [\"N\",\"y_exact\",\"y\",\"z_exact\",\"z\",\"|y-y_exact|\", \"|z-z_exact|\"]\n",
    "for i in range(len(N_)):\n",
    "    table.add_row([N_[i],\"{:.8f}\".format(exact_y),y[i],\"{:.8f}\".format(exact_z),z[i],\"{:.8f}\".format(abs(y[i]-exact_y)),\"{:.8f}\".format(abs(z[i]-exact_z))])\n",
    "print(table)"
   ]
  },
  {
   "cell_type": "markdown",
   "id": "c63282a0",
   "metadata": {},
   "source": [
    "**Reference:** Kong Tao, Weidong Zhao , Shige Peng, High-Accuracy Numerical Schemes for 2nd-order Forward-Backward Stochastic Differential Equations and its Application, Doctor of Philosophy Thesis at ShanDong University, 2015"
   ]
  },
  {
   "cell_type": "markdown",
   "id": "4f6b8690",
   "metadata": {},
   "source": [
    "\n"
   ]
  },
  {
   "cell_type": "markdown",
   "id": "669be1a7",
   "metadata": {},
   "source": [
    "**(3) Consider the pure BSDE:**\n",
    "    $$\n",
    "\\left\\{\\begin{array}{l}\n",
    "d y_{t}=\\left(\\frac{y_{t}}{2}-z_{t}\\right) d t-z_{t} d W_{t}, \\quad 0 \\leq t<T \\\\\n",
    "y_{T}=\\sin \\left(W_{T}+T\\right)\n",
    "\\end{array}\\right.\n",
    "$$"
   ]
  },
  {
   "cell_type": "markdown",
   "id": "1761f020",
   "metadata": {},
   "source": [
    "We assume $\n",
    "x_{0}=0, T=1,\n",
    "$with the analytical solution: $$\\left(y_{t}, z_{t}\\right)=\\left(\\sin \\left(W_{t}+t\\right), \\cos \\left(W_{t}+t\\right)\\right)$$\n",
    "then we have the below definition:"
   ]
  },
  {
   "cell_type": "code",
   "execution_count": 22,
   "id": "c4af2ca1",
   "metadata": {},
   "outputs": [],
   "source": [
    "def g(x,t):\n",
    "    return np.sin(x+t)"
   ]
  },
  {
   "cell_type": "code",
   "execution_count": 23,
   "id": "60edce4e",
   "metadata": {},
   "outputs": [],
   "source": [
    "def beta(x,t):\n",
    "    return 0"
   ]
  },
  {
   "cell_type": "code",
   "execution_count": 24,
   "id": "52513ea4",
   "metadata": {},
   "outputs": [],
   "source": [
    "def Z_exact(x,t):\n",
    "    return np.cos(x+t)"
   ]
  },
  {
   "cell_type": "code",
   "execution_count": 25,
   "id": "ff7f8db3",
   "metadata": {},
   "outputs": [],
   "source": [
    "def f(y,x,t,z):\n",
    "    return y/2-z"
   ]
  },
  {
   "cell_type": "code",
   "execution_count": 26,
   "id": "09e3c7a6",
   "metadata": {},
   "outputs": [],
   "source": [
    "def sigma(x,t):\n",
    "    return 1"
   ]
  },
  {
   "cell_type": "code",
   "execution_count": 27,
   "id": "e92df669",
   "metadata": {},
   "outputs": [],
   "source": [
    "def expectation(I,x,sigma,beta,t,delta_t):\n",
    "    a,w=np.polynomial.hermite.hermgauss(10)\n",
    "    x = np.expand_dims(x, axis=1)\n",
    "    a = np.expand_dims(a, axis=0)\n",
    "    E_1=np.dot(I(x+beta(x,t)*delta_t+np.dot(sigma(x,t)*np.sqrt(2*delta_t),a)),w)/np.sqrt(np.pi)\n",
    "    E_2=np.dot(I(x+beta(x,t)*delta_t+np.dot(sigma(x,t)*np.sqrt(2*delta_t),a))*np.sqrt(2*delta_t)*a,w)/np.sqrt(np.pi)\n",
    "    return E_1,E_2"
   ]
  },
  {
   "cell_type": "code",
   "execution_count": 28,
   "id": "88680a6c",
   "metadata": {},
   "outputs": [],
   "source": [
    "def expectation_fm(I,x,sigma,beta,delta_t,NE,f,z):\n",
    "    e3=0\n",
    "    for i in range(0,NE):\n",
    "        e3+=f(I(x+beta(x,t)*delta_t+sigma(x,t)*np.sqrt(delta_t)*np.random.normal(0,1)),x,t,z(x+beta(x,t)*delta_t+sigma(x,t)*np.sqrt(delta_t)*np.random.normal(0,1)))\n",
    "    e3/=NE\n",
    "    return e3"
   ]
  },
  {
   "cell_type": "code",
   "execution_count": 29,
   "id": "73aa977e",
   "metadata": {},
   "outputs": [
    {
     "data": {
      "text/plain": [
       "array([-0.1 , -0.05,  0.  ,  0.05])"
      ]
     },
     "execution_count": 29,
     "metadata": {},
     "output_type": "execute_result"
    }
   ],
   "source": [
    "x=np.arange(-0.1,0.1,0.05)\n",
    "x"
   ]
  },
  {
   "cell_type": "code",
   "execution_count": 30,
   "id": "b2327714",
   "metadata": {},
   "outputs": [
    {
     "data": {
      "text/plain": [
       "array([-0.09983342, -0.04997917,  0.        ,  0.04997917])"
      ]
     },
     "execution_count": 30,
     "metadata": {},
     "output_type": "execute_result"
    }
   ],
   "source": [
    "g(x,0)"
   ]
  },
  {
   "cell_type": "code",
   "execution_count": 31,
   "id": "db67d7fd",
   "metadata": {},
   "outputs": [],
   "source": [
    "N_=[1,2,3,4,5];T0=0;T=1;\n",
    "y=np.zeros(len(N_))\n",
    "z=np.zeros(len(N_))\n",
    "for N in range(len(N_)):\n",
    "    t,delta_t=np.linspace(T0,T,num=N_[N]+1,endpoint=True,retstep=True)\n",
    "    Y=np.zeros((N_[N]+1,len(x)))\n",
    "    Z=np.zeros((N_[N]+1,len(x)))\n",
    "    Y[-1]=g(x,T)\n",
    "    Z[-1]=Z_exact(x,T)\n",
    "    I=lagrange(x,g(x,T))\n",
    "    IZ=lagrange(x,Z_exact(x,T))\n",
    "    for n in range(N_[N]-1,-1,-1): \n",
    "        E_1,E_2=expectation(I,x,sigma,beta,t[n],delta_t)\n",
    "        E_3 = expectation_fm(I,x,sigma,beta,delta_t,5000,f,IZ)\n",
    "        Z[n]=E_2/delta_t\n",
    "        Y[n]=E_1+delta_t*E_3\n",
    "        I=lagrange(x,Y[n])\n",
    "        IZ=lagrange(x,Z[n])\n",
    "    y[N]=Y[0][2]\n",
    "    z[N]=Z[0][2]"
   ]
  },
  {
   "cell_type": "code",
   "execution_count": 32,
   "id": "3e248988",
   "metadata": {},
   "outputs": [],
   "source": [
    "exact_y,exact_z=g(0,0),Z_exact(0,0)"
   ]
  },
  {
   "cell_type": "code",
   "execution_count": 33,
   "id": "622a20e7",
   "metadata": {},
   "outputs": [
    {
     "name": "stdout",
     "output_type": "stream",
     "text": [
      "+---+---------+---------------------+---------+--------------------+-------------+-------------+\n",
      "| N | y_exact |          y          | z_exact |         z          | |y-y_exact| | |z-z_exact| |\n",
      "+---+---------+---------------------+---------+--------------------+-------------+-------------+\n",
      "| 1 |   0.0   |  0.3696406320612634 |   1.0   | 0.2598145988685001 |  0.36964063 |  0.74018540 |\n",
      "| 2 |   0.0   | 0.35636944084818767 |   1.0   | 0.5410198844725465 |  0.35636944 |  0.45898012 |\n",
      "| 3 |   0.0   |  0.2979929318608374 |   1.0   | 0.8026502883623208 |  0.29799293 |  0.19734971 |\n",
      "| 4 |   0.0   | 0.22123685320943262 |   1.0   | 0.9434306472544745 |  0.22123685 |  0.05656935 |\n",
      "| 5 |   0.0   | 0.16312507452432248 |   1.0   | 1.0345053324955502 |  0.16312507 |  0.03450533 |\n",
      "+---+---------+---------------------+---------+--------------------+-------------+-------------+\n"
     ]
    }
   ],
   "source": [
    "table = PrettyTable()\n",
    "table.field_names = [\"N\",\"y_exact\",\"y\",\"z_exact\",\"z\",\"|y-y_exact|\", \"|z-z_exact|\"]\n",
    "for i in range(len(N_)):\n",
    "    table.add_row([N_[i],exact_y,y[i],exact_z,z[i],\"{:.8f}\".format(abs(y[i]-exact_y)),\"{:.8f}\".format(abs(z[i]-exact_z))])\n",
    "print(table)"
   ]
  },
  {
   "cell_type": "markdown",
   "id": "9110dda5",
   "metadata": {},
   "source": [
    "**Reference:** Weidong Zhao, Lifeng Chen, and Shige Peng, New Kind of Accurate Numerical Method for Backward Stochastic Differential Equations, SIAM J. Sci. Comput., 28(4), 1563–1581. (19 pages)\n",
    "\n",
    "Read More: https://epubs.siam.org/doi/abs/10.1137/05063341X?mobileUi=0"
   ]
  },
  {
   "cell_type": "markdown",
   "id": "7e0be133",
   "metadata": {},
   "source": [
    "**(4) Consider the decoupled FBSDE:**$$\n",
    "\\left\\{\\begin{aligned}\n",
    "d x_{t} &=\\sin \\left(t+x_{t}\\right) d t+\\frac{3}{10} \\cos \\left(t+x_{t}\\right) d W_{t} \\\\\n",
    "-d y_{t} &=\\left(\\frac{3}{20} y_{t} z_{t}-\\cos \\left(t+x_{t}\\right)\\left(1+y_{t}\\right)\\right) d t-z_{t} d W_{t}\n",
    "\\end{aligned}\\right.\n",
    "$$"
   ]
  },
  {
   "cell_type": "markdown",
   "id": "dd976fa7",
   "metadata": {},
   "source": [
    "We assume $\n",
    "x_{0}=1, T=1\n",
    "$,\n",
    "with the terminal conditions:$$\n",
    "y_{T}=\\sin \\left(T+x_{T}\\right)\n",
    "$$\n",
    "The analytical solution: $$\n",
    "\\left(y_{t}, z_{t}\\right)=\\left(\\sin \\left(t+x_{t}\\right), \\frac{3}{10} \\cos ^{2}\\left(t+x_{t}\\right)\\right)\n",
    "$$\n",
    "then we have the below definition:"
   ]
  },
  {
   "cell_type": "code",
   "execution_count": 34,
   "id": "538a4c77",
   "metadata": {},
   "outputs": [],
   "source": [
    "def g(x,t):\n",
    "    return np.sin(t+x)"
   ]
  },
  {
   "cell_type": "code",
   "execution_count": 35,
   "id": "8201bdb1",
   "metadata": {},
   "outputs": [],
   "source": [
    "def Z_exact(x,t):\n",
    "    return (3/10)*(np.cos(t+x)**2)"
   ]
  },
  {
   "cell_type": "code",
   "execution_count": 36,
   "id": "6827cca7",
   "metadata": {},
   "outputs": [],
   "source": [
    "def f(y,x,t,z):\n",
    "    return 3*y*z/20-np.cos(t+x)*(1+y)"
   ]
  },
  {
   "cell_type": "code",
   "execution_count": 37,
   "id": "e59a5ae9",
   "metadata": {},
   "outputs": [],
   "source": [
    "def sigma(x,t):\n",
    "    return (3/10)*np.cos(t+x)"
   ]
  },
  {
   "cell_type": "code",
   "execution_count": 38,
   "id": "9f63a2af",
   "metadata": {},
   "outputs": [],
   "source": [
    "def beta(x,t):\n",
    "    return np.sin(t+x)"
   ]
  },
  {
   "cell_type": "code",
   "execution_count": 39,
   "id": "c5c15fb8",
   "metadata": {},
   "outputs": [],
   "source": [
    "def expectation(I,x,sigma,beta,t,delta_t):\n",
    "    a,w=np.polynomial.hermite.hermgauss(10)\n",
    "    x = np.expand_dims(x, axis=1)\n",
    "    a = np.expand_dims(a, axis=0)\n",
    "    E_1=np.dot(I(x+beta(x,t)*delta_t+np.dot(sigma(x,t)*np.sqrt(2*delta_t),a)),w)/np.sqrt(np.pi)\n",
    "    E_2=np.dot(I(x+beta(x,t)*delta_t+np.dot(sigma(x,t)*np.sqrt(2*delta_t),a))*np.sqrt(2*delta_t)*a,w)/np.sqrt(np.pi)\n",
    "    return E_1,E_2"
   ]
  },
  {
   "cell_type": "code",
   "execution_count": 40,
   "id": "930714bb",
   "metadata": {},
   "outputs": [],
   "source": [
    "def expectation_fm(I,x,sigma,beta,delta_t,NE,f,z,t):\n",
    "    e3=0\n",
    "    for i in range(0,NE):\n",
    "        e3+=f(I(x+beta(x,t)*delta_t+sigma(x,t)*np.sqrt(delta_t)*np.random.normal(0,1)),x,t,z(x+beta(x,t)*delta_t+sigma(x,t)*np.sqrt(delta_t)*np.random.normal(0,1)))\n",
    "    e3/=NE\n",
    "    return e3"
   ]
  },
  {
   "cell_type": "code",
   "execution_count": 41,
   "id": "cfd0437d",
   "metadata": {},
   "outputs": [],
   "source": [
    "x=np.arange(0.9,1.1,0.05)"
   ]
  },
  {
   "cell_type": "code",
   "execution_count": 42,
   "id": "b19edf83",
   "metadata": {},
   "outputs": [
    {
     "data": {
      "text/plain": [
       "array([0.9 , 0.95, 1.  , 1.05, 1.1 ])"
      ]
     },
     "execution_count": 42,
     "metadata": {},
     "output_type": "execute_result"
    }
   ],
   "source": [
    "x"
   ]
  },
  {
   "cell_type": "code",
   "execution_count": 43,
   "id": "cca172dd",
   "metadata": {},
   "outputs": [],
   "source": [
    "N_=[1,2,3,4,5,6,7,8,9];T0=0;T=1;\n",
    "y=np.zeros(len(N_))\n",
    "z=np.zeros(len(N_))\n",
    "for N in range(len(N_)):\n",
    "    t,delta_t=np.linspace(T0,T,num=N_[N]+1,endpoint=True,retstep=True)\n",
    "    Y=np.zeros((N_[N]+1,len(x)))\n",
    "    Z=np.zeros((N_[N]+1,len(x)))\n",
    "    Y[-1]=g(x,T)\n",
    "    Z[-1]=Z_exact(x,T)\n",
    "    I=lagrange(x,g(x,T))\n",
    "    IZ=lagrange(x,Z_exact(x,T))\n",
    "    for n in range(N_[N]-1,-1,-1): \n",
    "        E_1,E_2=expectation(I,x,sigma,beta,t[n],delta_t)\n",
    "        E_3 = expectation_fm(I,x,sigma,beta,delta_t,500,f,IZ,t[n])\n",
    "        Z[n]=E_2/delta_t\n",
    "        Y[n]=E_1+delta_t*E_3\n",
    "        I=lagrange(x,Y[n])\n",
    "        IZ=lagrange(x,Z[n])\n",
    "    y[N]=Y[0][2]\n",
    "    z[N]=Z[0][2]"
   ]
  },
  {
   "cell_type": "code",
   "execution_count": 44,
   "id": "4294e02e",
   "metadata": {},
   "outputs": [],
   "source": [
    "exact_y,exact_z=g(1,0),Z_exact(1,0)"
   ]
  },
  {
   "cell_type": "code",
   "execution_count": 45,
   "id": "85dff8ba",
   "metadata": {},
   "outputs": [
    {
     "name": "stdout",
     "output_type": "stream",
     "text": [
      "+---+------------+----------------------+------------+-----------------------+-------------+-------------+\n",
      "| N |  y_exact   |          y           |  z_exact   |           z           | |y-y_exact| | |z-z_exact| |\n",
      "+---+------------+----------------------+------------+-----------------------+-------------+-------------+\n",
      "| 1 | 0.84147098 | -0.39434256348992663 | 0.08757797 |  -0.1504663677214098  |  1.23581355 |  0.23804434 |\n",
      "| 2 | 0.84147098 |  0.0745601783036734  | 0.08757797 |  -0.05263065884706262 |  0.76691081 |  0.14020863 |\n",
      "| 3 | 0.84147098 |  0.2951743626551819  | 0.08757797 | -0.006287597612811497 |  0.54629662 |  0.09386557 |\n",
      "| 4 | 0.84147098 |  0.4203086809923051  | 0.08757797 |  0.018218393336173734 |  0.42116230 |  0.06935958 |\n",
      "| 5 | 0.84147098 |  0.4978103985163044  | 0.08757797 |  0.03210878694347611  |  0.34366059 |  0.05546919 |\n",
      "| 6 | 0.84147098 |  0.5509177832302845  | 0.08757797 |  0.04100438153925775  |  0.29055320 |  0.04657359 |\n",
      "| 7 | 0.84147098 |  0.5907251641174882  | 0.08757797 |  0.047943780238315636 |  0.25074582 |  0.03963419 |\n",
      "| 8 | 0.84147098 |  0.6201536635145553  | 0.08757797 |  0.052890283599525155 |  0.22131732 |  0.03468769 |\n",
      "| 9 | 0.84147098 |  0.6425916707478055  | 0.08757797 |  0.056494556135513574 |  0.19887931 |  0.03108342 |\n",
      "+---+------------+----------------------+------------+-----------------------+-------------+-------------+\n"
     ]
    }
   ],
   "source": [
    "table = PrettyTable()\n",
    "table.field_names = [\"N\",\"y_exact\",\"y\",\"z_exact\",\"z\",\"|y-y_exact|\", \"|z-z_exact|\"]\n",
    "for i in range(len(N_)):\n",
    "    table.add_row([N_[i],\"{:.8f}\".format(exact_y),y[i],\"{:.8f}\".format(exact_z),z[i],\"{:.8f}\".format(abs(y[i]-exact_y)),\"{:.8f}\".format(abs(z[i]-exact_z))])\n",
    "print(table)"
   ]
  },
  {
   "cell_type": "markdown",
   "id": "f9d2dc66",
   "metadata": {},
   "source": [
    "**Reference:** Tao Tang, Weidong Zhao and Tao Zhou, Deferred Correction Methods for Forward Backward Stochastic Differential Equations, Numerical Mathematics: Theory, Methods and Applications , Volume 10 , Issue 2 , May 2017 , pp. 222 - 242\n",
    "DOI: https://doi.org/10.4208/nmtma.2017.s02"
   ]
  },
  {
   "cell_type": "code",
   "execution_count": null,
   "id": "6e873451",
   "metadata": {},
   "outputs": [],
   "source": []
  }
 ],
 "metadata": {
  "kernelspec": {
   "display_name": "Python 3",
   "language": "python",
   "name": "python3"
  },
  "language_info": {
   "codemirror_mode": {
    "name": "ipython",
    "version": 3
   },
   "file_extension": ".py",
   "mimetype": "text/x-python",
   "name": "python",
   "nbconvert_exporter": "python",
   "pygments_lexer": "ipython3",
   "version": "3.8.5"
  }
 },
 "nbformat": 4,
 "nbformat_minor": 5
}
