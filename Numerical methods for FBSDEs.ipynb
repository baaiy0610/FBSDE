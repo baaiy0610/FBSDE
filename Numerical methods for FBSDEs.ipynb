{
 "cells": [
  {
   "cell_type": "markdown",
   "id": "373cf3da",
   "metadata": {},
   "source": [
    "# Technische Universität Berlin #\n",
    "**Fakultät II - Mathematik und Naturwissenschaften**\n",
    "\n",
    "**Seminar Stochastische Partielle Differentialgleichungen**\n",
    "\n",
    "*Prof. Dr. Wilhelm Stannat*\n",
    "\n",
    "*Yang Bai*\n",
    "\n",
    "*Studiengang: Wissenschaftliches Rechnen (Master)*\n",
    "\n",
    "*SoSe 2021*"
   ]
  },
  {
   "cell_type": "markdown",
   "id": "fc2eb317",
   "metadata": {},
   "source": [
    "## Import all necessary modules"
   ]
  },
  {
   "cell_type": "code",
   "execution_count": 1,
   "id": "6c990d2f",
   "metadata": {},
   "outputs": [],
   "source": [
    "import numpy as np\n",
    "from scipy.interpolate import lagrange\n",
    "from prettytable import PrettyTable\n",
    "from scipy import interpolate\n",
    "from scipy.misc import derivative"
   ]
  },
  {
   "cell_type": "markdown",
   "id": "cf2e353f",
   "metadata": {},
   "source": [
    "# L1: The $\\theta$ method for FBSDEs model:\n",
    "Let us use explicit euler method to calculate the numerical results"
   ]
  },
  {
   "cell_type": "markdown",
   "id": "6ec439eb",
   "metadata": {},
   "source": [
    "**(1) Consider the pure BSDE:**\n",
    "    $$\n",
    "\\left\\{\\begin{array}{l}\n",
    "d y_{t}=\\left(\\frac{y_{t}}{2}-z_{t}\\right) d t-z_{t} d W_{t}, \\quad 0 \\leq t<T \\\\\n",
    "y_{T}=\\sin \\left(W_{T}+T\\right)\n",
    "\\end{array}\\right.\n",
    "$$"
   ]
  },
  {
   "cell_type": "markdown",
   "id": "14bf364b",
   "metadata": {},
   "source": [
    "We assume $\n",
    "x_{0}=0, T=1,\n",
    "$with the analytical solution: $$\\left(y_{t}, z_{t}\\right)=\\left(\\sin \\left(W_{t}+t\\right), \\cos \\left(W_{t}+t\\right)\\right)$$\n",
    "then we have the below definition:"
   ]
  },
  {
   "cell_type": "code",
   "execution_count": 2,
   "id": "cf4fd7ac",
   "metadata": {},
   "outputs": [],
   "source": [
    "def g(x,t):\n",
    "    return np.sin(x+t)"
   ]
  },
  {
   "cell_type": "code",
   "execution_count": 3,
   "id": "4096a2b7",
   "metadata": {},
   "outputs": [],
   "source": [
    "def beta(x,t):\n",
    "    return 0"
   ]
  },
  {
   "cell_type": "code",
   "execution_count": 4,
   "id": "1d4d64cf",
   "metadata": {},
   "outputs": [],
   "source": [
    "def Z_exact(x,t):\n",
    "    return np.cos(x+t)"
   ]
  },
  {
   "cell_type": "code",
   "execution_count": 5,
   "id": "05a48789",
   "metadata": {},
   "outputs": [],
   "source": [
    "def f(y,x,t,z):\n",
    "    return y/2-z"
   ]
  },
  {
   "cell_type": "code",
   "execution_count": 6,
   "id": "9c6a8adc",
   "metadata": {},
   "outputs": [],
   "source": [
    "def sigma(x,t):\n",
    "    return 1"
   ]
  },
  {
   "cell_type": "code",
   "execution_count": null,
   "id": "66dacfce",
   "metadata": {},
   "outputs": [],
   "source": []
  },
  {
   "cell_type": "code",
   "execution_count": null,
   "id": "b78e62aa",
   "metadata": {},
   "outputs": [],
   "source": []
  },
  {
   "cell_type": "code",
   "execution_count": 7,
   "id": "ba95251d",
   "metadata": {},
   "outputs": [],
   "source": [
    "def expectation(I,x,sigma,beta,t,delta_t):\n",
    "    a,w=np.polynomial.hermite.hermgauss(10)\n",
    "    x = np.expand_dims(x, axis=1)\n",
    "    a = np.expand_dims(a, axis=0)\n",
    "    E_1=np.dot(I(x+beta(x,t)*delta_t+np.dot(sigma(x,t)*np.sqrt(2*delta_t),a),t),w)/np.sqrt(np.pi)\n",
    "    E_2=np.dot(I(x+beta(x,t)*delta_t+np.dot(sigma(x,t)*np.sqrt(2*delta_t),a),t)*np.sqrt(2*delta_t)*a,w)/np.sqrt(np.pi)\n",
    "    return E_1,E_2"
   ]
  },
  {
   "cell_type": "code",
   "execution_count": 8,
   "id": "67921a3d",
   "metadata": {},
   "outputs": [],
   "source": [
    "x=np.arange(0,0.0005,0.0001)"
   ]
  },
  {
   "cell_type": "code",
   "execution_count": 9,
   "id": "a72c28bc",
   "metadata": {},
   "outputs": [
    {
     "data": {
      "text/plain": [
       "array([0.    , 0.0001, 0.0002, 0.0003, 0.0004])"
      ]
     },
     "execution_count": 9,
     "metadata": {},
     "output_type": "execute_result"
    }
   ],
   "source": [
    "x"
   ]
  },
  {
   "cell_type": "code",
   "execution_count": 10,
   "id": "e24fd48c",
   "metadata": {},
   "outputs": [
    {
     "data": {
      "text/plain": [
       "array([0.00000000e+00, 9.99999998e-05, 1.99999999e-04, 2.99999996e-04,\n",
       "       3.99999989e-04])"
      ]
     },
     "execution_count": 10,
     "metadata": {},
     "output_type": "execute_result"
    }
   ],
   "source": [
    "g(x,0)"
   ]
  },
  {
   "cell_type": "code",
   "execution_count": 11,
   "id": "1be50920",
   "metadata": {},
   "outputs": [
    {
     "ename": "SyntaxError",
     "evalue": "invalid syntax (<ipython-input-11-f67c82a35f26>, line 7)",
     "output_type": "error",
     "traceback": [
      "\u001b[0;36m  File \u001b[0;32m\"<ipython-input-11-f67c82a35f26>\"\u001b[0;36m, line \u001b[0;32m7\u001b[0m\n\u001b[0;31m    Z=np.zeros((N_[N]+1,len(x)))\u001b[0m\n\u001b[0m    ^\u001b[0m\n\u001b[0;31mSyntaxError\u001b[0m\u001b[0;31m:\u001b[0m invalid syntax\n"
     ]
    }
   ],
   "source": [
    "N_=[5,10,20,40,60,80,100];T0=0;T=1;\n",
    "y=np.zeros(len(N_))\n",
    "z=np.zeros(len(N_))\n",
    "for N in range(len(N_)):\n",
    "    t,delta_t=np.linspace(T0,T,num=N_[N]+1,endpoint=True,retstep=True)\n",
    "    Y=np.zeros((N_[N]+1,len(x)))\\\n",
    "    Z=np.zeros((N_[N]+1,len(x)))\n",
    "    Y[-1]=g(x,T)\n",
    "    I=lagrange(x,g(x,T))\n",
    "    for n in range(N_[N]-1,-1,-1): \n",
    "        E_1,E_2=expectation(g,x,sigma,beta,t[n],delta_t)\n",
    "        Z[n]=E_2/delta_t\n",
    "        Y[n]=E_1+delta_t*f(t[n],x,g(x,t[n]),Z[n])\n",
    "        I=lagrange(x,Y[n])\n",
    "    y[N]=Y[0][0]\n",
    "    z[N]=Z[0][0]"
   ]
  },
  {
   "cell_type": "code",
   "execution_count": null,
   "id": "3f6b2e9e",
   "metadata": {},
   "outputs": [],
   "source": [
    "exact_y,exact_z=g(0,0),Z_exact(0,0)"
   ]
  },
  {
   "cell_type": "code",
   "execution_count": null,
   "id": "be9a1278",
   "metadata": {},
   "outputs": [],
   "source": [
    "table = PrettyTable()\n",
    "table.field_names = [\"N\",\"y_exact\",\"y\",\"z_exact\",\"z\",\"|y-y_exact|\", \"|z-z_exact|\"]\n",
    "for i in range(len(N_)):\n",
    "    table.add_row([N_[i],exact_y,y[i],exact_z,z[i],\"{:.8f}\".format(abs(y[i]-exact_y)),\"{:.8f}\".format(abs(z[i]-exact_z))])\n",
    "print(table)"
   ]
  },
  {
   "cell_type": "markdown",
   "id": "4806ac41",
   "metadata": {},
   "source": [
    " "
   ]
  },
  {
   "cell_type": "markdown",
   "id": "8c1aae5a",
   "metadata": {},
   "source": [
    "**(2) Consider the decoupled FBSDE:**$$\n",
    "\\left\\{\\begin{aligned}\n",
    "d x_{t} &=\\sin \\left(t+x_{t}\\right) d t+\\frac{3}{10} \\cos \\left(t+x_{t}\\right) d W_{t} \\\\\n",
    "-d y_{t} &=\\left(\\frac{3}{20} y_{t} z_{t}-\\cos \\left(t+x_{t}\\right)\\left(1+y_{t}\\right)\\right) d t-z_{t} d W_{t}\n",
    "\\end{aligned}\\right.\n",
    "$$"
   ]
  },
  {
   "cell_type": "markdown",
   "id": "a1e360fd",
   "metadata": {},
   "source": [
    "We assume $\n",
    "x_{0}=1, T=1\n",
    "$,\n",
    "with the terminal conditions:$$\n",
    "y_{T}=\\sin \\left(T+x_{T}\\right)\n",
    "$$\n",
    "The analytical solution: $$\n",
    "\\left(y_{t}, z_{t}\\right)=\\left(\\sin \\left(t+x_{t}\\right), \\frac{3}{10} \\cos ^{2}\\left(t+x_{t}\\right)\\right)\n",
    "$$\n",
    "then we have the below definition:"
   ]
  },
  {
   "cell_type": "code",
   "execution_count": null,
   "id": "77694378",
   "metadata": {},
   "outputs": [],
   "source": [
    "def g(x,t):\n",
    "    return np.sin(t+x)"
   ]
  },
  {
   "cell_type": "code",
   "execution_count": null,
   "id": "1ee9069c",
   "metadata": {},
   "outputs": [],
   "source": [
    "def Z_exact(x,t):\n",
    "    return (3/10)*(np.cos(t+x)**2)"
   ]
  },
  {
   "cell_type": "code",
   "execution_count": null,
   "id": "c7003b63",
   "metadata": {},
   "outputs": [],
   "source": [
    "def f(y,x,t,z):\n",
    "    return 3*y*z/20-np.cos(t+x)*(1+y)"
   ]
  },
  {
   "cell_type": "code",
   "execution_count": null,
   "id": "897bcfba",
   "metadata": {},
   "outputs": [],
   "source": [
    "def sigma(x,t):\n",
    "    return (3/10)*np.cos(t+x)"
   ]
  },
  {
   "cell_type": "code",
   "execution_count": null,
   "id": "c777f549",
   "metadata": {},
   "outputs": [],
   "source": [
    "def beta(x,t):\n",
    "    return np.sin(t+x)"
   ]
  },
  {
   "cell_type": "code",
   "execution_count": null,
   "id": "02070764",
   "metadata": {},
   "outputs": [],
   "source": [
    "def expectation(I,x,sigma,beta,t,delta_t):\n",
    "    a,w=np.polynomial.hermite.hermgauss(10)\n",
    "    x = np.expand_dims(x, axis=1)\n",
    "    a = np.expand_dims(a, axis=0)\n",
    "    E_1=np.dot(I(x+beta(x,t)*delta_t+np.dot(sigma(x,t)*np.sqrt(2*delta_t),a),t),w)/np.sqrt(np.pi)\n",
    "    E_2=np.dot(I(x+beta(x,t)*delta_t+np.dot(sigma(x,t)*np.sqrt(2*delta_t),a),t)*np.sqrt(2*delta_t)*a,w)/np.sqrt(np.pi)\n",
    "    return E_1,E_2"
   ]
  },
  {
   "cell_type": "code",
   "execution_count": null,
   "id": "622bd28d",
   "metadata": {},
   "outputs": [],
   "source": [
    "x=np.arange(0.9995,1.0005,0.0001)"
   ]
  },
  {
   "cell_type": "code",
   "execution_count": null,
   "id": "298220f0",
   "metadata": {},
   "outputs": [],
   "source": [
    "x"
   ]
  },
  {
   "cell_type": "code",
   "execution_count": null,
   "id": "bfcd7156",
   "metadata": {},
   "outputs": [],
   "source": [
    "g(x,0)"
   ]
  },
  {
   "cell_type": "code",
   "execution_count": null,
   "id": "092cd478",
   "metadata": {},
   "outputs": [],
   "source": [
    "N_=[5,10,20,40,60,80,100];T0=0;T=1;\n",
    "y=np.zeros(len(N_))\n",
    "z=np.zeros(len(N_))\n",
    "for N in range(len(N_)):\n",
    "    t,delta_t=np.linspace(T0,T,num=N_[N]+1,endpoint=True,retstep=True)\n",
    "    Y=np.zeros((N_[N]+1,len(x)))\n",
    "    Z=np.zeros((N_[N]+1,len(x)))\n",
    "    Y[-1]=g(x,T)\n",
    "    I=lagrange(x,g(x,T))\n",
    "    for n in range(N_[N]-1,-1,-1): \n",
    "        E_1,E_2=expectation(g,x,sigma,beta,t[n],delta_t)\n",
    "        Z[n]=E_2/delta_t\n",
    "        Y[n]=E_1+delta_t*f(t[n],x,g(x,t[n]),Z[n])\n",
    "        I=lagrange(x,Y[n])\n",
    "    y[N]=Y[0][0]\n",
    "    z[N]=Z[0][0]"
   ]
  },
  {
   "cell_type": "code",
   "execution_count": null,
   "id": "756979a8",
   "metadata": {},
   "outputs": [],
   "source": [
    "exact_y,exact_z=g(1,0),Z_exact(1,0)"
   ]
  },
  {
   "cell_type": "code",
   "execution_count": null,
   "id": "e80b013c",
   "metadata": {},
   "outputs": [],
   "source": [
    "table = PrettyTable()\n",
    "table.field_names = [\"N\",\"y_exact\",\"y\",\"z_exact\",\"z\",\"|y-y_exact|\", \"|z-z_exact|\"]\n",
    "for i in range(len(N_)):\n",
    "    table.add_row([N_[i],\"{:.10f}\".format(exact_y),y[i],\"{:.10f}\".format(exact_z),z[i],\"{:.5f}\".format(abs(y[i]-exact_y)),\"{:.5f}\".format(abs(z[i]-exact_z))])\n",
    "print(table)"
   ]
  },
  {
   "cell_type": "markdown",
   "id": "23971b48",
   "metadata": {},
   "source": [
    " "
   ]
  },
  {
   "cell_type": "markdown",
   "id": "68c66d8d",
   "metadata": {},
   "source": [
    "**(3) Consider the coupled FBSDE:**\n",
    "$$\n",
    "\\left\\{\\begin{aligned}\n",
    "d x_{t}=&\\left(y_{t}-t \\cos x_{t}\\right) d t+\\left(y_{t}-\\sin \\left(2 x_{t}\\right)\\right) d W_{t} \\\\\n",
    "-d y_{t}=&\\left(t \\sin \\left(2 x_{t}\\right) \\sin x_{t}-\\cos x_{t}-\\sin \\left(4 x_{t}\\right)\\right.\\\\\n",
    "&\\left.+t^{2} \\cos ^{2} x_{t}\\left(2 y_{t}-\\frac{3}{2} t \\cos x_{t}\\right)\\right) d t-z_{t} d W_{t}\n",
    "\\end{aligned}\\right.\n",
    "$$"
   ]
  },
  {
   "cell_type": "markdown",
   "id": "c3c484ca",
   "metadata": {},
   "source": [
    "We assume $\n",
    "x_{0}=\\frac{1}{2}, T=1\n",
    "$,\n",
    "with the terminal conditions:$$\n",
    "y_{T}=\\sin \\left(2 x_{T}\\right)+T \\cos x_{T}\n",
    "$$\n",
    "The analytical solution: $$\n",
    "\\left(y_{t}, z_{t}\\right)=\\left(\\sin \\left(2 x_{t}\\right)+t \\cos x_{t}, t\\left(2 \\cos \\left(2 x_{t}\\right)-t \\sin x_{t}\\right) \\cos x_{t}\\right)\n",
    "$$\n",
    "then we have the below definition:"
   ]
  },
  {
   "cell_type": "code",
   "execution_count": null,
   "id": "186ebf65",
   "metadata": {},
   "outputs": [],
   "source": [
    "def g(x,t):\n",
    "    return np.sin(2*x)+t*np.cos(x)"
   ]
  },
  {
   "cell_type": "code",
   "execution_count": null,
   "id": "ab0d11d0",
   "metadata": {},
   "outputs": [],
   "source": [
    "def Z_exact(x,t):\n",
    "    return (2*np.cos(2*x)-t*np.sin(x))*np.cos(x)"
   ]
  },
  {
   "cell_type": "code",
   "execution_count": null,
   "id": "629c2596",
   "metadata": {},
   "outputs": [],
   "source": [
    "def f(y,x,t,z):\n",
    "    return t*np.sin(2*x)*np.sin(x)-np.cos(x)-np.sin(4*x)+t*t*(np.cos(x)**2)*(2*y-3*t*np.cos(x)/2)"
   ]
  },
  {
   "cell_type": "code",
   "execution_count": null,
   "id": "db093537",
   "metadata": {},
   "outputs": [],
   "source": [
    "def sigma(x,y,t):\n",
    "    return y-np.sin(2*x)"
   ]
  },
  {
   "cell_type": "code",
   "execution_count": null,
   "id": "fc1186dc",
   "metadata": {},
   "outputs": [],
   "source": [
    "def beta(x,y,t):\n",
    "    return y-t*np.cos(x)"
   ]
  },
  {
   "cell_type": "code",
   "execution_count": null,
   "id": "0ff3a2ea",
   "metadata": {},
   "outputs": [],
   "source": [
    "def expectation(I,x,sigma,beta,t,delta_t,y):\n",
    "    a,w=np.polynomial.hermite.hermgauss(10)\n",
    "    x = np.expand_dims(x, axis=1)\n",
    "    y = np.expand_dims(y, axis=1)\n",
    "    a = np.expand_dims(a, axis=0)\n",
    "    E_1=np.dot(I(x+beta(x,y,t)*delta_t+np.dot(sigma(x,y,t)*np.sqrt(2*delta_t),a),t),w)/np.sqrt(np.pi)\n",
    "    E_2=np.dot(I(x+beta(x,y,t)*delta_t+np.dot(sigma(x,y,t)*np.sqrt(2*delta_t),a),t)*np.sqrt(2*delta_t)*a,w)/np.sqrt(np.pi)\n",
    "    return E_1,E_2"
   ]
  },
  {
   "cell_type": "code",
   "execution_count": null,
   "id": "e95a20a1",
   "metadata": {},
   "outputs": [],
   "source": [
    "x=np.arange(0.5000,0.5005,0.0001)"
   ]
  },
  {
   "cell_type": "code",
   "execution_count": null,
   "id": "b4568f89",
   "metadata": {},
   "outputs": [],
   "source": [
    "g(x,0)"
   ]
  },
  {
   "cell_type": "code",
   "execution_count": null,
   "id": "dbeadc5a",
   "metadata": {},
   "outputs": [],
   "source": [
    "N_=[5,10,20,40,60,80,100];T0=0;T=1;\n",
    "y=np.zeros(len(N_))\n",
    "z=np.zeros(len(N_))\n",
    "for N in range(len(N_)):\n",
    "    t,delta_t=np.linspace(T0,T,num=N_[N]+1,endpoint=True,retstep=True)\n",
    "    Y=np.zeros((N_[N]+1,len(x)))\n",
    "    Z=np.zeros((N_[N]+1,len(x)))\n",
    "    Y[-1]=g(x,T)\n",
    "    I=lagrange(x,g(x,T))\n",
    "    for n in range(N_[N]-1,-1,-1): \n",
    "        E_1,E_2=expectation(g,x,sigma,beta,t[n],delta_t,Y[-1])\n",
    "        Z[n]=E_2/delta_t\n",
    "        Y[n]=E_1+delta_t*f(t[n],x,g(x,t[n]),Z[n])\n",
    "        I=lagrange(x,Y[n])\n",
    "    y[N]=Y[0][0]\n",
    "    z[N]=Z[0][0]"
   ]
  },
  {
   "cell_type": "code",
   "execution_count": null,
   "id": "911282a6",
   "metadata": {},
   "outputs": [],
   "source": [
    "exact_y,exact_z=g(0.5,0),Z_exact(0.5,0)"
   ]
  },
  {
   "cell_type": "code",
   "execution_count": null,
   "id": "1e3b2b55",
   "metadata": {},
   "outputs": [],
   "source": [
    "table = PrettyTable()\n",
    "table.field_names = [\"N\",\"y_exact\",\"y\",\"z_exact\",\"z\",\"|y-y_exact|\", \"|z-z_exact|\"]\n",
    "for i in range(len(N_)):\n",
    "    table.add_row([N_[i],\"{:.10f}\".format(exact_y),y[i],\"{:.10f}\".format(exact_z),z[i],\"{:.4f}\".format(abs(y[i]-exact_y)),\"{:.4f}\".format(abs(z[i]-exact_z))])\n",
    "print(table)"
   ]
  },
  {
   "cell_type": "markdown",
   "id": "e57b5f9f",
   "metadata": {},
   "source": [
    "# L2: The Multistep method for FBSDEs model:\n"
   ]
  },
  {
   "cell_type": "code",
   "execution_count": null,
   "id": "b3e8c28d",
   "metadata": {},
   "outputs": [],
   "source": [
    "alpha=[[-1,1],[-3/2,2,-1/2],[-11/6,3,-3/2,1/3],[-25/12,4,-3,4/3,-1/4],[-137/60,5,-5,10/3,-5/4,1/5,],[-49/20,6,-15/2,20/3,-15/4,6/5,-1/6]]"
   ]
  },
  {
   "cell_type": "markdown",
   "id": "a1593ed3",
   "metadata": {},
   "source": [
    "**(1) Consider the pure BSDE:**\n",
    "    $$\n",
    "\\left\\{\\begin{array}{l}\n",
    "d y_{t}=\\left(\\frac{y_{t}}{2}-z_{t}\\right) d t-z_{t} d W_{t}, \\quad 0 \\leq t<T \\\\\n",
    "y_{T}=\\sin \\left(W_{T}+T\\right)\n",
    "\\end{array}\\right.\n",
    "$$"
   ]
  },
  {
   "cell_type": "markdown",
   "id": "8ba70068",
   "metadata": {},
   "source": [
    "We assume $\n",
    "x_{0}=0, T=1,\n",
    "$with the analytical solution: $$\\left(y_{t}, z_{t}\\right)=\\left(\\sin \\left(W_{t}+t\\right), \\cos \\left(W_{t}+t\\right)\\right)$$\n",
    "then we have the below definition:"
   ]
  },
  {
   "cell_type": "code",
   "execution_count": null,
   "id": "24862e5e",
   "metadata": {},
   "outputs": [],
   "source": [
    "def g(x,t):\n",
    "    return np.sin(x+t)"
   ]
  },
  {
   "cell_type": "code",
   "execution_count": null,
   "id": "8a12548a",
   "metadata": {},
   "outputs": [],
   "source": [
    "def Z_exact(x,t):\n",
    "    return np.cos(x+t)"
   ]
  },
  {
   "cell_type": "code",
   "execution_count": null,
   "id": "57f53f60",
   "metadata": {},
   "outputs": [],
   "source": [
    "def f(y,x,t,z):\n",
    "    return y/2-z"
   ]
  },
  {
   "cell_type": "code",
   "execution_count": null,
   "id": "0403e123",
   "metadata": {},
   "outputs": [],
   "source": [
    "def sigma(x,t):\n",
    "    return 1"
   ]
  },
  {
   "cell_type": "code",
   "execution_count": null,
   "id": "0cedca28",
   "metadata": {},
   "outputs": [],
   "source": [
    "def beta(x,t):\n",
    "    return 0"
   ]
  },
  {
   "cell_type": "code",
   "execution_count": null,
   "id": "2a8c8a7d",
   "metadata": {},
   "outputs": [],
   "source": [
    "def expectation(I,x,sigma,beta,t,delta_t):\n",
    "    a,w=np.polynomial.hermite.hermgauss(10)\n",
    "    x = np.expand_dims(x, axis=1)\n",
    "    a = np.expand_dims(a, axis=0)\n",
    "    E_1=np.dot(I(x+beta(x,t)*delta_t+np.dot(sigma(x,t)*np.sqrt(2*delta_t),a),t),w)/np.sqrt(np.pi)\n",
    "    E_2=np.dot(I(x+beta(x,t)*delta_t+np.dot(sigma(x,t)*np.sqrt(2*delta_t),a),t)*np.sqrt(2*delta_t)*a,w)/np.sqrt(np.pi)\n",
    "    return E_1,E_2"
   ]
  },
  {
   "cell_type": "code",
   "execution_count": null,
   "id": "9ff3eaf0",
   "metadata": {},
   "outputs": [],
   "source": [
    "x=np.arange(0,0.0005,0.0001)"
   ]
  },
  {
   "cell_type": "code",
   "execution_count": null,
   "id": "aeb449a1",
   "metadata": {},
   "outputs": [],
   "source": [
    "g(x,0)"
   ]
  },
  {
   "cell_type": "code",
   "execution_count": null,
   "id": "bd096d37",
   "metadata": {},
   "outputs": [],
   "source": [
    "N_=[32,64,128,256,512];T0=0;T=1;\n",
    "K_=[1,2,3,4,5,6]\n",
    "y=np.zeros(len(N_))\n",
    "z=np.zeros(len(N_))\n",
    "result_Y=np.zeros([len(N_),len(K_)])\n",
    "result_Z=np.zeros([len(N_),len(K_)])\n",
    "for N in range(len(N_)):\n",
    "    t,delta_t=np.linspace(T0,T,num=N_[N]+1,endpoint=True,retstep=True)\n",
    "    for k in K_:\n",
    "        E1=np.zeros((k+1,len(x)))\n",
    "        E2=np.zeros((k+1,len(x)))\n",
    "        for n in range(0,k+1): \n",
    "            E1[n],E2[n]=expectation(g,x,sigma,beta,T0,n*delta_t)\n",
    "        Z=np.dot(alpha[k-1][1:]/delta_t,E2[1:])\n",
    "        Y=(-np.dot(alpha[k-1][1:]/delta_t,E1[1:])-f(T0,x,g(x,T0),Z))/(alpha[k-1][0]/delta_t)\n",
    "        result_Y[N][k-1]=Y[0]\n",
    "        result_Z[N][k-1]=Z[0]"
   ]
  },
  {
   "cell_type": "code",
   "execution_count": null,
   "id": "ddfc44f9",
   "metadata": {},
   "outputs": [],
   "source": [
    "exact_y,exact_z=g(0,T0),Z_exact(0,T0)"
   ]
  },
  {
   "cell_type": "code",
   "execution_count": null,
   "id": "160efbbc",
   "metadata": {},
   "outputs": [],
   "source": [
    "table = PrettyTable()\n",
    "table.add_column(\"|y-y_exact|\",[\"k={}\".format(K_[i]) for i in range(len(K_))])\n",
    "for n in range(len(N_)):\n",
    "    table.add_column(\"N={}\".format(N_[n]),[\"{:.10e}\".format(abs(result_Y[n][i]-exact_y)) for i in range(len(K_))])\n",
    "print(table)"
   ]
  },
  {
   "cell_type": "code",
   "execution_count": null,
   "id": "afd334ef",
   "metadata": {},
   "outputs": [],
   "source": [
    "table = PrettyTable()\n",
    "table.add_column(\"|z-z_exact|\",[\"k={}\".format(K_[i]) for i in range(len(K_))])\n",
    "for n in range(len(N_)):\n",
    "    table.add_column(\"N={}\".format(N_[n]),[\"{:.10e}\".format(abs(result_Z[n][i]-exact_z)) for i in range(len(K_))])\n",
    "print(table)"
   ]
  },
  {
   "cell_type": "markdown",
   "id": "0bbd8be0",
   "metadata": {},
   "source": [
    "**(2) Consider the decoupled FBSDE:**$$\n",
    "\\left\\{\\begin{aligned}\n",
    "d x_{t} &=\\sin \\left(t+x_{t}\\right) d t+\\frac{3}{10} \\cos \\left(t+x_{t}\\right) d W_{t} \\\\\n",
    "-d y_{t} &=\\left(\\frac{3}{20} y_{t} z_{t}-\\cos \\left(t+x_{t}\\right)\\left(1+y_{t}\\right)\\right) d t-z_{t} d W_{t}\n",
    "\\end{aligned}\\right.\n",
    "$$"
   ]
  },
  {
   "cell_type": "markdown",
   "id": "ccb48bc8",
   "metadata": {},
   "source": [
    "We assume $\n",
    "x_{0}=1, T=1\n",
    "$,\n",
    "with the terminal conditions:$$\n",
    "y_{T}=\\sin \\left(T+x_{T}\\right)\n",
    "$$\n",
    "The analytical solution: $$\n",
    "\\left(y_{t}, z_{t}\\right)=\\left(\\sin \\left(t+x_{t}\\right), \\frac{3}{10} \\cos ^{2}\\left(t+x_{t}\\right)\\right)\n",
    "$$\n",
    "then we have the below definition:"
   ]
  },
  {
   "cell_type": "code",
   "execution_count": null,
   "id": "2f48f4a5",
   "metadata": {},
   "outputs": [],
   "source": [
    "def g(x,t):\n",
    "    return np.sin(t+x)"
   ]
  },
  {
   "cell_type": "code",
   "execution_count": null,
   "id": "9b428a00",
   "metadata": {},
   "outputs": [],
   "source": [
    "def Z_exact(x,t):\n",
    "    return (3/10)*(np.cos(t+x)**2)"
   ]
  },
  {
   "cell_type": "code",
   "execution_count": null,
   "id": "beb95025",
   "metadata": {},
   "outputs": [],
   "source": [
    "def f(y,x,t,z):\n",
    "    return 3*y*z/20-np.cos(t+x)*(1+y)"
   ]
  },
  {
   "cell_type": "code",
   "execution_count": null,
   "id": "3d49facc",
   "metadata": {},
   "outputs": [],
   "source": [
    "def sigma(x,t):\n",
    "    return (3/10)*np.cos(t+x)"
   ]
  },
  {
   "cell_type": "code",
   "execution_count": null,
   "id": "badc0722",
   "metadata": {},
   "outputs": [],
   "source": [
    "def beta(x,t):\n",
    "    return np.sin(t+x)"
   ]
  },
  {
   "cell_type": "code",
   "execution_count": null,
   "id": "24079f74",
   "metadata": {},
   "outputs": [],
   "source": [
    "def expectation(I,x,sigma,beta,t,delta_t):\n",
    "    a,w=np.polynomial.hermite.hermgauss(10)\n",
    "    x = np.expand_dims(x, axis=1)\n",
    "    a = np.expand_dims(a, axis=0)\n",
    "    E_1=np.dot(I(x+beta(x,t)*delta_t+np.dot(sigma(x,t)*np.sqrt(2*delta_t),a),t),w)/np.sqrt(np.pi)\n",
    "    E_2=np.dot(I(x+beta(x,t)*delta_t+np.dot(sigma(x,t)*np.sqrt(2*delta_t),a),t)*np.sqrt(2*delta_t)*a,w)/np.sqrt(np.pi)\n",
    "    return E_1,E_2"
   ]
  },
  {
   "cell_type": "code",
   "execution_count": null,
   "id": "c5fe8f38",
   "metadata": {},
   "outputs": [],
   "source": [
    "x=np.arange(0.9995,1.0005,0.0001)"
   ]
  },
  {
   "cell_type": "code",
   "execution_count": null,
   "id": "791279fd",
   "metadata": {},
   "outputs": [],
   "source": [
    "x"
   ]
  },
  {
   "cell_type": "code",
   "execution_count": null,
   "id": "3b1aad69",
   "metadata": {},
   "outputs": [],
   "source": [
    "N_=[32,64,128,256,512];T0=0;T=1;\n",
    "K_=[1,2,3,4,5,6]\n",
    "y=np.zeros(len(N_))\n",
    "z=np.zeros(len(N_))\n",
    "result_Y=np.zeros([len(N_),len(K_)])\n",
    "result_Z=np.zeros([len(N_),len(K_)])\n",
    "for N in range(len(N_)):\n",
    "    t,delta_t=np.linspace(T0,T,num=N_[N]+1,endpoint=True,retstep=True)\n",
    "    for k in K_:\n",
    "        E1=np.zeros((k+1,len(x)))\n",
    "        E2=np.zeros((k+1,len(x)))\n",
    "        for n in range(0,k+1): \n",
    "            E1[n],E2[n]=expectation(g,x,sigma,beta,T0,n*delta_t)\n",
    "        Z=np.dot(alpha[k-1][1:]/delta_t,E2[1:])\n",
    "        Y=(-np.dot(alpha[k-1][1:]/delta_t,E1[1:])-f(T0,x,g(x,T0),Z))/(alpha[k-1][0]/delta_t)\n",
    "        result_Y[N][k-1]=Y[5]\n",
    "        result_Z[N][k-1]=Z[5]"
   ]
  },
  {
   "cell_type": "code",
   "execution_count": null,
   "id": "1e102c00",
   "metadata": {},
   "outputs": [],
   "source": [
    "exact_y,exact_z=g(1,T0),Z_exact(1,T0)"
   ]
  },
  {
   "cell_type": "code",
   "execution_count": null,
   "id": "c9999bdb",
   "metadata": {},
   "outputs": [],
   "source": [
    "table = PrettyTable()\n",
    "table.add_column(\"|y-y_exact|\",[\"k={}\".format(K_[i]) for i in range(len(K_))])\n",
    "for n in range(len(N_)):\n",
    "    table.add_column(\"N={}\".format(N_[n]),[\"{:.10e}\".format(abs(result_Y[n][i]-exact_y)) for i in range(len(K_))])\n",
    "print(table)"
   ]
  },
  {
   "cell_type": "code",
   "execution_count": null,
   "id": "fb46608f",
   "metadata": {},
   "outputs": [],
   "source": [
    "table = PrettyTable()\n",
    "table.add_column(\"|z-z_exact|\",[\"k={}\".format(K_[i]) for i in range(len(K_))])\n",
    "for n in range(len(N_)):\n",
    "    table.add_column(\"N={}\".format(N_[n]),[\"{:.10e}\".format(abs(result_Z[n][i]-exact_z)) for i in range(len(K_))])\n",
    "print(table)"
   ]
  },
  {
   "cell_type": "markdown",
   "id": "6c020f45",
   "metadata": {},
   "source": [
    "**(2) Consider the decoupled FBSDE:**\n",
    "$$\n",
    "\\left\\{\\begin{array}{l}\n",
    "\\mathrm{d} X_{t}=\\frac{1}{1+2 \\exp \\left(t+X_{t}\\right)} \\mathrm{d} t+\\frac{\\exp \\left(t+X_{t}\\right)}{1+\\exp \\left(t+X_{t}\\right)} \\mathrm{d} W_{t} \\\\\n",
    "-\\mathrm{d} Y_{t}=\\left(-\\frac{2 Y_{t}}{1+2 \\exp \\left(t+X_{t}\\right)}-\\frac{1}{2}\\left(\\frac{Y_{t} Z_{t}}{1+\\exp \\left(t+X_{t}\\right)}-Y_{t}^{2} Z_{t}\\right)\\right) \\mathrm{d} t-Z_{t} \\mathrm{~d} W_{t}\n",
    "\\end{array}\\right.\n",
    "$$"
   ]
  },
  {
   "cell_type": "markdown",
   "id": "9011e2dd",
   "metadata": {},
   "source": [
    "We assume $\n",
    "x_{0}=0, T=1\n",
    "$,\n",
    "with the terminal conditions:$$\n",
    "Y_{T}=\\frac{\\exp \\left(T+X_{T}\\right)}{1+\\exp \\left(T+X_{T}\\right)}\n",
    "$$\n",
    "The analytical solution: $$\n",
    "Y_{t}=\\frac{\\exp \\left(t+X_{t}\\right)}{1+\\exp \\left(t+X_{t}\\right)}, \\quad Z_{t}=\\frac{\\left(\\exp \\left(t+X_{t}\\right)\\right)^{2}}{\\left(1+\\exp \\left(t+X_{t}\\right)\\right)^{3}}\n",
    "$$\n",
    "then we have the below definition:"
   ]
  },
  {
   "cell_type": "code",
   "execution_count": null,
   "id": "e4ecd7fe",
   "metadata": {},
   "outputs": [],
   "source": [
    "def g(x,T):\n",
    "    return np.exp(T+x)/(1+np.exp(T+x))\n",
    "def dg(x,t):\n",
    "    return np.exp(t+x)/((1+np.exp(t+x))**2)\n",
    "def Z_exact(x,t):\n",
    "    return (np.exp(t+x))**2/(1+np.exp(t+x))**3\n",
    "def f(t,x,y,z):\n",
    "    return (-2*y/(1+2*np.exp(t+x))-0.5*(y*z/(1+np.exp(t+x))-y*y*z))\n",
    "def sigma(x,t):\n",
    "    return np.exp(t+x)/(1+np.exp(t+x))\n",
    "def beta(x,t):\n",
    "    return 1/(1+2*np.exp(t+x))"
   ]
  },
  {
   "cell_type": "code",
   "execution_count": null,
   "id": "55b5ee6b",
   "metadata": {},
   "outputs": [],
   "source": [
    "def expectation(I,x,sigma,beta,t,delta_t):\n",
    "    a,w=np.polynomial.hermite.hermgauss(10)\n",
    "    x = np.expand_dims(x, axis=1)\n",
    "    a = np.expand_dims(a, axis=0)\n",
    "    E_1=np.dot(I(x+beta(x,t)*delta_t+np.dot(sigma(x,t)*np.sqrt(2*delta_t),a),t),w)/np.sqrt(np.pi)\n",
    "    E_2=np.dot(I(x+beta(x,t)*delta_t+np.dot(sigma(x,t)*np.sqrt(2*delta_t),a),t)*np.sqrt(2*delta_t)*a,w)/np.sqrt(np.pi)\n",
    "    return E_1,E_2"
   ]
  },
  {
   "cell_type": "code",
   "execution_count": null,
   "id": "d2115f2c",
   "metadata": {},
   "outputs": [],
   "source": [
    "x=np.arange(0,0.05,0.01)"
   ]
  },
  {
   "cell_type": "code",
   "execution_count": null,
   "id": "d7575178",
   "metadata": {},
   "outputs": [],
   "source": [
    "x"
   ]
  },
  {
   "cell_type": "code",
   "execution_count": null,
   "id": "85e90f01",
   "metadata": {},
   "outputs": [],
   "source": [
    "N_=[32,64,128,256,512];T0=0;T=1;\n",
    "K_=[1,2,3,4,5,6]\n",
    "y=np.zeros(len(N_))\n",
    "z=np.zeros(len(N_))\n",
    "result_Y=np.zeros([len(N_),len(K_)])\n",
    "result_Z=np.zeros([len(N_),len(K_)])\n",
    "for N in range(len(N_)):\n",
    "    t,delta_t=np.linspace(T0,T,num=N_[N]+1,endpoint=True,retstep=True)\n",
    "    for k in K_:\n",
    "        E1=np.zeros((k+1,len(x)))\n",
    "        E2=np.zeros((k+1,len(x)))\n",
    "        for n in range(0,k+1): \n",
    "            E1[n],E2[n]=expectation(g,x,sigma,beta,T0,n*delta_t)\n",
    "        Z=np.dot(alpha[k-1][1:]/delta_t,E2[1:])\n",
    "        Y=(-np.dot(alpha[k-1][1:]/delta_t,E1[1:])-f(T0,x,g(x,T0),Z))/(alpha[k-1][0]/delta_t)\n",
    "        result_Y[N][k-1]=Y[0]\n",
    "        result_Z[N][k-1]=Z[0]"
   ]
  },
  {
   "cell_type": "code",
   "execution_count": null,
   "id": "d9341312",
   "metadata": {},
   "outputs": [],
   "source": [
    "exact_y,exact_z=g(x,0),Z_exact(x,0)"
   ]
  },
  {
   "cell_type": "code",
   "execution_count": null,
   "id": "358d0fef",
   "metadata": {},
   "outputs": [],
   "source": [
    "table = PrettyTable()\n",
    "table.add_column(\"|y-y_exact|\",[\"k={}\".format(K_[i]) for i in range(len(K_))])\n",
    "for n in range(len(N_)):\n",
    "    table.add_column(\"N={}\".format(N_[n]),[\"{:.10e}\".format(abs(result_Y[n][i]-exact_y[0])) for i in range(len(K_))])\n",
    "print(table)"
   ]
  },
  {
   "cell_type": "code",
   "execution_count": null,
   "id": "576cbcd5",
   "metadata": {},
   "outputs": [],
   "source": [
    "table = PrettyTable()\n",
    "table.add_column(\"|z-z_exact|\",[\"k={}\".format(K_[i]) for i in range(len(K_))])\n",
    "for n in range(len(N_)):\n",
    "    table.add_column(\"N={}\".format(N_[n]),[\"{:.10e}\".format(abs(result_Z[n][i]-exact_z[0])) for i in range(len(K_))])\n",
    "print(table)"
   ]
  },
  {
   "cell_type": "markdown",
   "id": "c13e2219",
   "metadata": {},
   "source": [
    " "
   ]
  },
  {
   "cell_type": "markdown",
   "id": "c20b1a32",
   "metadata": {},
   "source": [
    " "
   ]
  },
  {
   "cell_type": "markdown",
   "id": "71e9d117",
   "metadata": {},
   "source": [
    "# L3: The Deferred Correction method for FBSDEs model:"
   ]
  },
  {
   "cell_type": "markdown",
   "id": "0d6e6397",
   "metadata": {},
   "source": [
    "**(1) Consider the decoupled FBSDE:**$$\n",
    "\\begin{cases}dx_{t}=x_{t}dt+0.1x_{t}dW_{t}&\\\\ -dy_{t}=\\left( 10z_{t}+\\frac{y_{t}}{200} \\right)  dt-z_{t}dW_{t}&\\end{cases} \n",
    "$$"
   ]
  },
  {
   "cell_type": "markdown",
   "id": "1d4e96ce",
   "metadata": {},
   "source": [
    "We assume $\n",
    "x_{0}=1, T=1\n",
    "$,\n",
    "with the terminal conditions:$$\n",
    "y_{T}=e^{-x}\n",
    "$$\n",
    "The analytical solution: $$\n",
    "\\left( y_{t},z_{t}\\right)  =\\left( e^{-x},-\\frac{xe^{-x}}{10} \\right)  \n",
    "$$\n",
    "then we have the below definition:"
   ]
  },
  {
   "cell_type": "code",
   "execution_count": null,
   "id": "e90aca4d",
   "metadata": {},
   "outputs": [],
   "source": [
    "def g(x,t):\n",
    "    return np.exp(-x)"
   ]
  },
  {
   "cell_type": "code",
   "execution_count": null,
   "id": "249e9940",
   "metadata": {},
   "outputs": [],
   "source": [
    "def dg(x,t):\n",
    "    return -np.exp(-x)"
   ]
  },
  {
   "cell_type": "code",
   "execution_count": null,
   "id": "bdbe644f",
   "metadata": {},
   "outputs": [],
   "source": [
    "def f(t,x,y,z):\n",
    "    return z/0.1+0.5*0.1*0.1*y"
   ]
  },
  {
   "cell_type": "code",
   "execution_count": null,
   "id": "bd815f9f",
   "metadata": {},
   "outputs": [],
   "source": [
    "def z_exact(x,t):\n",
    "    return -np.exp(-x)*0.1*x"
   ]
  },
  {
   "cell_type": "code",
   "execution_count": null,
   "id": "3e3f9378",
   "metadata": {},
   "outputs": [],
   "source": [
    "def sigma(x,t):\n",
    "    return 0.1*x"
   ]
  },
  {
   "cell_type": "code",
   "execution_count": null,
   "id": "0f749d63",
   "metadata": {},
   "outputs": [],
   "source": [
    "def beta(x,t):\n",
    "    return x"
   ]
  },
  {
   "cell_type": "code",
   "execution_count": null,
   "id": "05ba15bc",
   "metadata": {},
   "outputs": [],
   "source": [
    "def expectation(I,x,sigma,beta,t,delta_t):\n",
    "    a,w=np.polynomial.hermite.hermgauss(10)\n",
    "    x = np.expand_dims(x, axis=1)\n",
    "    a = np.expand_dims(a, axis=0)\n",
    "    E_1=np.dot(I(x+beta(x,t)*delta_t+np.dot(sigma(x,t)*np.sqrt(2*delta_t),a),t),w)/np.sqrt(np.pi)\n",
    "    E_2=np.dot(I(x+beta(x,t)*delta_t+np.dot(sigma(x,t)*np.sqrt(2*delta_t),a),t)*np.sqrt(2*delta_t)*a,w)/np.sqrt(np.pi)\n",
    "    E=np.dot((x+beta(x,t)*delta_t+np.dot(sigma(x,t)*np.sqrt(2*delta_t),a))*np.sqrt(2*delta_t)*a,w)/np.sqrt(np.pi)\n",
    "    return E_1,E_2"
   ]
  },
  {
   "cell_type": "code",
   "execution_count": null,
   "id": "519ef498",
   "metadata": {},
   "outputs": [],
   "source": [
    "def expectation2(I,x,sigma,beta,t,delta_t):\n",
    "    a,w=np.polynomial.hermite.hermgauss(10)\n",
    "    x = np.expand_dims(x, axis=1)\n",
    "    a = np.expand_dims(a, axis=0)\n",
    "    E_1=np.dot(I(x+beta(x,t)*delta_t+np.dot(sigma(x,t)*np.sqrt(2*delta_t),a)),w)/np.sqrt(np.pi)\n",
    "    E_2=np.dot(I(x+beta(x,t)*delta_t+np.dot(sigma(x,t)*np.sqrt(2*delta_t),a))*np.sqrt(2*delta_t)*a,w)/np.sqrt(np.pi)\n",
    "    E=np.dot((x+beta(x,t)*delta_t+np.dot(sigma(x,t)*np.sqrt(2*delta_t),a))*np.sqrt(2*delta_t)*a,w)/np.sqrt(np.pi)\n",
    "    return E_1,E_2"
   ]
  },
  {
   "cell_type": "code",
   "execution_count": null,
   "id": "832a9850",
   "metadata": {},
   "outputs": [],
   "source": [
    "x=np.arange(1,1.15,0.05)"
   ]
  },
  {
   "cell_type": "code",
   "execution_count": null,
   "id": "a5b54d43",
   "metadata": {},
   "outputs": [],
   "source": [
    "x"
   ]
  },
  {
   "cell_type": "code",
   "execution_count": null,
   "id": "09c8effe",
   "metadata": {},
   "outputs": [],
   "source": [
    "N=20;K_=[1,2,4,6,8];T=1;T0=0;\n",
    "result_Y=np.zeros(len(K_))\n",
    "result_Z=np.zeros(len(K_))\n",
    "num=0"
   ]
  },
  {
   "cell_type": "code",
   "execution_count": null,
   "id": "6b921259",
   "metadata": {},
   "outputs": [],
   "source": [
    "for K in K_:\n",
    "    t,delta_t=np.linspace(T0,T,num=N*K+1,endpoint=True,retstep=True)\n",
    "    tn,delta_tn=np.linspace(T0,T,num=N+1,endpoint=True,retstep=True)\n",
    "    Y=np.zeros((N+1,len(x)))\n",
    "    Z=np.zeros((N+1,len(x)))\n",
    "    Y[-1]=g(x,T)\n",
    "    I=lagrange(x,g(x,T))\n",
    "    for n in range(N-1,-1,-1): \n",
    "        y=np.zeros((K+1,len(x)))\n",
    "        z=np.zeros((K+1,len(x)))\n",
    "        y[-1]=Y[n+1]\n",
    "        for j in range(0,5):\n",
    "            delta_y=np.zeros((K+1,len(x)))\n",
    "            delta_z=np.zeros((K+1,len(x)))\n",
    "            I=lagrange(x,Y[n+1])\n",
    "            delta_I=lagrange(x,delta_y[-1])\n",
    "            delta_IZ=lagrange(x,delta_z[-1])\n",
    "            for k in range(K-1,-1,-1):\n",
    "                E_1,E_2=expectation(g,x,sigma,beta,t[n*K+k+1],delta_t)\n",
    "                z[k]=E_2/delta_t\n",
    "                y[k]=E_1+delta_t*f(t[n*K+k],x,I(x),z[k])\n",
    "                delta_E1,delta_E2=expectation2(delta_I,x,sigma,beta,t[n*K+k+1],delta_t)\n",
    "                delta_z[k]=delta_E2/delta_t-z[k]+sigma(x,t[n*K+k])*dg(x,t[n*K+k])\n",
    "                delta_y[k]=delta_E1+delta_t*(f(t[n*K+k],x,y[k]+delta_I(x),z[k]+delta_IZ(x))+dg(x,t[n*K+k])*beta(x,t[n*K+k])+0.5*dg(x,t[n*K+k])*sigma(x,t[n*K+k])**2)\n",
    "                #delta_y[k]=delta_E1+delta_t*(f(t[n*K+k],x,y[k]+delta_I(x),z[k]+delta_IZ(x))+np.polyder(I,1)(x)*beta(x,t[n*K+k])+0.5*np.polyder(I,2)(x)*sigma(x,t[n*K+k])**2)\n",
    "                delta_I=lagrange(x,delta_y[k])\n",
    "                delta_IZ=lagrange(x,delta_z[k])\n",
    "                I=lagrange(x,y[k])\n",
    "            y=y+delta_y\n",
    "            z=z+delta_z\n",
    "        Y[n]=y[0]\n",
    "        Z[n]=z[0]\n",
    "    result_Y[num]=Y[0][0]\n",
    "    result_Z[num]=Z[0][0]\n",
    "    num+=1"
   ]
  },
  {
   "cell_type": "code",
   "execution_count": null,
   "id": "b920b2aa",
   "metadata": {},
   "outputs": [],
   "source": [
    "exact_y,exact_z=g(1,0),z_exact(1,0)"
   ]
  },
  {
   "cell_type": "code",
   "execution_count": null,
   "id": "88fa4de7",
   "metadata": {},
   "outputs": [],
   "source": [
    "table = PrettyTable()\n",
    "table.field_names = [\" \",\"Exact_y\", \"Exact_z\", \"y\", \"z\",\"|y-y_exact|\",\"|z-z_exact|\"]\n",
    "for i in range(len(K_)):\n",
    "    table.add_row([\"K={}\".format(K_[i]),\"{:.8f}\".format(exact_y),\"{:.8f}\".format(exact_z),\"{:.8f}\".format(result_Y[i]), \"{:.8f}\".format(result_Z[len(K_)-i-1]),\"{:.10e}\".format(abs(result_Y[i]-exact_y)),\"{:.10e}\".format(abs(result_Z[len(K_)-i-1]-exact_z))])\n",
    "print(table)"
   ]
  },
  {
   "cell_type": "markdown",
   "id": "dcf6b72e",
   "metadata": {},
   "source": [
    "**(2) Consider the decoupled FBSDE:**\n",
    "$$\n",
    "\\left\\{\\begin{array}{l}\n",
    "\\mathrm{d} X_{t}=\\frac{1}{1+2 \\exp \\left(t+X_{t}\\right)} \\mathrm{d} t+\\frac{\\exp \\left(t+X_{t}\\right)}{1+\\exp \\left(t+X_{t}\\right)} \\mathrm{d} W_{t} \\\\\n",
    "-\\mathrm{d} Y_{t}=\\left(-\\frac{2 Y_{t}}{1+2 \\exp \\left(t+X_{t}\\right)}-\\frac{1}{2}\\left(\\frac{Y_{t} Z_{t}}{1+\\exp \\left(t+X_{t}\\right)}-Y_{t}^{2} Z_{t}\\right)\\right) \\mathrm{d} t-Z_{t} \\mathrm{~d} W_{t}\n",
    "\\end{array}\\right.\n",
    "$$"
   ]
  },
  {
   "cell_type": "markdown",
   "id": "63af8037",
   "metadata": {},
   "source": [
    "We assume $\n",
    "x_{0}=0, T=1\n",
    "$,\n",
    "with the terminal conditions:$$\n",
    "Y_{T}=\\frac{\\exp \\left(T+X_{T}\\right)}{1+\\exp \\left(T+X_{T}\\right)}\n",
    "$$\n",
    "The analytical solution: $$\n",
    "Y_{t}=\\frac{\\exp \\left(t+X_{t}\\right)}{1+\\exp \\left(t+X_{t}\\right)}, \\quad Z_{t}=\\frac{\\left(\\exp \\left(t+X_{t}\\right)\\right)^{2}}{\\left(1+\\exp \\left(t+X_{t}\\right)\\right)^{3}}\n",
    "$$\n",
    "then we have the below definition:"
   ]
  },
  {
   "cell_type": "code",
   "execution_count": null,
   "id": "7a3bbc26",
   "metadata": {},
   "outputs": [],
   "source": [
    "def g(x,T):\n",
    "    return np.exp(T+x)/(1+np.exp(T+x))\n",
    "def dg(x,t):\n",
    "    return np.exp(t+x)/((1+np.exp(t+x))**2)\n",
    "def Z_exact(x,t):\n",
    "    return (np.exp(t+x))**2/(1+np.exp(t+x))**3\n",
    "def f(t,x,y,z):\n",
    "    return (-2*y/(1+2*np.exp(t+x))-0.5*(y*z/(1+np.exp(t+x))-y*y*z))\n",
    "def sigma(x,t):\n",
    "    return np.exp(t+x)/(1+np.exp(t+x))\n",
    "def beta(x,t):\n",
    "    return 1/(1+2*np.exp(t+x))"
   ]
  },
  {
   "cell_type": "code",
   "execution_count": null,
   "id": "1d12e414",
   "metadata": {},
   "outputs": [],
   "source": [
    "def expectation(I,x,sigma,beta,t,delta_t):\n",
    "    a,w=np.polynomial.hermite.hermgauss(10)\n",
    "    x = np.expand_dims(x, axis=1)\n",
    "    a = np.expand_dims(a, axis=0)\n",
    "    E_1=np.dot(I(x+beta(x,t)*delta_t+np.dot(sigma(x,t)*np.sqrt(2*delta_t),a)),w)/np.sqrt(np.pi)\n",
    "    E_2=np.dot(I(x+beta(x,t)*delta_t+np.dot(sigma(x,t)*np.sqrt(2*delta_t),a))*np.sqrt(2*delta_t)*a,w)/np.sqrt(np.pi)\n",
    "    return E_1,E_2"
   ]
  },
  {
   "cell_type": "code",
   "execution_count": null,
   "id": "06de06ca",
   "metadata": {},
   "outputs": [],
   "source": [
    "x=np.arange(0,0.05,0.01)"
   ]
  },
  {
   "cell_type": "code",
   "execution_count": null,
   "id": "b946827f",
   "metadata": {},
   "outputs": [],
   "source": [
    "x"
   ]
  },
  {
   "cell_type": "code",
   "execution_count": null,
   "id": "4f2d254d",
   "metadata": {},
   "outputs": [],
   "source": [
    "N=20;T=1;T0=0;\n",
    "K_=[1,2,4,6,8];T=1;T0=0;\n",
    "result_Y=np.zeros(len(K_))\n",
    "result_Z=np.zeros(len(K_))\n",
    "num=0"
   ]
  },
  {
   "cell_type": "code",
   "execution_count": null,
   "id": "25e2d73d",
   "metadata": {},
   "outputs": [],
   "source": [
    "for K in K_:\n",
    "    t,delta_t=np.linspace(T0,T,num=N*K+1,endpoint=True,retstep=True)\n",
    "    tn,delta_tn=np.linspace(T0,T,num=N+1,endpoint=True,retstep=True)\n",
    "    Y=np.zeros((N+1,len(x)))\n",
    "    Z=np.zeros((N+1,len(x)))\n",
    "    Y[-1]=g(x,T)\n",
    "    I=lagrange(x,g(x,T))\n",
    "    for n in range(N-1,-1,-1): \n",
    "        y=np.zeros((K+1,len(x)))\n",
    "        z=np.zeros((K+1,len(x)))\n",
    "        y[-1]=Y[n+1]\n",
    "        for j in range(0,5):\n",
    "            delta_y=np.zeros((K+1,len(x)))\n",
    "            delta_z=np.zeros((K+1,len(x)))\n",
    "            I=lagrange(x,Y[n+1])\n",
    "            delta_I=lagrange(x,delta_y[-1])\n",
    "            delta_IZ=lagrange(x,delta_z[-1])\n",
    "            for k in range(K-1,-1,-1):\n",
    "                E_1,E_2=expectation(I,x,sigma,beta,t[n*K+k+1],delta_t)\n",
    "                z[k]=E_2/delta_t\n",
    "                y[k]=E_1+delta_t*f(t[n*K+k],x,I(x),z[k])\n",
    "                delta_E1,delta_E2=expectation(delta_I,x,sigma,beta,t[n*K+k+1],delta_t)\n",
    "                delta_z[k]=delta_E2/delta_t-z[k]+sigma(x,t[n*K+k])*np.polyder(I,1)(x)\n",
    "                delta_y[k]=delta_E1+delta_t*(f(t[n*K+k],x,y[k]+delta_I(x),z[k]+delta_IZ(x))+dg(x,t[n*K+k])+np.polyder(I,1)(x)*beta(x,t[n*K+k])+0.5*np.polyder(I,2)(x)*sigma(x,t[n*K+k])**2)\n",
    "                delta_I=lagrange(x,delta_y[k])\n",
    "                delta_IZ=lagrange(x,delta_z[k])\n",
    "                I=lagrange(x,y[k])\n",
    "            y=y+delta_y\n",
    "            z=z+delta_z\n",
    "        Y[n]=y[0]\n",
    "        Z[n]=z[0]\n",
    "    result_Y[num]=Y[0][0]\n",
    "    result_Z[num]=Z[0][0]\n",
    "    num+=1"
   ]
  },
  {
   "cell_type": "code",
   "execution_count": null,
   "id": "cae8ee17",
   "metadata": {},
   "outputs": [],
   "source": [
    "exact_y,exact_z=g(x,0),Z_exact(x,0)"
   ]
  },
  {
   "cell_type": "code",
   "execution_count": null,
   "id": "dfb65d7f",
   "metadata": {},
   "outputs": [],
   "source": [
    "table = PrettyTable()\n",
    "table.field_names = [\" \",\"Exact_y\", \"Exact_z\", \"y\", \"z\",\"|y-y_exact|\",\"|z-z_exact|\"]\n",
    "for i in range(len(K_)):\n",
    "    table.add_row([\"K={}\".format(K_[i]),\"{:.8f}\".format(exact_y[0]),\"{:.8f}\".format(exact_z[0]),\"{:.8f}\".format(result_Y[len(K_)-i-1]), \"{:.8f}\".format(result_Z[len(K_)-i-1]),\"{:.10e}\".format(abs(result_Y[len(K_)-i-1]-exact_y[0])),\"{:.10e}\".format(abs(result_Z[len(K_)-i-1]-exact_z[0]))])\n",
    "print(table)"
   ]
  }
 ],
 "metadata": {
  "kernelspec": {
   "display_name": "Python 3",
   "language": "python",
   "name": "python3"
  },
  "language_info": {
   "codemirror_mode": {
    "name": "ipython",
    "version": 3
   },
   "file_extension": ".py",
   "mimetype": "text/x-python",
   "name": "python",
   "nbconvert_exporter": "python",
   "pygments_lexer": "ipython3",
   "version": "3.8.5"
  }
 },
 "nbformat": 4,
 "nbformat_minor": 5
}
