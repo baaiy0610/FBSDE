{
 "cells": [
  {
   "cell_type": "markdown",
   "id": "373cf3da",
   "metadata": {},
   "source": [
    "# Technische Universität Berlin #\n",
    "**Fakultät II - Mathematik und Naturwissenschaften**\n",
    "\n",
    "**Seminar Stochastische Partielle Differentialgleichungen**\n",
    "\n",
    "*Prof. Dr. Wilhelm Stannat*\n",
    "\n",
    "*Yang Bai*\n",
    "\n",
    "*Studiengang: Wissenschaftliches Rechnen (Master)*\n",
    "\n",
    "*SoSe 2021*"
   ]
  },
  {
   "cell_type": "markdown",
   "id": "fc2eb317",
   "metadata": {},
   "source": [
    "## Import all necessary modules"
   ]
  },
  {
   "cell_type": "code",
   "execution_count": 1,
   "id": "6c990d2f",
   "metadata": {},
   "outputs": [],
   "source": [
    "import numpy as np\n",
    "from scipy.interpolate import lagrange\n",
    "from prettytable import PrettyTable\n",
    "from scipy import interpolate\n",
    "from scipy.misc import derivative"
   ]
  },
  {
   "cell_type": "markdown",
   "id": "cf2e353f",
   "metadata": {},
   "source": [
    "# L1: The $\\theta$ method for FBSDEs model:\n",
    "Let us use explicit euler method to calculate the numerical results"
   ]
  },
  {
   "cell_type": "markdown",
   "id": "6ec439eb",
   "metadata": {},
   "source": [
    "**(1) Consider the pure BSDE:**\n",
    "    $$\n",
    "\\left\\{\\begin{array}{l}\n",
    "d y_{t}=\\left(\\frac{y_{t}}{2}-z_{t}\\right) d t-z_{t} d W_{t}, \\quad 0 \\leq t<T \\\\\n",
    "y_{T}=\\sin \\left(W_{T}+T\\right)\n",
    "\\end{array}\\right.\n",
    "$$"
   ]
  },
  {
   "cell_type": "markdown",
   "id": "14bf364b",
   "metadata": {},
   "source": [
    "We assume $\n",
    "x_{0}=0, T=1,\n",
    "$with the analytical solution: $$\\left(y_{t}, z_{t}\\right)=\\left(\\sin \\left(W_{t}+t\\right), \\cos \\left(W_{t}+t\\right)\\right)$$\n",
    "then we have the below definition:"
   ]
  },
  {
   "cell_type": "code",
   "execution_count": 2,
   "id": "cf4fd7ac",
   "metadata": {},
   "outputs": [],
   "source": [
    "def g(x,t):\n",
    "    return np.sin(x+t)"
   ]
  },
  {
   "cell_type": "code",
   "execution_count": 3,
   "id": "4096a2b7",
   "metadata": {},
   "outputs": [],
   "source": [
    "def beta(x,t):\n",
    "    return 0"
   ]
  },
  {
   "cell_type": "code",
   "execution_count": 4,
   "id": "1d4d64cf",
   "metadata": {},
   "outputs": [],
   "source": [
    "def Z_exact(x,t):\n",
    "    return np.cos(x+t)"
   ]
  },
  {
   "cell_type": "code",
   "execution_count": 5,
   "id": "05a48789",
   "metadata": {},
   "outputs": [],
   "source": [
    "def f(y,x,t,z):\n",
    "    return y/2-z"
   ]
  },
  {
   "cell_type": "code",
   "execution_count": 6,
   "id": "9c6a8adc",
   "metadata": {},
   "outputs": [],
   "source": [
    "def sigma(x,t):\n",
    "    return 1"
   ]
  },
  {
   "cell_type": "code",
   "execution_count": 7,
   "id": "ba95251d",
   "metadata": {},
   "outputs": [],
   "source": [
    "def expectation(I,x,sigma,beta,t,delta_t):\n",
    "    a,w=np.polynomial.hermite.hermgauss(10)\n",
    "    x = np.expand_dims(x, axis=1)\n",
    "    a = np.expand_dims(a, axis=0)\n",
    "    E_1=np.dot(I(x+beta(x,t)*delta_t+np.dot(sigma(x,t)*np.sqrt(2*delta_t),a),t),w)/np.sqrt(np.pi)\n",
    "    E_2=np.dot(I(x+beta(x,t)*delta_t+np.dot(sigma(x,t)*np.sqrt(2*delta_t),a),t)*np.sqrt(2*delta_t)*a,w)/np.sqrt(np.pi)\n",
    "    return E_1,E_2"
   ]
  },
  {
   "cell_type": "code",
   "execution_count": 8,
   "id": "67921a3d",
   "metadata": {},
   "outputs": [],
   "source": [
    "x=np.arange(0,0.0005,0.0001)"
   ]
  },
  {
   "cell_type": "code",
   "execution_count": 9,
   "id": "a72c28bc",
   "metadata": {},
   "outputs": [
    {
     "data": {
      "text/plain": [
       "array([0.    , 0.0001, 0.0002, 0.0003, 0.0004])"
      ]
     },
     "execution_count": 9,
     "metadata": {},
     "output_type": "execute_result"
    }
   ],
   "source": [
    "x"
   ]
  },
  {
   "cell_type": "code",
   "execution_count": 10,
   "id": "e24fd48c",
   "metadata": {},
   "outputs": [
    {
     "data": {
      "text/plain": [
       "array([0.00000000e+00, 9.99999998e-05, 1.99999999e-04, 2.99999996e-04,\n",
       "       3.99999989e-04])"
      ]
     },
     "execution_count": 10,
     "metadata": {},
     "output_type": "execute_result"
    }
   ],
   "source": [
    "g(x,0)"
   ]
  },
  {
   "cell_type": "code",
   "execution_count": 11,
   "id": "1be50920",
   "metadata": {},
   "outputs": [],
   "source": [
    "N_=[5,10,20,40,60,80,100];T0=0;T=1;\n",
    "y=np.zeros(len(N_))\n",
    "z=np.zeros(len(N_))\n",
    "for N in range(len(N_)):\n",
    "    t,delta_t=np.linspace(T0,T,num=N_[N]+1,endpoint=True,retstep=True)\n",
    "    Y=np.zeros((N_[N]+1,len(x)))\n",
    "    Z=np.zeros((N_[N]+1,len(x)))\n",
    "    Y[-1]=g(x,T)\n",
    "    I=lagrange(x,g(x,T))\n",
    "    for n in range(N_[N]-1,-1,-1): \n",
    "        E_1,E_2=expectation(g,x,sigma,beta,t[n],delta_t)\n",
    "        Z[n]=E_2/delta_t\n",
    "        Y[n]=E_1+delta_t*f(t[n],x,g(x,t[n]),Z[n])\n",
    "        I=lagrange(x,Y[n])\n",
    "    y[N]=Y[0][0]\n",
    "    z[N]=Z[0][0]"
   ]
  },
  {
   "cell_type": "code",
   "execution_count": 12,
   "id": "3f6b2e9e",
   "metadata": {},
   "outputs": [],
   "source": [
    "exact_y,exact_z=g(0,0),Z_exact(0,0)"
   ]
  },
  {
   "cell_type": "code",
   "execution_count": 13,
   "id": "be9a1278",
   "metadata": {},
   "outputs": [
    {
     "name": "stdout",
     "output_type": "stream",
     "text": [
      "+-----+---------+-----------------------+---------+--------------------+-------------+-------------+\n",
      "|  N  | y_exact |           y           | z_exact |         z          | |y-y_exact| | |z-z_exact| |\n",
      "+-----+---------+-----------------------+---------+--------------------+-------------+-------------+\n",
      "|  5  |   0.0   |  -0.18096748360719198 |   1.0   | 0.9048374180359599 |  0.18096748 |  0.09516258 |\n",
      "|  10 |   0.0   |  -0.09512294245007143 |   1.0   | 0.9512294245007142 |  0.09512294 |  0.04877058 |\n",
      "|  20 |   0.0   |  -0.04876549560141666 |   1.0   | 0.9753099120283332 |  0.04876550 |  0.02469009 |\n",
      "|  40 |   0.0   |  -0.02468944501234704 |   1.0   | 0.9875778004938816 |  0.02468945 |  0.01242220 |\n",
      "|  60 |   0.0   |  -0.0165283548773146  |   1.0   | 0.9917012926388761 |  0.01652835 |  0.00829871 |\n",
      "|  80 |   0.0   | -0.012422118632792438 |   1.0   | 0.9937694906233948 |  0.01242212 |  0.00623051 |\n",
      "| 100 |   0.0   | -0.009950124791926826 |   1.0   | 0.9950124791926823 |  0.00995012 |  0.00498752 |\n",
      "+-----+---------+-----------------------+---------+--------------------+-------------+-------------+\n"
     ]
    }
   ],
   "source": [
    "table = PrettyTable()\n",
    "table.field_names = [\"N\",\"y_exact\",\"y\",\"z_exact\",\"z\",\"|y-y_exact|\", \"|z-z_exact|\"]\n",
    "for i in range(len(N_)):\n",
    "    table.add_row([N_[i],exact_y,y[i],exact_z,z[i],\"{:.8f}\".format(abs(y[i]-exact_y)),\"{:.8f}\".format(abs(z[i]-exact_z))])\n",
    "print(table)"
   ]
  },
  {
   "cell_type": "markdown",
   "id": "4806ac41",
   "metadata": {},
   "source": [
    " "
   ]
  },
  {
   "cell_type": "markdown",
   "id": "8c1aae5a",
   "metadata": {},
   "source": [
    "**(2) Consider the decoupled FBSDE:**$$\n",
    "\\left\\{\\begin{aligned}\n",
    "d x_{t} &=\\sin \\left(t+x_{t}\\right) d t+\\frac{3}{10} \\cos \\left(t+x_{t}\\right) d W_{t} \\\\\n",
    "-d y_{t} &=\\left(\\frac{3}{20} y_{t} z_{t}-\\cos \\left(t+x_{t}\\right)\\left(1+y_{t}\\right)\\right) d t-z_{t} d W_{t}\n",
    "\\end{aligned}\\right.\n",
    "$$"
   ]
  },
  {
   "cell_type": "markdown",
   "id": "a1e360fd",
   "metadata": {},
   "source": [
    "We assume $\n",
    "x_{0}=1, T=1\n",
    "$,\n",
    "with the terminal conditions:$$\n",
    "y_{T}=\\sin \\left(T+x_{T}\\right)\n",
    "$$\n",
    "The analytical solution: $$\n",
    "\\left(y_{t}, z_{t}\\right)=\\left(\\sin \\left(t+x_{t}\\right), \\frac{3}{10} \\cos ^{2}\\left(t+x_{t}\\right)\\right)\n",
    "$$\n",
    "then we have the below definition:"
   ]
  },
  {
   "cell_type": "code",
   "execution_count": 14,
   "id": "77694378",
   "metadata": {},
   "outputs": [],
   "source": [
    "def g(x,t):\n",
    "    return np.sin(t+x)"
   ]
  },
  {
   "cell_type": "code",
   "execution_count": 15,
   "id": "1ee9069c",
   "metadata": {},
   "outputs": [],
   "source": [
    "def Z_exact(x,t):\n",
    "    return (3/10)*(np.cos(t+x)**2)"
   ]
  },
  {
   "cell_type": "code",
   "execution_count": 16,
   "id": "c7003b63",
   "metadata": {},
   "outputs": [],
   "source": [
    "def f(y,x,t,z):\n",
    "    return 3*y*z/20-np.cos(t+x)*(1+y)"
   ]
  },
  {
   "cell_type": "code",
   "execution_count": 17,
   "id": "897bcfba",
   "metadata": {},
   "outputs": [],
   "source": [
    "def sigma(x,t):\n",
    "    return (3/10)*np.cos(t+x)"
   ]
  },
  {
   "cell_type": "code",
   "execution_count": 18,
   "id": "c777f549",
   "metadata": {},
   "outputs": [],
   "source": [
    "def beta(x,t):\n",
    "    return np.sin(t+x)"
   ]
  },
  {
   "cell_type": "code",
   "execution_count": 19,
   "id": "02070764",
   "metadata": {},
   "outputs": [],
   "source": [
    "def expectation(I,x,sigma,beta,t,delta_t):\n",
    "    a,w=np.polynomial.hermite.hermgauss(10)\n",
    "    x = np.expand_dims(x, axis=1)\n",
    "    a = np.expand_dims(a, axis=0)\n",
    "    E_1=np.dot(I(x+beta(x,t)*delta_t+np.dot(sigma(x,t)*np.sqrt(2*delta_t),a),t),w)/np.sqrt(np.pi)\n",
    "    E_2=np.dot(I(x+beta(x,t)*delta_t+np.dot(sigma(x,t)*np.sqrt(2*delta_t),a),t)*np.sqrt(2*delta_t)*a,w)/np.sqrt(np.pi)\n",
    "    return E_1,E_2"
   ]
  },
  {
   "cell_type": "code",
   "execution_count": 20,
   "id": "622bd28d",
   "metadata": {},
   "outputs": [],
   "source": [
    "x=np.arange(0.9995,1.0005,0.0001)"
   ]
  },
  {
   "cell_type": "code",
   "execution_count": 21,
   "id": "298220f0",
   "metadata": {},
   "outputs": [
    {
     "data": {
      "text/plain": [
       "array([0.9995, 0.9996, 0.9997, 0.9998, 0.9999, 1.    , 1.0001, 1.0002,\n",
       "       1.0003, 1.0004])"
      ]
     },
     "execution_count": 21,
     "metadata": {},
     "output_type": "execute_result"
    }
   ],
   "source": [
    "x"
   ]
  },
  {
   "cell_type": "code",
   "execution_count": 22,
   "id": "bfcd7156",
   "metadata": {},
   "outputs": [
    {
     "data": {
      "text/plain": [
       "array([0.84120073, 0.8412548 , 0.84130886, 0.84136291, 0.84141695,\n",
       "       0.84147098, 0.84152501, 0.84157903, 0.84163304, 0.84168704])"
      ]
     },
     "execution_count": 22,
     "metadata": {},
     "output_type": "execute_result"
    }
   ],
   "source": [
    "g(x,0)"
   ]
  },
  {
   "cell_type": "code",
   "execution_count": 23,
   "id": "092cd478",
   "metadata": {},
   "outputs": [],
   "source": [
    "N_=[5,10,20,40,60,80,100];T0=0;T=1;\n",
    "y=np.zeros(len(N_))\n",
    "z=np.zeros(len(N_))\n",
    "for N in range(len(N_)):\n",
    "    t,delta_t=np.linspace(T0,T,num=N_[N]+1,endpoint=True,retstep=True)\n",
    "    Y=np.zeros((N_[N]+1,len(x)))\n",
    "    Z=np.zeros((N_[N]+1,len(x)))\n",
    "    Y[-1]=g(x,T)\n",
    "    I=lagrange(x,g(x,T))\n",
    "    for n in range(N_[N]-1,-1,-1): \n",
    "        E_1,E_2=expectation(g,x,sigma,beta,t[n],delta_t)\n",
    "        Z[n]=E_2/delta_t\n",
    "        Y[n]=E_1+delta_t*f(t[n],x,g(x,t[n]),Z[n])\n",
    "        I=lagrange(x,Y[n])\n",
    "    y[N]=Y[0][0]\n",
    "    z[N]=Z[0][0]"
   ]
  },
  {
   "cell_type": "code",
   "execution_count": 24,
   "id": "756979a8",
   "metadata": {},
   "outputs": [],
   "source": [
    "exact_y,exact_z=g(1,0),Z_exact(1,0)"
   ]
  },
  {
   "cell_type": "code",
   "execution_count": 25,
   "id": "e80b013c",
   "metadata": {},
   "outputs": [
    {
     "name": "stdout",
     "output_type": "stream",
     "text": [
      "+-----+--------------+--------------------+--------------+---------------------+-------------+-------------+\n",
      "|  N  |   y_exact    |         y          |   z_exact    |          z          | |y-y_exact| | |z-z_exact| |\n",
      "+-----+--------------+--------------------+--------------+---------------------+-------------+-------------+\n",
      "|  5  | 0.8414709848 | 0.9707770372067145 | 0.0875779745 | 0.06345935768739162 |   0.12931   |   0.02412   |\n",
      "|  10 | 0.8414709848 | 0.9091603184356346 | 0.0875779745 | 0.07583915587149832 |   0.06769   |   0.01174   |\n",
      "|  20 | 0.8414709848 | 0.8759571929581553 | 0.0875779745 | 0.08184527306074198 |   0.03449   |   0.00573   |\n",
      "|  40 | 0.8414709848 | 0.8587709501128755 | 0.0875779745 | 0.08479762669248507 |   0.01730   |   0.00278   |\n",
      "|  60 | 0.8414709848 | 0.852956651617527  | 0.0875779745 | 0.08577390310687542 |   0.01149   |   0.00180   |\n",
      "|  80 | 0.8414709848 | 0.8500335548970698 | 0.0875779745 | 0.08626054349257022 |   0.00856   |   0.00132   |\n",
      "| 100 | 0.8414709848 | 0.8482746058022789 | 0.0875779745 | 0.08655204491097979 |   0.00680   |   0.00103   |\n",
      "+-----+--------------+--------------------+--------------+---------------------+-------------+-------------+\n"
     ]
    }
   ],
   "source": [
    "table = PrettyTable()\n",
    "table.field_names = [\"N\",\"y_exact\",\"y\",\"z_exact\",\"z\",\"|y-y_exact|\", \"|z-z_exact|\"]\n",
    "for i in range(len(N_)):\n",
    "    table.add_row([N_[i],\"{:.10f}\".format(exact_y),y[i],\"{:.10f}\".format(exact_z),z[i],\"{:.5f}\".format(abs(y[i]-exact_y)),\"{:.5f}\".format(abs(z[i]-exact_z))])\n",
    "print(table)"
   ]
  },
  {
   "cell_type": "markdown",
   "id": "23971b48",
   "metadata": {},
   "source": [
    " "
   ]
  },
  {
   "cell_type": "markdown",
   "id": "68c66d8d",
   "metadata": {},
   "source": [
    "**(3) Consider the coupled FBSDE:**\n",
    "$$\n",
    "\\left\\{\\begin{aligned}\n",
    "d x_{t}=&\\left(y_{t}-t \\cos x_{t}\\right) d t+\\left(y_{t}-\\sin \\left(2 x_{t}\\right)\\right) d W_{t} \\\\\n",
    "-d y_{t}=&\\left(t \\sin \\left(2 x_{t}\\right) \\sin x_{t}-\\cos x_{t}-\\sin \\left(4 x_{t}\\right)\\right.\\\\\n",
    "&\\left.+t^{2} \\cos ^{2} x_{t}\\left(2 y_{t}-\\frac{3}{2} t \\cos x_{t}\\right)\\right) d t-z_{t} d W_{t}\n",
    "\\end{aligned}\\right.\n",
    "$$"
   ]
  },
  {
   "cell_type": "markdown",
   "id": "c3c484ca",
   "metadata": {},
   "source": [
    "We assume $\n",
    "x_{0}=\\frac{1}{2}, T=1\n",
    "$,\n",
    "with the terminal conditions:$$\n",
    "y_{T}=\\sin \\left(2 x_{T}\\right)+T \\cos x_{T}\n",
    "$$\n",
    "The analytical solution: $$\n",
    "\\left(y_{t}, z_{t}\\right)=\\left(\\sin \\left(2 x_{t}\\right)+t \\cos x_{t}, t\\left(2 \\cos \\left(2 x_{t}\\right)-t \\sin x_{t}\\right) \\cos x_{t}\\right)\n",
    "$$\n",
    "then we have the below definition:"
   ]
  },
  {
   "cell_type": "code",
   "execution_count": 26,
   "id": "186ebf65",
   "metadata": {},
   "outputs": [],
   "source": [
    "def g(x,t):\n",
    "    return np.sin(2*x)+t*np.cos(x)"
   ]
  },
  {
   "cell_type": "code",
   "execution_count": 27,
   "id": "ab0d11d0",
   "metadata": {},
   "outputs": [],
   "source": [
    "def Z_exact(x,t):\n",
    "    return (2*np.cos(2*x)-t*np.sin(x))*np.cos(x)"
   ]
  },
  {
   "cell_type": "code",
   "execution_count": 28,
   "id": "629c2596",
   "metadata": {},
   "outputs": [],
   "source": [
    "def f(y,x,t,z):\n",
    "    return t*np.sin(2*x)*np.sin(x)-np.cos(x)-np.sin(4*x)+t*t*(np.cos(x)**2)*(2*y-3*t*np.cos(x)/2)"
   ]
  },
  {
   "cell_type": "code",
   "execution_count": 29,
   "id": "db093537",
   "metadata": {},
   "outputs": [],
   "source": [
    "def sigma(x,y,t):\n",
    "    return y-np.sin(2*x)"
   ]
  },
  {
   "cell_type": "code",
   "execution_count": 30,
   "id": "fc1186dc",
   "metadata": {},
   "outputs": [],
   "source": [
    "def beta(x,y,t):\n",
    "    return y-t*np.cos(x)"
   ]
  },
  {
   "cell_type": "code",
   "execution_count": 31,
   "id": "0ff3a2ea",
   "metadata": {},
   "outputs": [],
   "source": [
    "def expectation(I,x,sigma,beta,t,delta_t,y):\n",
    "    a,w=np.polynomial.hermite.hermgauss(10)\n",
    "    x = np.expand_dims(x, axis=1)\n",
    "    y = np.expand_dims(y, axis=1)\n",
    "    a = np.expand_dims(a, axis=0)\n",
    "    E_1=np.dot(I(x+beta(x,y,t)*delta_t+np.dot(sigma(x,y,t)*np.sqrt(2*delta_t),a),t),w)/np.sqrt(np.pi)\n",
    "    E_2=np.dot(I(x+beta(x,y,t)*delta_t+np.dot(sigma(x,y,t)*np.sqrt(2*delta_t),a),t)*np.sqrt(2*delta_t)*a,w)/np.sqrt(np.pi)\n",
    "    return E_1,E_2"
   ]
  },
  {
   "cell_type": "code",
   "execution_count": 32,
   "id": "e95a20a1",
   "metadata": {},
   "outputs": [],
   "source": [
    "x=np.arange(0.5000,0.5005,0.0001)"
   ]
  },
  {
   "cell_type": "code",
   "execution_count": 33,
   "id": "b4568f89",
   "metadata": {},
   "outputs": [
    {
     "data": {
      "text/plain": [
       "array([0.84147098, 0.84157903, 0.84168704, 0.84179501, 0.84190296])"
      ]
     },
     "execution_count": 33,
     "metadata": {},
     "output_type": "execute_result"
    }
   ],
   "source": [
    "g(x,0)"
   ]
  },
  {
   "cell_type": "code",
   "execution_count": 34,
   "id": "dbeadc5a",
   "metadata": {},
   "outputs": [],
   "source": [
    "N_=[5,10,20,40,60,80,100];T0=0;T=1;\n",
    "y=np.zeros(len(N_))\n",
    "z=np.zeros(len(N_))\n",
    "for N in range(len(N_)):\n",
    "    t,delta_t=np.linspace(T0,T,num=N_[N]+1,endpoint=True,retstep=True)\n",
    "    Y=np.zeros((N_[N]+1,len(x)))\n",
    "    Z=np.zeros((N_[N]+1,len(x)))\n",
    "    Y[-1]=g(x,T)\n",
    "    I=lagrange(x,g(x,T))\n",
    "    for n in range(N_[N]-1,-1,-1): \n",
    "        E_1,E_2=expectation(g,x,sigma,beta,t[n],delta_t,Y[-1])\n",
    "        Z[n]=E_2/delta_t\n",
    "        Y[n]=E_1+delta_t*f(t[n],x,g(x,t[n]),Z[n])\n",
    "        I=lagrange(x,Y[n])\n",
    "    y[N]=Y[0][0]\n",
    "    z[N]=Z[0][0]"
   ]
  },
  {
   "cell_type": "code",
   "execution_count": 35,
   "id": "911282a6",
   "metadata": {},
   "outputs": [],
   "source": [
    "exact_y,exact_z=g(0.5,0),Z_exact(0.5,0)"
   ]
  },
  {
   "cell_type": "code",
   "execution_count": 36,
   "id": "1e3b2b55",
   "metadata": {},
   "outputs": [
    {
     "name": "stdout",
     "output_type": "stream",
     "text": [
      "+-----+--------------+--------------------+--------------+----------------------+-------------+-------------+\n",
      "|  N  |   y_exact    |         y          |   z_exact    |          z           | |y-y_exact| | |z-z_exact| |\n",
      "+-----+--------------+--------------------+--------------+----------------------+-------------+-------------+\n",
      "|  5  | 0.8414709848 | 0.3195695545862873 | 0.9483197636 | -0.15034078761468475 |    0.5219   |    1.0987   |\n",
      "|  10 | 0.8414709848 | 0.6301109238657783 | 0.9483197636 |  0.3385993301282737  |    0.2114   |    0.6097   |\n",
      "|  20 | 0.8414709848 | 0.7506144186535487 | 0.9483197636 |  0.6311697606618455  |    0.0909   |    0.3172   |\n",
      "|  40 | 0.8414709848 | 0.800039449466912  | 0.9483197636 |  0.7871283270173702  |    0.0414   |    0.1612   |\n",
      "|  60 | 0.8414709848 | 0.8147658795321547 | 0.9483197636 |  0.8403274846797593  |    0.0267   |    0.1080   |\n",
      "|  80 | 0.8414709848 | 0.8217894532591747 | 0.9483197636 |  0.8671336781975458  |    0.0197   |    0.0812   |\n",
      "| 100 | 0.8414709848 | 0.8258934340540254 | 0.9483197636 |  0.8832807142939495  |    0.0156   |    0.0650   |\n",
      "+-----+--------------+--------------------+--------------+----------------------+-------------+-------------+\n"
     ]
    }
   ],
   "source": [
    "table = PrettyTable()\n",
    "table.field_names = [\"N\",\"y_exact\",\"y\",\"z_exact\",\"z\",\"|y-y_exact|\", \"|z-z_exact|\"]\n",
    "for i in range(len(N_)):\n",
    "    table.add_row([N_[i],\"{:.10f}\".format(exact_y),y[i],\"{:.10f}\".format(exact_z),z[i],\"{:.4f}\".format(abs(y[i]-exact_y)),\"{:.4f}\".format(abs(z[i]-exact_z))])\n",
    "print(table)"
   ]
  },
  {
   "cell_type": "markdown",
   "id": "e57b5f9f",
   "metadata": {},
   "source": [
    "# L2: The Multistep method for FBSDEs model:\n"
   ]
  },
  {
   "cell_type": "code",
   "execution_count": 37,
   "id": "b3e8c28d",
   "metadata": {},
   "outputs": [],
   "source": [
    "alpha=[[-1,1],[-3/2,2,-1/2],[-11/6,3,-3/2,1/3],[-25/12,4,-3,4/3,-1/4],[-137/60,5,-5,10/3,-5/4,1/5,],[-49/20,6,-15/2,20/3,-15/4,6/5,-1/6]]"
   ]
  },
  {
   "cell_type": "markdown",
   "id": "a1593ed3",
   "metadata": {},
   "source": [
    "**(1) Consider the pure BSDE:**\n",
    "    $$\n",
    "\\left\\{\\begin{array}{l}\n",
    "d y_{t}=\\left(\\frac{y_{t}}{2}-z_{t}\\right) d t-z_{t} d W_{t}, \\quad 0 \\leq t<T \\\\\n",
    "y_{T}=\\sin \\left(W_{T}+T\\right)\n",
    "\\end{array}\\right.\n",
    "$$"
   ]
  },
  {
   "cell_type": "markdown",
   "id": "8ba70068",
   "metadata": {},
   "source": [
    "We assume $\n",
    "x_{0}=0, T=1,\n",
    "$with the analytical solution: $$\\left(y_{t}, z_{t}\\right)=\\left(\\sin \\left(W_{t}+t\\right), \\cos \\left(W_{t}+t\\right)\\right)$$\n",
    "then we have the below definition:"
   ]
  },
  {
   "cell_type": "code",
   "execution_count": 38,
   "id": "24862e5e",
   "metadata": {},
   "outputs": [],
   "source": [
    "def g(x,t):\n",
    "    return np.sin(x+t)"
   ]
  },
  {
   "cell_type": "code",
   "execution_count": 39,
   "id": "8a12548a",
   "metadata": {},
   "outputs": [],
   "source": [
    "def Z_exact(x,t):\n",
    "    return np.cos(x+t)"
   ]
  },
  {
   "cell_type": "code",
   "execution_count": 40,
   "id": "57f53f60",
   "metadata": {},
   "outputs": [],
   "source": [
    "def f(y,x,t,z):\n",
    "    return y/2-z"
   ]
  },
  {
   "cell_type": "code",
   "execution_count": 41,
   "id": "0403e123",
   "metadata": {},
   "outputs": [],
   "source": [
    "def sigma(x,t):\n",
    "    return 1"
   ]
  },
  {
   "cell_type": "code",
   "execution_count": 42,
   "id": "0cedca28",
   "metadata": {},
   "outputs": [],
   "source": [
    "def beta(x,t):\n",
    "    return 0"
   ]
  },
  {
   "cell_type": "code",
   "execution_count": 43,
   "id": "2a8c8a7d",
   "metadata": {},
   "outputs": [],
   "source": [
    "def expectation(I,x,sigma,beta,t,delta_t):\n",
    "    a,w=np.polynomial.hermite.hermgauss(10)\n",
    "    x = np.expand_dims(x, axis=1)\n",
    "    a = np.expand_dims(a, axis=0)\n",
    "    E_1=np.dot(I(x+beta(x,t)*delta_t+np.dot(sigma(x,t)*np.sqrt(2*delta_t),a),t),w)/np.sqrt(np.pi)\n",
    "    E_2=np.dot(I(x+beta(x,t)*delta_t+np.dot(sigma(x,t)*np.sqrt(2*delta_t),a),t)*np.sqrt(2*delta_t)*a,w)/np.sqrt(np.pi)\n",
    "    return E_1,E_2"
   ]
  },
  {
   "cell_type": "code",
   "execution_count": 44,
   "id": "9ff3eaf0",
   "metadata": {},
   "outputs": [],
   "source": [
    "x=np.arange(0,0.0005,0.0001)"
   ]
  },
  {
   "cell_type": "code",
   "execution_count": 45,
   "id": "aeb449a1",
   "metadata": {},
   "outputs": [
    {
     "data": {
      "text/plain": [
       "array([0.00000000e+00, 9.99999998e-05, 1.99999999e-04, 2.99999996e-04,\n",
       "       3.99999989e-04])"
      ]
     },
     "execution_count": 45,
     "metadata": {},
     "output_type": "execute_result"
    }
   ],
   "source": [
    "g(x,0)"
   ]
  },
  {
   "cell_type": "code",
   "execution_count": 46,
   "id": "bd096d37",
   "metadata": {},
   "outputs": [],
   "source": [
    "N_=[32,64,128,256,512];T0=0;T=1;\n",
    "K_=[1,2,3,4,5,6]\n",
    "y=np.zeros(len(N_))\n",
    "z=np.zeros(len(N_))\n",
    "result_Y=np.zeros([len(N_),len(K_)])\n",
    "result_Z=np.zeros([len(N_),len(K_)])\n",
    "for N in range(len(N_)):\n",
    "    t,delta_t=np.linspace(T0,T,num=N_[N]+1,endpoint=True,retstep=True)\n",
    "    for k in K_:\n",
    "        E1=np.zeros((k+1,len(x)))\n",
    "        E2=np.zeros((k+1,len(x)))\n",
    "        for n in range(0,k+1): \n",
    "            E1[n],E2[n]=expectation(g,x,sigma,beta,T0,n*delta_t)\n",
    "        Z=np.dot(alpha[k-1][1:]/delta_t,E2[1:])\n",
    "        Y=(-np.dot(alpha[k-1][1:]/delta_t,E1[1:])-f(T0,x,g(x,T0),Z))/(alpha[k-1][0]/delta_t)\n",
    "        result_Y[N][k-1]=Y[0]\n",
    "        result_Z[N][k-1]=Z[0]"
   ]
  },
  {
   "cell_type": "code",
   "execution_count": 47,
   "id": "ddfc44f9",
   "metadata": {},
   "outputs": [],
   "source": [
    "exact_y,exact_z=g(0,T0),Z_exact(0,T0)"
   ]
  },
  {
   "cell_type": "code",
   "execution_count": 48,
   "id": "160efbbc",
   "metadata": {},
   "outputs": [
    {
     "name": "stdout",
     "output_type": "stream",
     "text": [
      "+-------------+------------------+------------------+------------------+------------------+------------------+\n",
      "| |y-y_exact| |       N=32       |       N=64       |      N=128       |      N=256       |      N=512       |\n",
      "+-------------+------------------+------------------+------------------+------------------+------------------+\n",
      "|     k=1     | 3.0765513656e-02 | 1.5503405285e-02 | 7.7820419490e-03 | 3.8986280512e-03 | 1.9512185824e-03 |\n",
      "|     k=2     | 2.0828325824e-02 | 1.0416035828e-02 | 5.2082541702e-03 | 2.6041567519e-03 | 1.3020820928e-03 |\n",
      "|     k=3     | 1.7045391027e-02 | 8.5227232561e-03 | 4.2613633838e-03 | 2.1306818024e-03 | 1.0653409081e-03 |\n",
      "|     k=4     | 1.4999999133e-02 | 7.4999999725e-03 | 3.7499999991e-03 | 1.8750000000e-03 | 9.3750000000e-04 |\n",
      "|     k=5     | 1.3686131375e-02 | 6.8430656932e-03 | 3.4215328467e-03 | 1.7107664234e-03 | 8.5538321168e-04 |\n",
      "|     k=6     | 1.2755102041e-02 | 6.3775510204e-03 | 3.1887755102e-03 | 1.5943877551e-03 | 7.9719387755e-04 |\n",
      "+-------------+------------------+------------------+------------------+------------------+------------------+\n"
     ]
    }
   ],
   "source": [
    "table = PrettyTable()\n",
    "table.add_column(\"|y-y_exact|\",[\"k={}\".format(K_[i]) for i in range(len(K_))])\n",
    "for n in range(len(N_)):\n",
    "    table.add_column(\"N={}\".format(N_[n]),[\"{:.10e}\".format(abs(result_Y[n][i]-exact_y)) for i in range(len(K_))])\n",
    "print(table)"
   ]
  },
  {
   "cell_type": "code",
   "execution_count": 49,
   "id": "afd334ef",
   "metadata": {},
   "outputs": [
    {
     "name": "stdout",
     "output_type": "stream",
     "text": [
      "+-------------+------------------+------------------+------------------+------------------+------------------+\n",
      "| |z-z_exact| |       N=32       |       N=64       |      N=128       |      N=256       |      N=512       |\n",
      "+-------------+------------------+------------------+------------------+------------------+------------------+\n",
      "|     k=1     | 1.5503562995e-02 | 7.7820617398e-03 | 3.8986305299e-03 | 1.9512188925e-03 | 9.7608581802e-04 |\n",
      "|     k=2     | 2.4036046553e-04 | 6.0560484921e-05 | 1.5199320008e-05 | 3.8072551661e-06 | 9.5274352385e-07 |\n",
      "|     k=3     | 3.7264436186e-06 | 4.7128543224e-07 | 5.9256533125e-08 | 7.4287879182e-09 | 9.2995955381e-10 |\n",
      "|     k=4     | 5.7773153928e-08 | 3.6675728010e-09 | 2.3101986990e-10 | 1.4495626921e-11 | 9.0849550105e-13 |\n",
      "|     k=5     | 8.9569129891e-10 | 2.8541502495e-11 | 9.0105700679e-13 | 2.9420910153e-14 | 2.2204460493e-15 |\n",
      "|     k=6     | 1.3889556172e-11 | 2.2282176104e-13 | 5.3290705182e-15 | 4.8849813084e-15 | 2.6645352591e-15 |\n",
      "+-------------+------------------+------------------+------------------+------------------+------------------+\n"
     ]
    }
   ],
   "source": [
    "table = PrettyTable()\n",
    "table.add_column(\"|z-z_exact|\",[\"k={}\".format(K_[i]) for i in range(len(K_))])\n",
    "for n in range(len(N_)):\n",
    "    table.add_column(\"N={}\".format(N_[n]),[\"{:.10e}\".format(abs(result_Z[n][i]-exact_z)) for i in range(len(K_))])\n",
    "print(table)"
   ]
  },
  {
   "cell_type": "markdown",
   "id": "0bbd8be0",
   "metadata": {},
   "source": [
    "**(2) Consider the decoupled FBSDE:**$$\n",
    "\\left\\{\\begin{aligned}\n",
    "d x_{t} &=\\sin \\left(t+x_{t}\\right) d t+\\frac{3}{10} \\cos \\left(t+x_{t}\\right) d W_{t} \\\\\n",
    "-d y_{t} &=\\left(\\frac{3}{20} y_{t} z_{t}-\\cos \\left(t+x_{t}\\right)\\left(1+y_{t}\\right)\\right) d t-z_{t} d W_{t}\n",
    "\\end{aligned}\\right.\n",
    "$$"
   ]
  },
  {
   "cell_type": "markdown",
   "id": "ccb48bc8",
   "metadata": {},
   "source": [
    "We assume $\n",
    "x_{0}=1, T=1\n",
    "$,\n",
    "with the terminal conditions:$$\n",
    "y_{T}=\\sin \\left(T+x_{T}\\right)\n",
    "$$\n",
    "The analytical solution: $$\n",
    "\\left(y_{t}, z_{t}\\right)=\\left(\\sin \\left(t+x_{t}\\right), \\frac{3}{10} \\cos ^{2}\\left(t+x_{t}\\right)\\right)\n",
    "$$\n",
    "then we have the below definition:"
   ]
  },
  {
   "cell_type": "code",
   "execution_count": 50,
   "id": "2f48f4a5",
   "metadata": {},
   "outputs": [],
   "source": [
    "def g(x,t):\n",
    "    return np.sin(t+x)"
   ]
  },
  {
   "cell_type": "code",
   "execution_count": 51,
   "id": "9b428a00",
   "metadata": {},
   "outputs": [],
   "source": [
    "def Z_exact(x,t):\n",
    "    return (3/10)*(np.cos(t+x)**2)"
   ]
  },
  {
   "cell_type": "code",
   "execution_count": 52,
   "id": "beb95025",
   "metadata": {},
   "outputs": [],
   "source": [
    "def f(y,x,t,z):\n",
    "    return 3*y*z/20-np.cos(t+x)*(1+y)"
   ]
  },
  {
   "cell_type": "code",
   "execution_count": 53,
   "id": "3d49facc",
   "metadata": {},
   "outputs": [],
   "source": [
    "def sigma(x,t):\n",
    "    return (3/10)*np.cos(t+x)"
   ]
  },
  {
   "cell_type": "code",
   "execution_count": 54,
   "id": "badc0722",
   "metadata": {},
   "outputs": [],
   "source": [
    "def beta(x,t):\n",
    "    return np.sin(t+x)"
   ]
  },
  {
   "cell_type": "code",
   "execution_count": 55,
   "id": "24079f74",
   "metadata": {},
   "outputs": [],
   "source": [
    "def expectation(I,x,sigma,beta,t,delta_t):\n",
    "    a,w=np.polynomial.hermite.hermgauss(10)\n",
    "    x = np.expand_dims(x, axis=1)\n",
    "    a = np.expand_dims(a, axis=0)\n",
    "    E_1=np.dot(I(x+beta(x,t)*delta_t+np.dot(sigma(x,t)*np.sqrt(2*delta_t),a),t),w)/np.sqrt(np.pi)\n",
    "    E_2=np.dot(I(x+beta(x,t)*delta_t+np.dot(sigma(x,t)*np.sqrt(2*delta_t),a),t)*np.sqrt(2*delta_t)*a,w)/np.sqrt(np.pi)\n",
    "    return E_1,E_2"
   ]
  },
  {
   "cell_type": "code",
   "execution_count": 56,
   "id": "c5fe8f38",
   "metadata": {},
   "outputs": [],
   "source": [
    "x=np.arange(0.9995,1.0005,0.0001)"
   ]
  },
  {
   "cell_type": "code",
   "execution_count": 57,
   "id": "791279fd",
   "metadata": {},
   "outputs": [
    {
     "data": {
      "text/plain": [
       "array([0.9995, 0.9996, 0.9997, 0.9998, 0.9999, 1.    , 1.0001, 1.0002,\n",
       "       1.0003, 1.0004])"
      ]
     },
     "execution_count": 57,
     "metadata": {},
     "output_type": "execute_result"
    }
   ],
   "source": [
    "x"
   ]
  },
  {
   "cell_type": "code",
   "execution_count": 58,
   "id": "3b1aad69",
   "metadata": {},
   "outputs": [],
   "source": [
    "N_=[32,64,128,256,512];T0=0;T=1;\n",
    "K_=[1,2,3,4,5,6]\n",
    "y=np.zeros(len(N_))\n",
    "z=np.zeros(len(N_))\n",
    "result_Y=np.zeros([len(N_),len(K_)])\n",
    "result_Z=np.zeros([len(N_),len(K_)])\n",
    "for N in range(len(N_)):\n",
    "    t,delta_t=np.linspace(T0,T,num=N_[N]+1,endpoint=True,retstep=True)\n",
    "    for k in K_:\n",
    "        E1=np.zeros((k+1,len(x)))\n",
    "        E2=np.zeros((k+1,len(x)))\n",
    "        for n in range(0,k+1): \n",
    "            E1[n],E2[n]=expectation(g,x,sigma,beta,T0,n*delta_t)\n",
    "        Z=np.dot(alpha[k-1][1:]/delta_t,E2[1:])\n",
    "        Y=(-np.dot(alpha[k-1][1:]/delta_t,E1[1:])-f(T0,x,g(x,T0),Z))/(alpha[k-1][0]/delta_t)\n",
    "        result_Y[N][k-1]=Y[5]\n",
    "        result_Z[N][k-1]=Z[5]"
   ]
  },
  {
   "cell_type": "code",
   "execution_count": 59,
   "id": "1e102c00",
   "metadata": {},
   "outputs": [],
   "source": [
    "exact_y,exact_z=g(1,T0),Z_exact(1,T0)"
   ]
  },
  {
   "cell_type": "code",
   "execution_count": 60,
   "id": "c9999bdb",
   "metadata": {},
   "outputs": [
    {
     "name": "stdout",
     "output_type": "stream",
     "text": [
      "+-------------+------------------+------------------+------------------+------------------+------------------+\n",
      "| |y-y_exact| |       N=32       |       N=64       |      N=128       |      N=256       |      N=512       |\n",
      "+-------------+------------------+------------------+------------------+------------------+------------------+\n",
      "|     k=1     | 2.1919814568e-02 | 1.1034641185e-02 | 5.5359344026e-03 | 2.7726118559e-03 | 1.3874659862e-03 |\n",
      "|     k=2     | 1.4813955522e-02 | 7.4062500578e-03 | 3.7030321417e-03 | 1.8515043403e-03 | 9.2575069637e-04 |\n",
      "|     k=3     | 1.2118969682e-02 | 6.0594594701e-03 | 3.0297281629e-03 | 1.5148639836e-03 | 7.5743198571e-04 |\n",
      "|     k=4     | 1.0664641823e-02 | 5.3323211562e-03 | 2.6661605861e-03 | 1.3330802933e-03 | 6.6654014666e-04 |\n",
      "|     k=5     | 9.7305130679e-03 | 4.8652565446e-03 | 2.4326282725e-03 | 1.2163141362e-03 | 6.0815706812e-04 |\n",
      "|     k=6     | 9.0685734241e-03 | 4.5342867120e-03 | 2.2671433560e-03 | 1.1335716780e-03 | 5.6678583900e-04 |\n",
      "+-------------+------------------+------------------+------------------+------------------+------------------+\n"
     ]
    }
   ],
   "source": [
    "table = PrettyTable()\n",
    "table.add_column(\"|y-y_exact|\",[\"k={}\".format(K_[i]) for i in range(len(K_))])\n",
    "for n in range(len(N_)):\n",
    "    table.add_column(\"N={}\".format(N_[n]),[\"{:.10e}\".format(abs(result_Y[n][i]-exact_y)) for i in range(len(K_))])\n",
    "print(table)"
   ]
  },
  {
   "cell_type": "code",
   "execution_count": 61,
   "id": "fb46608f",
   "metadata": {},
   "outputs": [
    {
     "name": "stdout",
     "output_type": "stream",
     "text": [
      "+-------------+------------------+------------------+------------------+------------------+------------------+\n",
      "| |z-z_exact| |       N=32       |       N=64       |      N=128       |      N=256       |      N=512       |\n",
      "+-------------+------------------+------------------+------------------+------------------+------------------+\n",
      "|     k=1     | 3.6509534272e-03 | 1.8184371092e-03 | 9.0743858204e-04 | 4.5327179686e-04 | 2.2652371276e-04 |\n",
      "|     k=2     | 5.5024299327e-05 | 1.4079208676e-05 | 3.5599451623e-06 | 8.9498832863e-07 | 2.2437133769e-07 |\n",
      "|     k=3     | 2.6071855903e-06 | 3.2257240344e-07 | 4.0107016097e-08 | 4.9997622570e-09 | 6.2411248392e-10 |\n",
      "|     k=4     | 3.4097409965e-08 | 2.2457628257e-09 | 1.4390875991e-10 | 9.1031487903e-12 | 5.7225058026e-13 |\n",
      "|     k=5     | 1.8539621088e-09 | 5.7072166437e-11 | 1.7713469580e-12 | 5.2610693579e-14 | 3.3306690739e-16 |\n",
      "|     k=6     | 2.0771342979e-11 | 3.5804692544e-13 | 1.9845236565e-15 | 3.9135361618e-15 | 6.2588823013e-15 |\n",
      "+-------------+------------------+------------------+------------------+------------------+------------------+\n"
     ]
    }
   ],
   "source": [
    "table = PrettyTable()\n",
    "table.add_column(\"|z-z_exact|\",[\"k={}\".format(K_[i]) for i in range(len(K_))])\n",
    "for n in range(len(N_)):\n",
    "    table.add_column(\"N={}\".format(N_[n]),[\"{:.10e}\".format(abs(result_Z[n][i]-exact_z)) for i in range(len(K_))])\n",
    "print(table)"
   ]
  },
  {
   "cell_type": "markdown",
   "id": "6c020f45",
   "metadata": {},
   "source": [
    "**(2) Consider the decoupled FBSDE:**\n",
    "$$\n",
    "\\left\\{\\begin{array}{l}\n",
    "\\mathrm{d} X_{t}=\\frac{1}{1+2 \\exp \\left(t+X_{t}\\right)} \\mathrm{d} t+\\frac{\\exp \\left(t+X_{t}\\right)}{1+\\exp \\left(t+X_{t}\\right)} \\mathrm{d} W_{t} \\\\\n",
    "-\\mathrm{d} Y_{t}=\\left(-\\frac{2 Y_{t}}{1+2 \\exp \\left(t+X_{t}\\right)}-\\frac{1}{2}\\left(\\frac{Y_{t} Z_{t}}{1+\\exp \\left(t+X_{t}\\right)}-Y_{t}^{2} Z_{t}\\right)\\right) \\mathrm{d} t-Z_{t} \\mathrm{~d} W_{t}\n",
    "\\end{array}\\right.\n",
    "$$"
   ]
  },
  {
   "cell_type": "markdown",
   "id": "9011e2dd",
   "metadata": {},
   "source": [
    "We assume $\n",
    "x_{0}=0, T=1\n",
    "$,\n",
    "with the terminal conditions:$$\n",
    "Y_{T}=\\frac{\\exp \\left(T+X_{T}\\right)}{1+\\exp \\left(T+X_{T}\\right)}\n",
    "$$\n",
    "The analytical solution: $$\n",
    "Y_{t}=\\frac{\\exp \\left(t+X_{t}\\right)}{1+\\exp \\left(t+X_{t}\\right)}, \\quad Z_{t}=\\frac{\\left(\\exp \\left(t+X_{t}\\right)\\right)^{2}}{\\left(1+\\exp \\left(t+X_{t}\\right)\\right)^{3}}\n",
    "$$\n",
    "then we have the below definition:"
   ]
  },
  {
   "cell_type": "code",
   "execution_count": 62,
   "id": "e4ecd7fe",
   "metadata": {},
   "outputs": [],
   "source": [
    "def g(x,T):\n",
    "    return np.exp(T+x)/(1+np.exp(T+x))\n",
    "def dg(x,t):\n",
    "    return np.exp(t+x)/((1+np.exp(t+x))**2)\n",
    "def Z_exact(x,t):\n",
    "    return (np.exp(t+x))**2/(1+np.exp(t+x))**3\n",
    "def f(t,x,y,z):\n",
    "    return (-2*y/(1+2*np.exp(t+x))-0.5*(y*z/(1+np.exp(t+x))-y*y*z))\n",
    "def sigma(x,t):\n",
    "    return np.exp(t+x)/(1+np.exp(t+x))\n",
    "def beta(x,t):\n",
    "    return 1/(1+2*np.exp(t+x))"
   ]
  },
  {
   "cell_type": "code",
   "execution_count": 63,
   "id": "55b5ee6b",
   "metadata": {},
   "outputs": [],
   "source": [
    "def expectation(I,x,sigma,beta,t,delta_t):\n",
    "    a,w=np.polynomial.hermite.hermgauss(10)\n",
    "    x = np.expand_dims(x, axis=1)\n",
    "    a = np.expand_dims(a, axis=0)\n",
    "    E_1=np.dot(I(x+beta(x,t)*delta_t+np.dot(sigma(x,t)*np.sqrt(2*delta_t),a),t),w)/np.sqrt(np.pi)\n",
    "    E_2=np.dot(I(x+beta(x,t)*delta_t+np.dot(sigma(x,t)*np.sqrt(2*delta_t),a),t)*np.sqrt(2*delta_t)*a,w)/np.sqrt(np.pi)\n",
    "    return E_1,E_2"
   ]
  },
  {
   "cell_type": "code",
   "execution_count": 64,
   "id": "d2115f2c",
   "metadata": {},
   "outputs": [],
   "source": [
    "x=np.arange(0,0.05,0.01)"
   ]
  },
  {
   "cell_type": "code",
   "execution_count": 65,
   "id": "d7575178",
   "metadata": {},
   "outputs": [
    {
     "data": {
      "text/plain": [
       "array([0.  , 0.01, 0.02, 0.03, 0.04])"
      ]
     },
     "execution_count": 65,
     "metadata": {},
     "output_type": "execute_result"
    }
   ],
   "source": [
    "x"
   ]
  },
  {
   "cell_type": "code",
   "execution_count": 66,
   "id": "85e90f01",
   "metadata": {},
   "outputs": [],
   "source": [
    "N_=[32,64,128,256,512];T0=0;T=1;\n",
    "K_=[1,2,3,4,5,6]\n",
    "y=np.zeros(len(N_))\n",
    "z=np.zeros(len(N_))\n",
    "result_Y=np.zeros([len(N_),len(K_)])\n",
    "result_Z=np.zeros([len(N_),len(K_)])\n",
    "for N in range(len(N_)):\n",
    "    t,delta_t=np.linspace(T0,T,num=N_[N]+1,endpoint=True,retstep=True)\n",
    "    for k in K_:\n",
    "        E1=np.zeros((k+1,len(x)))\n",
    "        E2=np.zeros((k+1,len(x)))\n",
    "        for n in range(0,k+1): \n",
    "            E1[n],E2[n]=expectation(g,x,sigma,beta,T0,n*delta_t)\n",
    "        Z=np.dot(alpha[k-1][1:]/delta_t,E2[1:])\n",
    "        Y=(-np.dot(alpha[k-1][1:]/delta_t,E1[1:])-f(T0,x,g(x,T0),Z))/(alpha[k-1][0]/delta_t)\n",
    "        result_Y[N][k-1]=Y[0]\n",
    "        result_Z[N][k-1]=Z[0]"
   ]
  },
  {
   "cell_type": "code",
   "execution_count": 67,
   "id": "d9341312",
   "metadata": {},
   "outputs": [],
   "source": [
    "exact_y,exact_z=g(x,0),Z_exact(x,0)"
   ]
  },
  {
   "cell_type": "code",
   "execution_count": 68,
   "id": "358d0fef",
   "metadata": {},
   "outputs": [
    {
     "name": "stdout",
     "output_type": "stream",
     "text": [
      "+-------------+------------------+------------------+------------------+------------------+------------------+\n",
      "| |y-y_exact| |       N=32       |       N=64       |      N=128       |      N=256       |      N=512       |\n",
      "+-------------+------------------+------------------+------------------+------------------+------------------+\n",
      "|     k=1     | 7.8175898688e-03 | 3.9075220211e-03 | 1.9534429486e-03 | 9.7664198003e-04 | 4.8830111911e-04 |\n",
      "|     k=2     | 5.2083287192e-03 | 2.6041660718e-03 | 1.3020832578e-03 | 6.5104165716e-04 | 3.2552083214e-04 |\n",
      "|     k=3     | 4.2613634034e-03 | 2.1306818033e-03 | 1.0653409082e-03 | 5.3267045449e-04 | 2.6633522727e-04 |\n",
      "|     k=4     | 3.7499999947e-03 | 1.8749999998e-03 | 9.3749999999e-04 | 4.6875000000e-04 | 2.3437500000e-04 |\n",
      "|     k=5     | 3.4215328466e-03 | 1.7107664234e-03 | 8.5538321168e-04 | 4.2769160584e-04 | 2.1384580292e-04 |\n",
      "|     k=6     | 3.1887755102e-03 | 1.5943877551e-03 | 7.9719387755e-04 | 3.9859693877e-04 | 1.9929846939e-04 |\n",
      "+-------------+------------------+------------------+------------------+------------------+------------------+\n"
     ]
    }
   ],
   "source": [
    "table = PrettyTable()\n",
    "table.add_column(\"|y-y_exact|\",[\"k={}\".format(K_[i]) for i in range(len(K_))])\n",
    "for n in range(len(N_)):\n",
    "    table.add_column(\"N={}\".format(N_[n]),[\"{:.10e}\".format(abs(result_Y[n][i]-exact_y[0])) for i in range(len(K_))])\n",
    "print(table)"
   ]
  },
  {
   "cell_type": "code",
   "execution_count": 69,
   "id": "576cbcd5",
   "metadata": {},
   "outputs": [
    {
     "name": "stdout",
     "output_type": "stream",
     "text": [
      "+-------------+------------------+------------------+------------------+------------------+------------------+\n",
      "| |z-z_exact| |       N=32       |       N=64       |      N=128       |      N=256       |      N=512       |\n",
      "+-------------+------------------+------------------+------------------+------------------+------------------+\n",
      "|     k=1     | 2.4655669948e-04 | 1.2267696028e-04 | 6.1187148242e-05 | 3.0555617467e-05 | 1.5268304072e-05 |\n",
      "|     k=2     | 4.7487264438e-06 | 1.2027789226e-06 | 3.0266379591e-07 | 7.5913308500e-08 | 1.9009322810e-08 |\n",
      "|     k=3     | 1.2303385100e-07 | 1.5641320794e-08 | 1.9718581767e-09 | 2.4753515904e-10 | 3.1005531476e-11 |\n",
      "|     k=4     | 2.7338080688e-09 | 1.7603662972e-10 | 1.1171785719e-11 | 7.0266015229e-13 | 3.9385161799e-14 |\n",
      "|     k=5     | 7.9613621251e-11 | 2.6305346790e-12 | 8.6708418223e-14 | 7.7715611724e-16 | 8.6319840165e-15 |\n",
      "|     k=6     | 3.4322822362e-12 | 5.9202642788e-14 | 2.8865798640e-15 | 4.5935477644e-15 | 1.5987211555e-14 |\n",
      "+-------------+------------------+------------------+------------------+------------------+------------------+\n"
     ]
    }
   ],
   "source": [
    "table = PrettyTable()\n",
    "table.add_column(\"|z-z_exact|\",[\"k={}\".format(K_[i]) for i in range(len(K_))])\n",
    "for n in range(len(N_)):\n",
    "    table.add_column(\"N={}\".format(N_[n]),[\"{:.10e}\".format(abs(result_Z[n][i]-exact_z[0])) for i in range(len(K_))])\n",
    "print(table)"
   ]
  },
  {
   "cell_type": "markdown",
   "id": "c13e2219",
   "metadata": {},
   "source": [
    " "
   ]
  },
  {
   "cell_type": "markdown",
   "id": "c20b1a32",
   "metadata": {},
   "source": [
    " "
   ]
  },
  {
   "cell_type": "markdown",
   "id": "71e9d117",
   "metadata": {},
   "source": [
    "# L3: The Deferred Correction method for FBSDEs model:"
   ]
  },
  {
   "cell_type": "markdown",
   "id": "0d6e6397",
   "metadata": {},
   "source": [
    "**(1) Consider the decoupled FBSDE:**$$\n",
    "\\begin{cases}dx_{t}=x_{t}dt+0.1x_{t}dW_{t}&\\\\ -dy_{t}=\\left( 10z_{t}+\\frac{y_{t}}{200} \\right)  dt-z_{t}dW_{t}&\\end{cases} \n",
    "$$"
   ]
  },
  {
   "cell_type": "markdown",
   "id": "1d4e96ce",
   "metadata": {},
   "source": [
    "We assume $\n",
    "x_{0}=1, T=1\n",
    "$,\n",
    "with the terminal conditions:$$\n",
    "y_{T}=e^{-x}\n",
    "$$\n",
    "The analytical solution: $$\n",
    "\\left( y_{t},z_{t}\\right)  =\\left( e^{-x},-\\frac{xe^{-x}}{10} \\right)  \n",
    "$$\n",
    "then we have the below definition:"
   ]
  },
  {
   "cell_type": "code",
   "execution_count": 70,
   "id": "e90aca4d",
   "metadata": {},
   "outputs": [],
   "source": [
    "def g(x,t):\n",
    "    return np.exp(-x)"
   ]
  },
  {
   "cell_type": "code",
   "execution_count": 71,
   "id": "249e9940",
   "metadata": {},
   "outputs": [],
   "source": [
    "def dg(x,t):\n",
    "    return -np.exp(-x)"
   ]
  },
  {
   "cell_type": "code",
   "execution_count": 72,
   "id": "bdbe644f",
   "metadata": {},
   "outputs": [],
   "source": [
    "def f(t,x,y,z):\n",
    "    return z/0.1+0.5*0.1*0.1*y"
   ]
  },
  {
   "cell_type": "code",
   "execution_count": 73,
   "id": "bd815f9f",
   "metadata": {},
   "outputs": [],
   "source": [
    "def z_exact(x,t):\n",
    "    return -np.exp(-x)*0.1*x"
   ]
  },
  {
   "cell_type": "code",
   "execution_count": 74,
   "id": "3e3f9378",
   "metadata": {},
   "outputs": [],
   "source": [
    "def sigma(x,t):\n",
    "    return 0.1*x"
   ]
  },
  {
   "cell_type": "code",
   "execution_count": 75,
   "id": "0f749d63",
   "metadata": {},
   "outputs": [],
   "source": [
    "def beta(x,t):\n",
    "    return x"
   ]
  },
  {
   "cell_type": "code",
   "execution_count": 76,
   "id": "05ba15bc",
   "metadata": {},
   "outputs": [],
   "source": [
    "def expectation(I,x,sigma,beta,t,delta_t):\n",
    "    a,w=np.polynomial.hermite.hermgauss(10)\n",
    "    x = np.expand_dims(x, axis=1)\n",
    "    a = np.expand_dims(a, axis=0)\n",
    "    E_1=np.dot(I(x+beta(x,t)*delta_t+np.dot(sigma(x,t)*np.sqrt(2*delta_t),a),t),w)/np.sqrt(np.pi)\n",
    "    E_2=np.dot(I(x+beta(x,t)*delta_t+np.dot(sigma(x,t)*np.sqrt(2*delta_t),a),t)*np.sqrt(2*delta_t)*a,w)/np.sqrt(np.pi)\n",
    "    E=np.dot((x+beta(x,t)*delta_t+np.dot(sigma(x,t)*np.sqrt(2*delta_t),a))*np.sqrt(2*delta_t)*a,w)/np.sqrt(np.pi)\n",
    "    return E_1,E_2"
   ]
  },
  {
   "cell_type": "code",
   "execution_count": 77,
   "id": "519ef498",
   "metadata": {},
   "outputs": [],
   "source": [
    "def expectation2(I,x,sigma,beta,t,delta_t):\n",
    "    a,w=np.polynomial.hermite.hermgauss(10)\n",
    "    x = np.expand_dims(x, axis=1)\n",
    "    a = np.expand_dims(a, axis=0)\n",
    "    E_1=np.dot(I(x+beta(x,t)*delta_t+np.dot(sigma(x,t)*np.sqrt(2*delta_t),a)),w)/np.sqrt(np.pi)\n",
    "    E_2=np.dot(I(x+beta(x,t)*delta_t+np.dot(sigma(x,t)*np.sqrt(2*delta_t),a))*np.sqrt(2*delta_t)*a,w)/np.sqrt(np.pi)\n",
    "    E=np.dot((x+beta(x,t)*delta_t+np.dot(sigma(x,t)*np.sqrt(2*delta_t),a))*np.sqrt(2*delta_t)*a,w)/np.sqrt(np.pi)\n",
    "    return E_1,E_2"
   ]
  },
  {
   "cell_type": "code",
   "execution_count": 78,
   "id": "832a9850",
   "metadata": {},
   "outputs": [],
   "source": [
    "x=np.arange(1,1.15,0.05)"
   ]
  },
  {
   "cell_type": "code",
   "execution_count": 79,
   "id": "a5b54d43",
   "metadata": {},
   "outputs": [
    {
     "data": {
      "text/plain": [
       "array([1.  , 1.05, 1.1 ])"
      ]
     },
     "execution_count": 79,
     "metadata": {},
     "output_type": "execute_result"
    }
   ],
   "source": [
    "x"
   ]
  },
  {
   "cell_type": "code",
   "execution_count": 80,
   "id": "09c8effe",
   "metadata": {},
   "outputs": [],
   "source": [
    "N=20;K_=[1,2,4,6,8];T=1;T0=0;\n",
    "result_Y=np.zeros(len(K_))\n",
    "result_Z=np.zeros(len(K_))\n",
    "num=0"
   ]
  },
  {
   "cell_type": "code",
   "execution_count": 81,
   "id": "6b921259",
   "metadata": {},
   "outputs": [],
   "source": [
    "for K in K_:\n",
    "    t,delta_t=np.linspace(T0,T,num=N*K+1,endpoint=True,retstep=True)\n",
    "    tn,delta_tn=np.linspace(T0,T,num=N+1,endpoint=True,retstep=True)\n",
    "    Y=np.zeros((N+1,len(x)))\n",
    "    Z=np.zeros((N+1,len(x)))\n",
    "    Y[-1]=g(x,T)\n",
    "    I=lagrange(x,g(x,T))\n",
    "    for n in range(N-1,-1,-1): \n",
    "        y=np.zeros((K+1,len(x)))\n",
    "        z=np.zeros((K+1,len(x)))\n",
    "        y[-1]=Y[n+1]\n",
    "        for j in range(0,5):\n",
    "            delta_y=np.zeros((K+1,len(x)))\n",
    "            delta_z=np.zeros((K+1,len(x)))\n",
    "            I=lagrange(x,Y[n+1])\n",
    "            delta_I=lagrange(x,delta_y[-1])\n",
    "            delta_IZ=lagrange(x,delta_z[-1])\n",
    "            for k in range(K-1,-1,-1):\n",
    "                E_1,E_2=expectation(g,x,sigma,beta,t[n*K+k+1],delta_t)\n",
    "                z[k]=E_2/delta_t\n",
    "                y[k]=E_1+delta_t*f(t[n*K+k],x,I(x),z[k])\n",
    "                delta_E1,delta_E2=expectation2(delta_I,x,sigma,beta,t[n*K+k+1],delta_t)\n",
    "                delta_z[k]=delta_E2/delta_t-z[k]+sigma(x,t[n*K+k])*dg(x,t[n*K+k])\n",
    "                delta_y[k]=delta_E1+delta_t*(f(t[n*K+k],x,y[k]+delta_I(x),z[k]+delta_IZ(x))+dg(x,t[n*K+k])*beta(x,t[n*K+k])+0.5*dg(x,t[n*K+k])*sigma(x,t[n*K+k])**2)\n",
    "                #delta_y[k]=delta_E1+delta_t*(f(t[n*K+k],x,y[k]+delta_I(x),z[k]+delta_IZ(x))+np.polyder(I,1)(x)*beta(x,t[n*K+k])+0.5*np.polyder(I,2)(x)*sigma(x,t[n*K+k])**2)\n",
    "                delta_I=lagrange(x,delta_y[k])\n",
    "                delta_IZ=lagrange(x,delta_z[k])\n",
    "                I=lagrange(x,y[k])\n",
    "            y=y+delta_y\n",
    "            z=z+delta_z\n",
    "        Y[n]=y[0]\n",
    "        Z[n]=z[0]\n",
    "    result_Y[num]=Y[0][0]\n",
    "    result_Z[num]=Z[0][0]\n",
    "    num+=1"
   ]
  },
  {
   "cell_type": "code",
   "execution_count": 82,
   "id": "b920b2aa",
   "metadata": {},
   "outputs": [],
   "source": [
    "exact_y,exact_z=g(1,0),z_exact(1,0)"
   ]
  },
  {
   "cell_type": "code",
   "execution_count": 83,
   "id": "88fa4de7",
   "metadata": {},
   "outputs": [
    {
     "name": "stdout",
     "output_type": "stream",
     "text": [
      "+-----+------------+-------------+------------+-------------+------------------+------------------+\n",
      "|     |  Exact_y   |   Exact_z   |     y      |      z      |   |y-y_exact|    |   |z-z_exact|    |\n",
      "+-----+------------+-------------+------------+-------------+------------------+------------------+\n",
      "| K=1 | 0.36787944 | -0.03678794 | 0.29669410 | -0.03667863 | 7.1185339990e-02 | 1.0931339048e-04 |\n",
      "| K=2 | 0.36787944 | -0.03678794 | 0.31335646 | -0.03669382 | 5.4522979194e-02 | 9.4129049055e-05 |\n",
      "| K=4 | 0.36787944 | -0.03678794 | 0.32209536 | -0.03671642 | 4.5784078414e-02 | 7.1529100486e-05 |\n",
      "| K=6 | 0.36787944 | -0.03678794 | 0.32507413 | -0.03673081 | 4.2805306604e-02 | 5.7133667602e-05 |\n",
      "| K=8 | 0.36787944 | -0.03678794 | 0.32657718 | -0.03678794 | 4.1302262379e-02 | 0.0000000000e+00 |\n",
      "+-----+------------+-------------+------------+-------------+------------------+------------------+\n"
     ]
    }
   ],
   "source": [
    "table = PrettyTable()\n",
    "table.field_names = [\" \",\"Exact_y\", \"Exact_z\", \"y\", \"z\",\"|y-y_exact|\",\"|z-z_exact|\"]\n",
    "for i in range(len(K_)):\n",
    "    table.add_row([\"K={}\".format(K_[i]),\"{:.8f}\".format(exact_y),\"{:.8f}\".format(exact_z),\"{:.8f}\".format(result_Y[i]), \"{:.8f}\".format(result_Z[len(K_)-i-1]),\"{:.10e}\".format(abs(result_Y[i]-exact_y)),\"{:.10e}\".format(abs(result_Z[len(K_)-i-1]-exact_z))])\n",
    "print(table)"
   ]
  },
  {
   "cell_type": "markdown",
   "id": "dcf6b72e",
   "metadata": {},
   "source": [
    "**(2) Consider the decoupled FBSDE:**\n",
    "$$\n",
    "\\left\\{\\begin{array}{l}\n",
    "\\mathrm{d} X_{t}=\\frac{1}{1+2 \\exp \\left(t+X_{t}\\right)} \\mathrm{d} t+\\frac{\\exp \\left(t+X_{t}\\right)}{1+\\exp \\left(t+X_{t}\\right)} \\mathrm{d} W_{t} \\\\\n",
    "-\\mathrm{d} Y_{t}=\\left(-\\frac{2 Y_{t}}{1+2 \\exp \\left(t+X_{t}\\right)}-\\frac{1}{2}\\left(\\frac{Y_{t} Z_{t}}{1+\\exp \\left(t+X_{t}\\right)}-Y_{t}^{2} Z_{t}\\right)\\right) \\mathrm{d} t-Z_{t} \\mathrm{~d} W_{t}\n",
    "\\end{array}\\right.\n",
    "$$"
   ]
  },
  {
   "cell_type": "markdown",
   "id": "63af8037",
   "metadata": {},
   "source": [
    "We assume $\n",
    "x_{0}=0, T=1\n",
    "$,\n",
    "with the terminal conditions:$$\n",
    "Y_{T}=\\frac{\\exp \\left(T+X_{T}\\right)}{1+\\exp \\left(T+X_{T}\\right)}\n",
    "$$\n",
    "The analytical solution: $$\n",
    "Y_{t}=\\frac{\\exp \\left(t+X_{t}\\right)}{1+\\exp \\left(t+X_{t}\\right)}, \\quad Z_{t}=\\frac{\\left(\\exp \\left(t+X_{t}\\right)\\right)^{2}}{\\left(1+\\exp \\left(t+X_{t}\\right)\\right)^{3}}\n",
    "$$\n",
    "then we have the below definition:"
   ]
  },
  {
   "cell_type": "code",
   "execution_count": 84,
   "id": "7a3bbc26",
   "metadata": {},
   "outputs": [],
   "source": [
    "def g(x,T):\n",
    "    return np.exp(T+x)/(1+np.exp(T+x))\n",
    "def dg(x,t):\n",
    "    return np.exp(t+x)/((1+np.exp(t+x))**2)\n",
    "def Z_exact(x,t):\n",
    "    return (np.exp(t+x))**2/(1+np.exp(t+x))**3\n",
    "def f(t,x,y,z):\n",
    "    return (-2*y/(1+2*np.exp(t+x))-0.5*(y*z/(1+np.exp(t+x))-y*y*z))\n",
    "def sigma(x,t):\n",
    "    return np.exp(t+x)/(1+np.exp(t+x))\n",
    "def beta(x,t):\n",
    "    return 1/(1+2*np.exp(t+x))"
   ]
  },
  {
   "cell_type": "code",
   "execution_count": 85,
   "id": "1d12e414",
   "metadata": {},
   "outputs": [],
   "source": [
    "def expectation(I,x,sigma,beta,t,delta_t):\n",
    "    a,w=np.polynomial.hermite.hermgauss(10)\n",
    "    x = np.expand_dims(x, axis=1)\n",
    "    a = np.expand_dims(a, axis=0)\n",
    "    E_1=np.dot(I(x+beta(x,t)*delta_t+np.dot(sigma(x,t)*np.sqrt(2*delta_t),a)),w)/np.sqrt(np.pi)\n",
    "    E_2=np.dot(I(x+beta(x,t)*delta_t+np.dot(sigma(x,t)*np.sqrt(2*delta_t),a))*np.sqrt(2*delta_t)*a,w)/np.sqrt(np.pi)\n",
    "    return E_1,E_2"
   ]
  },
  {
   "cell_type": "code",
   "execution_count": 86,
   "id": "06de06ca",
   "metadata": {},
   "outputs": [],
   "source": [
    "x=np.arange(0,0.05,0.01)"
   ]
  },
  {
   "cell_type": "code",
   "execution_count": 87,
   "id": "b946827f",
   "metadata": {},
   "outputs": [
    {
     "data": {
      "text/plain": [
       "array([0.  , 0.01, 0.02, 0.03, 0.04])"
      ]
     },
     "execution_count": 87,
     "metadata": {},
     "output_type": "execute_result"
    }
   ],
   "source": [
    "x"
   ]
  },
  {
   "cell_type": "code",
   "execution_count": 88,
   "id": "4f2d254d",
   "metadata": {},
   "outputs": [],
   "source": [
    "N=20;T=1;T0=0;\n",
    "K_=[1,2,4,6,8];T=1;T0=0;\n",
    "result_Y=np.zeros(len(K_))\n",
    "result_Z=np.zeros(len(K_))\n",
    "num=0"
   ]
  },
  {
   "cell_type": "code",
   "execution_count": 89,
   "id": "25e2d73d",
   "metadata": {},
   "outputs": [],
   "source": [
    "for K in K_:\n",
    "    t,delta_t=np.linspace(T0,T,num=N*K+1,endpoint=True,retstep=True)\n",
    "    tn,delta_tn=np.linspace(T0,T,num=N+1,endpoint=True,retstep=True)\n",
    "    Y=np.zeros((N+1,len(x)))\n",
    "    Z=np.zeros((N+1,len(x)))\n",
    "    Y[-1]=g(x,T)\n",
    "    I=lagrange(x,g(x,T))\n",
    "    for n in range(N-1,-1,-1): \n",
    "        y=np.zeros((K+1,len(x)))\n",
    "        z=np.zeros((K+1,len(x)))\n",
    "        y[-1]=Y[n+1]\n",
    "        for j in range(0,5):\n",
    "            delta_y=np.zeros((K+1,len(x)))\n",
    "            delta_z=np.zeros((K+1,len(x)))\n",
    "            I=lagrange(x,Y[n+1])\n",
    "            delta_I=lagrange(x,delta_y[-1])\n",
    "            delta_IZ=lagrange(x,delta_z[-1])\n",
    "            for k in range(K-1,-1,-1):\n",
    "                E_1,E_2=expectation(I,x,sigma,beta,t[n*K+k+1],delta_t)\n",
    "                z[k]=E_2/delta_t\n",
    "                y[k]=E_1+delta_t*f(t[n*K+k],x,I(x),z[k])\n",
    "                delta_E1,delta_E2=expectation(delta_I,x,sigma,beta,t[n*K+k+1],delta_t)\n",
    "                delta_z[k]=delta_E2/delta_t-z[k]+sigma(x,t[n*K+k])*np.polyder(I,1)(x)\n",
    "                delta_y[k]=delta_E1+delta_t*(f(t[n*K+k],x,y[k]+delta_I(x),z[k]+delta_IZ(x))+dg(x,t[n*K+k])+np.polyder(I,1)(x)*beta(x,t[n*K+k])+0.5*np.polyder(I,2)(x)*sigma(x,t[n*K+k])**2)\n",
    "                delta_I=lagrange(x,delta_y[k])\n",
    "                delta_IZ=lagrange(x,delta_z[k])\n",
    "                I=lagrange(x,y[k])\n",
    "            y=y+delta_y\n",
    "            z=z+delta_z\n",
    "        Y[n]=y[0]\n",
    "        Z[n]=z[0]\n",
    "    result_Y[num]=Y[0][0]\n",
    "    result_Z[num]=Z[0][0]\n",
    "    num+=1"
   ]
  },
  {
   "cell_type": "code",
   "execution_count": 90,
   "id": "cae8ee17",
   "metadata": {},
   "outputs": [],
   "source": [
    "exact_y,exact_z=g(x,0),Z_exact(x,0)"
   ]
  },
  {
   "cell_type": "code",
   "execution_count": 91,
   "id": "dfb65d7f",
   "metadata": {},
   "outputs": [
    {
     "name": "stdout",
     "output_type": "stream",
     "text": [
      "+-----+------------+------------+------------+------------+------------------+------------------+\n",
      "|     |  Exact_y   |  Exact_z   |     y      |     z      |   |y-y_exact|    |   |z-z_exact|    |\n",
      "+-----+------------+------------+------------+------------+------------------+------------------+\n",
      "| K=1 | 0.50000000 | 0.12500000 | 0.50539798 | 0.13290247 | 5.3979798478e-03 | 7.9024747122e-03 |\n",
      "| K=2 | 0.50000000 | 0.12500000 | 0.50508267 | 0.13284044 | 5.0826702408e-03 | 7.8404415119e-03 |\n",
      "| K=4 | 0.50000000 | 0.12500000 | 0.50446022 | 0.13272759 | 4.4602246252e-03 | 7.7275917902e-03 |\n",
      "| K=6 | 0.50000000 | 0.12500000 | 0.50265554 | 0.13247380 | 2.6555392579e-03 | 7.4738029166e-03 |\n",
      "| K=8 | 0.50000000 | 0.12500000 | 0.49928871 | 0.13226954 | 7.1129109652e-04 | 7.2695352179e-03 |\n",
      "+-----+------------+------------+------------+------------+------------------+------------------+\n"
     ]
    }
   ],
   "source": [
    "table = PrettyTable()\n",
    "table.field_names = [\" \",\"Exact_y\", \"Exact_z\", \"y\", \"z\",\"|y-y_exact|\",\"|z-z_exact|\"]\n",
    "for i in range(len(K_)):\n",
    "    table.add_row([\"K={}\".format(K_[i]),\"{:.8f}\".format(exact_y[0]),\"{:.8f}\".format(exact_z[0]),\"{:.8f}\".format(result_Y[len(K_)-i-1]), \"{:.8f}\".format(result_Z[len(K_)-i-1]),\"{:.10e}\".format(abs(result_Y[len(K_)-i-1]-exact_y[0])),\"{:.10e}\".format(abs(result_Z[len(K_)-i-1]-exact_z[0]))])\n",
    "print(table)"
   ]
  }
 ],
 "metadata": {
  "kernelspec": {
   "display_name": "Python 3",
   "language": "python",
   "name": "python3"
  },
  "language_info": {
   "codemirror_mode": {
    "name": "ipython",
    "version": 3
   },
   "file_extension": ".py",
   "mimetype": "text/x-python",
   "name": "python",
   "nbconvert_exporter": "python",
   "pygments_lexer": "ipython3",
   "version": "3.8.5"
  }
 },
 "nbformat": 4,
 "nbformat_minor": 5
}
