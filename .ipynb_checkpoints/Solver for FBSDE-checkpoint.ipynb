{
 "cells": [
  {
   "cell_type": "code",
   "execution_count": 1,
   "id": "93712890",
   "metadata": {},
   "outputs": [],
   "source": [
    "import numpy as np\n",
    "from scipy.interpolate import lagrange\n",
    "from prettytable import PrettyTable\n",
    "#from scipy import interpolate\n",
    "#from scipy.misc import derivative"
   ]
  },
  {
   "cell_type": "markdown",
   "id": "c9a17582",
   "metadata": {},
   "source": [
    "**(1) Consider the decoupled FBSDE:**$$\n",
    "\\begin{cases}dx_{t}=x_{t}dt+0.1x_{t}dW_{t}&\\\\ -dy_{t}=\\left( 10z_{t}+\\frac{y_{t}}{200} \\right)  dt-z_{t}dW_{t}&\\end{cases} \n",
    "$$"
   ]
  },
  {
   "cell_type": "markdown",
   "id": "4f5f7fee",
   "metadata": {},
   "source": [
    "We assume $\n",
    "x_{0}=1, T=1\n",
    "$,\n",
    "with the terminal conditions:$$\n",
    "y_{T}=e^{-x}\n",
    "$$\n",
    "The analytical solution: $$\n",
    "\\left( y_{t},z_{t}\\right)  =\\left( e^{-x},-\\frac{xe^{-x}}{10} \\right)  \n",
    "$$\n",
    "then we have the below definition:"
   ]
  },
  {
   "cell_type": "code",
   "execution_count": 2,
   "id": "db19b8c9",
   "metadata": {},
   "outputs": [],
   "source": [
    "def g(x,t):\n",
    "    return np.exp(-x)"
   ]
  },
  {
   "cell_type": "code",
   "execution_count": 3,
   "id": "7dbd901b",
   "metadata": {},
   "outputs": [],
   "source": [
    "def f(y,x,t,z):\n",
    "    return -((z/0.1)+0.5*0.1*0.1*y)"
   ]
  },
  {
   "cell_type": "code",
   "execution_count": 4,
   "id": "e954bd1f",
   "metadata": {},
   "outputs": [],
   "source": [
    "def Z_exact(x,t):\n",
    "    return -np.exp(-x)*0.1*x"
   ]
  },
  {
   "cell_type": "code",
   "execution_count": 5,
   "id": "b6be2387",
   "metadata": {},
   "outputs": [],
   "source": [
    "def sigma(x,t):\n",
    "    return 0.1*x"
   ]
  },
  {
   "cell_type": "code",
   "execution_count": 6,
   "id": "c89b9b82",
   "metadata": {},
   "outputs": [],
   "source": [
    "def beta(x,t):\n",
    "    return x"
   ]
  },
  {
   "cell_type": "code",
   "execution_count": 7,
   "id": "6349f257",
   "metadata": {},
   "outputs": [],
   "source": [
    "def expectation(I,x,sigma,beta,t,delta_t):\n",
    "    a,w=np.polynomial.hermite.hermgauss(10)\n",
    "    x = np.expand_dims(x, axis=1)\n",
    "    a = np.expand_dims(a, axis=0)\n",
    "    E_1=np.dot(I(x+beta(x,t)*delta_t+np.dot(sigma(x,t)*np.sqrt(2*delta_t),a)),w)/np.sqrt(np.pi)\n",
    "    E_2=np.dot(I(x+beta(x,t)*delta_t+np.dot(sigma(x,t)*np.sqrt(2*delta_t),a))*np.sqrt(2*delta_t)*a,w)/np.sqrt(np.pi)\n",
    "    return E_1,E_2"
   ]
  },
  {
   "cell_type": "code",
   "execution_count": 8,
   "id": "18253367",
   "metadata": {},
   "outputs": [],
   "source": [
    "def expectation_fm(I,x,sigma,beta,delta_t,NE,f,z):\n",
    "    e3=0\n",
    "    for i in range(0,NE):\n",
    "        e3+=f(I(x+beta(x,t)*delta_t+sigma(x,t)*np.sqrt(delta_t)*np.random.normal(0,1)),x,t,z(x+beta(x,t)*delta_t+sigma(x,t)*np.sqrt(delta_t)*np.random.normal(0,1)))\n",
    "    e3/=NE\n",
    "    return e3"
   ]
  },
  {
   "cell_type": "code",
   "execution_count": 9,
   "id": "eeefe235",
   "metadata": {},
   "outputs": [],
   "source": [
    "x=np.arange(0.9,1.1,0.05)"
   ]
  },
  {
   "cell_type": "code",
   "execution_count": 10,
   "id": "faf24739",
   "metadata": {},
   "outputs": [
    {
     "data": {
      "text/plain": [
       "array([0.9 , 0.95, 1.  , 1.05, 1.1 ])"
      ]
     },
     "execution_count": 10,
     "metadata": {},
     "output_type": "execute_result"
    }
   ],
   "source": [
    "x"
   ]
  },
  {
   "cell_type": "code",
   "execution_count": 11,
   "id": "02608e91",
   "metadata": {},
   "outputs": [],
   "source": [
    "N_=[32,64,128,256,512];T0=0;T=1;\n",
    "y=np.zeros(len(N_))\n",
    "z=np.zeros(len(N_))\n",
    "for N in range(len(N_)):\n",
    "    t,delta_t=np.linspace(T0,T,num=N_[N]+1,endpoint=True,retstep=True)\n",
    "    Y=np.zeros((N_[N]+1,len(x)))\n",
    "    Z=np.zeros((N_[N]+1,len(x)))\n",
    "    Y[-1]=g(x,T)\n",
    "    Z[-1]=Z_exact(x,T)\n",
    "    I=lagrange(x,g(x,T))\n",
    "    IZ=lagrange(x,Z_exact(x,T))\n",
    "    for n in range(N_[N]-1,-1,-1): \n",
    "        E_1,E_2=expectation(I,x,sigma,beta,t[n],delta_t)\n",
    "        E_3 = expectation_fm(I,x,sigma,beta,delta_t,500,f,IZ)\n",
    "        Z[n]=E_2/delta_t\n",
    "        Y[n]=E_1+delta_t*E_3\n",
    "        I=lagrange(x,Y[n])\n",
    "        IZ=lagrange(x,Z[n])\n",
    "    y[N]=Y[0][2]\n",
    "    z[N]=Z[0][2]"
   ]
  },
  {
   "cell_type": "code",
   "execution_count": 12,
   "id": "5762ef97",
   "metadata": {},
   "outputs": [],
   "source": [
    "exact_y,exact_z=g(1,0),Z_exact(1,0)"
   ]
  },
  {
   "cell_type": "code",
   "execution_count": 13,
   "id": "b996fdb3",
   "metadata": {},
   "outputs": [
    {
     "name": "stdout",
     "output_type": "stream",
     "text": [
      "+-----+------------+---------------------+-------------+-----------------------+-------------+-------------+\n",
      "|  N  |  y_exact   |          y          |   z_exact   |           z           | |y-y_exact| | |z-z_exact| |\n",
      "+-----+------------+---------------------+-------------+-----------------------+-------------+-------------+\n",
      "|  32 | 0.36787944 | 0.36177021507108365 | -0.03678794 | -0.036954283101715245 |  0.00610923 |  0.00016634 |\n",
      "|  64 | 0.36787944 |  0.3649600421522406 | -0.03678794 |  -0.03670800937048492 |  0.00291940 |  0.00007993 |\n",
      "| 128 | 0.36787944 | 0.36644689638648875 | -0.03678794 | -0.036566330675955994 |  0.00143254 |  0.00022161 |\n",
      "| 256 | 0.36787944 | 0.36716603592896907 | -0.03678794 |  -0.03649520411250075 |  0.00071341 |  0.00029274 |\n",
      "| 512 | 0.36787944 |  0.3675199922719234 | -0.03678794 |  -0.03645821843563326 |  0.00035945 |  0.00032973 |\n",
      "+-----+------------+---------------------+-------------+-----------------------+-------------+-------------+\n"
     ]
    }
   ],
   "source": [
    "table = PrettyTable()\n",
    "table.field_names = [\"N\",\"y_exact\",\"y\",\"z_exact\",\"z\",\"|y-y_exact|\", \"|z-z_exact|\"]\n",
    "for i in range(len(N_)):\n",
    "    table.add_row([N_[i],\"{:.8f}\".format(exact_y),y[i],\"{:.8f}\".format(exact_z),z[i],\"{:.8f}\".format(abs(y[i]-exact_y)),\"{:.8f}\".format(abs(z[i]-exact_z))])\n",
    "print(table)"
   ]
  },
  {
   "cell_type": "markdown",
   "id": "549faf32",
   "metadata": {},
   "source": [
    "**(2) Consider the decoupled FBSDE:**\n",
    "$$\n",
    "\\left\\{\\begin{array}{l}\n",
    "\\mathrm{d} X_{t}=\\frac{1}{1+2 \\exp \\left(t+X_{t}\\right)} \\mathrm{d} t+\\frac{\\exp \\left(t+X_{t}\\right)}{1+\\exp \\left(t+X_{t}\\right)} \\mathrm{d} W_{t} \\\\\n",
    "-\\mathrm{d} Y_{t}=\\left(-\\frac{2 Y_{t}}{1+2 \\exp \\left(t+X_{t}\\right)}-\\frac{1}{2}\\left(\\frac{Y_{t} Z_{t}}{1+\\exp \\left(t+X_{t}\\right)}-Y_{t}^{2} Z_{t}\\right)\\right) \\mathrm{d} t-Z_{t} \\mathrm{~d} W_{t}\n",
    "\\end{array}\\right.\n",
    "$$"
   ]
  },
  {
   "cell_type": "markdown",
   "id": "605db9a5",
   "metadata": {},
   "source": [
    "We assume $\n",
    "x_{0}=0, T=1\n",
    "$,\n",
    "with the terminal conditions:$$\n",
    "Y_{T}=\\frac{\\exp \\left(T+X_{T}\\right)}{1+\\exp \\left(T+X_{T}\\right)}\n",
    "$$\n",
    "The analytical solution: $$\n",
    "Y_{t}=\\frac{\\exp \\left(t+X_{t}\\right)}{1+\\exp \\left(t+X_{t}\\right)}, \\quad Z_{t}=\\frac{\\left(\\exp \\left(t+X_{t}\\right)\\right)^{2}}{\\left(1+\\exp \\left(t+X_{t}\\right)\\right)^{3}}\n",
    "$$\n",
    "then we have the below definition:"
   ]
  },
  {
   "cell_type": "code",
   "execution_count": 14,
   "id": "11c96d68",
   "metadata": {},
   "outputs": [],
   "source": [
    "def g(x,T):\n",
    "    return np.exp(T+x)/(1+np.exp(T+x))\n",
    "def Z_exact(x,t):\n",
    "    return (np.exp(t+x))**2/(1+np.exp(t+x))**3\n",
    "def f(y,x,t,z):\n",
    "    return (-2*y/(1+2*np.exp(t+x))-0.5*(y*z/(1+np.exp(t+x))-y*y*z))\n",
    "def sigma(x,t):\n",
    "    return np.exp(t+x)/(1+np.exp(t+x))\n",
    "def beta(x,t):\n",
    "    return 1/(1+2*np.exp(t+x))"
   ]
  },
  {
   "cell_type": "code",
   "execution_count": 15,
   "id": "d18257c1",
   "metadata": {},
   "outputs": [],
   "source": [
    "def expectation(I,x,sigma,beta,t,delta_t):\n",
    "    a,w=np.polynomial.hermite.hermgauss(10)\n",
    "    x = np.expand_dims(x, axis=1)\n",
    "    a = np.expand_dims(a, axis=0)\n",
    "    E_1=np.dot(I(x+beta(x,t)*delta_t+np.dot(sigma(x,t)*np.sqrt(2*delta_t),a)),w)/np.sqrt(np.pi)\n",
    "    E_2=np.dot(I(x+beta(x,t)*delta_t+np.dot(sigma(x,t)*np.sqrt(2*delta_t),a))*np.sqrt(2*delta_t)*a,w)/np.sqrt(np.pi)\n",
    "    return E_1,E_2"
   ]
  },
  {
   "cell_type": "code",
   "execution_count": 16,
   "id": "9d5ada69",
   "metadata": {},
   "outputs": [],
   "source": [
    "def expectation_fm(I,x,sigma,beta,delta_t,NE,f,z,t):\n",
    "    e3=0\n",
    "    for i in range(0,NE):\n",
    "        e3+=f(I(x+beta(x,t)*delta_t+sigma(x,t)*np.sqrt(delta_t)*np.random.normal(0,1)),x,t,z(x+beta(x,t)*delta_t+sigma(x,t)*np.sqrt(delta_t)*np.random.normal(0,1)))\n",
    "    e3/=NE\n",
    "    return e3"
   ]
  },
  {
   "cell_type": "code",
   "execution_count": 17,
   "id": "e2722642",
   "metadata": {},
   "outputs": [],
   "source": [
    "x=np.arange(0.9,1.1,0.05)"
   ]
  },
  {
   "cell_type": "code",
   "execution_count": 18,
   "id": "6168cc5d",
   "metadata": {},
   "outputs": [
    {
     "data": {
      "text/plain": [
       "array([0.9 , 0.95, 1.  , 1.05, 1.1 ])"
      ]
     },
     "execution_count": 18,
     "metadata": {},
     "output_type": "execute_result"
    }
   ],
   "source": [
    "x"
   ]
  },
  {
   "cell_type": "code",
   "execution_count": 19,
   "id": "9f98e610",
   "metadata": {},
   "outputs": [],
   "source": [
    "N_=[1,2,3,4,5,6,7,8,9];T0=0;T=1;\n",
    "y=np.zeros(len(N_))\n",
    "z=np.zeros(len(N_))\n",
    "for N in range(len(N_)):\n",
    "    t,delta_t=np.linspace(T0,T,num=N_[N]+1,endpoint=True,retstep=True)\n",
    "    Y=np.zeros((N_[N]+1,len(x)))\n",
    "    Z=np.zeros((N_[N]+1,len(x)))\n",
    "    Y[-1]=g(x,T)\n",
    "    Z[-1]=Z_exact(x,T)\n",
    "    I=lagrange(x,g(x,T))\n",
    "    IZ=lagrange(x,Z_exact(x,T))\n",
    "    for n in range(N_[N]-1,-1,-1): \n",
    "        E_1,E_2=expectation(I,x,sigma,beta,t[n],delta_t)\n",
    "        E_3 = expectation_fm(I,x,sigma,beta,delta_t,500,f,IZ,t[n])\n",
    "        Z[n]=E_2/delta_t\n",
    "        Y[n]=E_1+delta_t*E_3\n",
    "        I=lagrange(x,Y[n])\n",
    "        IZ=lagrange(x,Z[n])\n",
    "    y[N]=Y[0][2]\n",
    "    z[N]=Z[0][2]"
   ]
  },
  {
   "cell_type": "code",
   "execution_count": 20,
   "id": "ae5149ce",
   "metadata": {},
   "outputs": [],
   "source": [
    "exact_y,exact_z=g(1,0),Z_exact(1,0)"
   ]
  },
  {
   "cell_type": "code",
   "execution_count": 21,
   "id": "f8e8be6d",
   "metadata": {},
   "outputs": [
    {
     "name": "stdout",
     "output_type": "stream",
     "text": [
      "+---+------------+--------------------+------------+---------------------+-------------+-------------+\n",
      "| N |  y_exact   |         y          |  z_exact   |          z          | |y-y_exact| | |z-z_exact| |\n",
      "+---+------------+--------------------+------------+---------------------+-------------+-------------+\n",
      "| 1 | 0.73105858 | 0.6280042673775829 | 0.14373484 | 0.07623770088075846 |  0.10305431 |  0.06749714 |\n",
      "| 2 | 0.73105858 | 0.6845529157363933 | 0.14373484 | 0.11844469689613045 |  0.04650566 |  0.02529014 |\n",
      "| 3 | 0.73105858 | 0.7013620845199089 | 0.14373484 | 0.12967809191404198 |  0.02969649 |  0.01405675 |\n",
      "| 4 | 0.73105858 | 0.7093800994426537 | 0.14373484 | 0.13484139993327168 |  0.02167848 |  0.00889344 |\n",
      "| 5 | 0.73105858 | 0.7142883326730081 | 0.14373484 | 0.13814134295314315 |  0.01677025 |  0.00559350 |\n",
      "| 6 | 0.73105858 | 0.7176100330331812 | 0.14373484 | 0.14027968423094933 |  0.01344855 |  0.00345516 |\n",
      "| 7 | 0.73105858 | 0.7198809413713889 | 0.14373484 | 0.14179473231251427 |  0.01117764 |  0.00194011 |\n",
      "| 8 | 0.73105858 | 0.7215967812449362 | 0.14373484 | 0.14295796503700084 |  0.00946180 |  0.00077688 |\n",
      "| 9 | 0.73105858 | 0.7230408796566292 | 0.14373484 |  0.1439853677032837 |  0.00801770 |  0.00025053 |\n",
      "+---+------------+--------------------+------------+---------------------+-------------+-------------+\n"
     ]
    }
   ],
   "source": [
    "table = PrettyTable()\n",
    "table.field_names = [\"N\",\"y_exact\",\"y\",\"z_exact\",\"z\",\"|y-y_exact|\", \"|z-z_exact|\"]\n",
    "for i in range(len(N_)):\n",
    "    table.add_row([N_[i],\"{:.8f}\".format(exact_y),y[i],\"{:.8f}\".format(exact_z),z[i],\"{:.8f}\".format(abs(y[i]-exact_y)),\"{:.8f}\".format(abs(z[i]-exact_z))])\n",
    "print(table)"
   ]
  },
  {
   "cell_type": "markdown",
   "id": "669be1a7",
   "metadata": {},
   "source": [
    "**(3) Consider the pure BSDE:**\n",
    "    $$\n",
    "\\left\\{\\begin{array}{l}\n",
    "d y_{t}=\\left(\\frac{y_{t}}{2}-z_{t}\\right) d t-z_{t} d W_{t}, \\quad 0 \\leq t<T \\\\\n",
    "y_{T}=\\sin \\left(W_{T}+T\\right)\n",
    "\\end{array}\\right.\n",
    "$$"
   ]
  },
  {
   "cell_type": "markdown",
   "id": "1761f020",
   "metadata": {},
   "source": [
    "We assume $\n",
    "x_{0}=0, T=1,\n",
    "$with the analytical solution: $$\\left(y_{t}, z_{t}\\right)=\\left(\\sin \\left(W_{t}+t\\right), \\cos \\left(W_{t}+t\\right)\\right)$$\n",
    "then we have the below definition:"
   ]
  },
  {
   "cell_type": "code",
   "execution_count": 22,
   "id": "c4af2ca1",
   "metadata": {},
   "outputs": [],
   "source": [
    "def g(x,t):\n",
    "    return np.sin(x+t)"
   ]
  },
  {
   "cell_type": "code",
   "execution_count": 23,
   "id": "60edce4e",
   "metadata": {},
   "outputs": [],
   "source": [
    "def beta(x,t):\n",
    "    return 0"
   ]
  },
  {
   "cell_type": "code",
   "execution_count": 24,
   "id": "52513ea4",
   "metadata": {},
   "outputs": [],
   "source": [
    "def Z_exact(x,t):\n",
    "    return np.cos(x+t)"
   ]
  },
  {
   "cell_type": "code",
   "execution_count": 25,
   "id": "ff7f8db3",
   "metadata": {},
   "outputs": [],
   "source": [
    "def f(y,x,t,z):\n",
    "    return y/2-z"
   ]
  },
  {
   "cell_type": "code",
   "execution_count": 26,
   "id": "09e3c7a6",
   "metadata": {},
   "outputs": [],
   "source": [
    "def sigma(x,t):\n",
    "    return 1"
   ]
  },
  {
   "cell_type": "code",
   "execution_count": 27,
   "id": "e92df669",
   "metadata": {},
   "outputs": [],
   "source": [
    "def expectation(I,x,sigma,beta,t,delta_t):\n",
    "    a,w=np.polynomial.hermite.hermgauss(10)\n",
    "    x = np.expand_dims(x, axis=1)\n",
    "    a = np.expand_dims(a, axis=0)\n",
    "    E_1=np.dot(I(x+beta(x,t)*delta_t+np.dot(sigma(x,t)*np.sqrt(2*delta_t),a)),w)/np.sqrt(np.pi)\n",
    "    E_2=np.dot(I(x+beta(x,t)*delta_t+np.dot(sigma(x,t)*np.sqrt(2*delta_t),a))*np.sqrt(2*delta_t)*a,w)/np.sqrt(np.pi)\n",
    "    return E_1,E_2"
   ]
  },
  {
   "cell_type": "code",
   "execution_count": 28,
   "id": "88680a6c",
   "metadata": {},
   "outputs": [],
   "source": [
    "def expectation_fm(I,x,sigma,beta,delta_t,NE,f,z):\n",
    "    e3=0\n",
    "    for i in range(0,NE):\n",
    "        e3+=f(I(x+beta(x,t)*delta_t+sigma(x,t)*np.sqrt(delta_t)*np.random.normal(0,1)),x,t,z(x+beta(x,t)*delta_t+sigma(x,t)*np.sqrt(delta_t)*np.random.normal(0,1)))\n",
    "    e3/=NE\n",
    "    return e3"
   ]
  },
  {
   "cell_type": "code",
   "execution_count": 29,
   "id": "73aa977e",
   "metadata": {},
   "outputs": [
    {
     "data": {
      "text/plain": [
       "array([-0.1 , -0.05,  0.  ,  0.05])"
      ]
     },
     "execution_count": 29,
     "metadata": {},
     "output_type": "execute_result"
    }
   ],
   "source": [
    "x=np.arange(-0.1,0.1,0.05)\n",
    "x"
   ]
  },
  {
   "cell_type": "code",
   "execution_count": 30,
   "id": "b2327714",
   "metadata": {},
   "outputs": [
    {
     "data": {
      "text/plain": [
       "array([-0.09983342, -0.04997917,  0.        ,  0.04997917])"
      ]
     },
     "execution_count": 30,
     "metadata": {},
     "output_type": "execute_result"
    }
   ],
   "source": [
    "g(x,0)"
   ]
  },
  {
   "cell_type": "code",
   "execution_count": 31,
   "id": "db67d7fd",
   "metadata": {},
   "outputs": [],
   "source": [
    "N_=[1,2,3,4,5];T0=0;T=1;\n",
    "y=np.zeros(len(N_))\n",
    "z=np.zeros(len(N_))\n",
    "for N in range(len(N_)):\n",
    "    t,delta_t=np.linspace(T0,T,num=N_[N]+1,endpoint=True,retstep=True)\n",
    "    Y=np.zeros((N_[N]+1,len(x)))\n",
    "    Z=np.zeros((N_[N]+1,len(x)))\n",
    "    Y[-1]=g(x,T)\n",
    "    Z[-1]=Z_exact(x,T)\n",
    "    I=lagrange(x,g(x,T))\n",
    "    IZ=lagrange(x,Z_exact(x,T))\n",
    "    for n in range(N_[N]-1,-1,-1): \n",
    "        E_1,E_2=expectation(I,x,sigma,beta,t[n],delta_t)\n",
    "        E_3 = expectation_fm(I,x,sigma,beta,delta_t,5000,f,IZ)\n",
    "        Z[n]=E_2/delta_t\n",
    "        Y[n]=E_1+delta_t*E_3\n",
    "        I=lagrange(x,Y[n])\n",
    "        IZ=lagrange(x,Z[n])\n",
    "    y[N]=Y[0][2]\n",
    "    z[N]=Z[0][2]"
   ]
  },
  {
   "cell_type": "code",
   "execution_count": 32,
   "id": "3e248988",
   "metadata": {},
   "outputs": [],
   "source": [
    "exact_y,exact_z=g(0,0),Z_exact(0,0)"
   ]
  },
  {
   "cell_type": "code",
   "execution_count": 33,
   "id": "622a20e7",
   "metadata": {},
   "outputs": [
    {
     "name": "stdout",
     "output_type": "stream",
     "text": [
      "+---+---------+---------------------+---------+--------------------+-------------+-------------+\n",
      "| N | y_exact |          y          | z_exact |         z          | |y-y_exact| | |z-z_exact| |\n",
      "+---+---------+---------------------+---------+--------------------+-------------+-------------+\n",
      "| 1 |   0.0   | 0.35806126265539345 |   1.0   | 0.2598145988685001 |  0.35806126 |  0.74018540 |\n",
      "| 2 |   0.0   | 0.35696169598747135 |   1.0   | 0.5385724398896256 |  0.35696170 |  0.46142756 |\n",
      "| 3 |   0.0   |  0.2980527007011496 |   1.0   | 0.7977135289868149 |  0.29805270 |  0.20228647 |\n",
      "| 4 |   0.0   | 0.21595386812552847 |   1.0   | 0.942291271595143  |  0.21595387 |  0.05770873 |\n",
      "| 5 |   0.0   | 0.15522725494826387 |   1.0   | 1.0389249331685884 |  0.15522725 |  0.03892493 |\n",
      "+---+---------+---------------------+---------+--------------------+-------------+-------------+\n"
     ]
    }
   ],
   "source": [
    "table = PrettyTable()\n",
    "table.field_names = [\"N\",\"y_exact\",\"y\",\"z_exact\",\"z\",\"|y-y_exact|\", \"|z-z_exact|\"]\n",
    "for i in range(len(N_)):\n",
    "    table.add_row([N_[i],exact_y,y[i],exact_z,z[i],\"{:.8f}\".format(abs(y[i]-exact_y)),\"{:.8f}\".format(abs(z[i]-exact_z))])\n",
    "print(table)"
   ]
  },
  {
   "cell_type": "code",
   "execution_count": null,
   "id": "d930752e",
   "metadata": {},
   "outputs": [],
   "source": []
  },
  {
   "cell_type": "markdown",
   "id": "7e0be133",
   "metadata": {},
   "source": [
    "**(4) Consider the decoupled FBSDE:**$$\n",
    "\\left\\{\\begin{aligned}\n",
    "d x_{t} &=\\sin \\left(t+x_{t}\\right) d t+\\frac{3}{10} \\cos \\left(t+x_{t}\\right) d W_{t} \\\\\n",
    "-d y_{t} &=\\left(\\frac{3}{20} y_{t} z_{t}-\\cos \\left(t+x_{t}\\right)\\left(1+y_{t}\\right)\\right) d t-z_{t} d W_{t}\n",
    "\\end{aligned}\\right.\n",
    "$$"
   ]
  },
  {
   "cell_type": "markdown",
   "id": "dd976fa7",
   "metadata": {},
   "source": [
    "We assume $\n",
    "x_{0}=1, T=1\n",
    "$,\n",
    "with the terminal conditions:$$\n",
    "y_{T}=\\sin \\left(T+x_{T}\\right)\n",
    "$$\n",
    "The analytical solution: $$\n",
    "\\left(y_{t}, z_{t}\\right)=\\left(\\sin \\left(t+x_{t}\\right), \\frac{3}{10} \\cos ^{2}\\left(t+x_{t}\\right)\\right)\n",
    "$$\n",
    "then we have the below definition:"
   ]
  },
  {
   "cell_type": "code",
   "execution_count": 34,
   "id": "538a4c77",
   "metadata": {},
   "outputs": [],
   "source": [
    "def g(x,t):\n",
    "    return np.sin(t+x)"
   ]
  },
  {
   "cell_type": "code",
   "execution_count": 35,
   "id": "8201bdb1",
   "metadata": {},
   "outputs": [],
   "source": [
    "def Z_exact(x,t):\n",
    "    return (3/10)*(np.cos(t+x)**2)"
   ]
  },
  {
   "cell_type": "code",
   "execution_count": 36,
   "id": "6827cca7",
   "metadata": {},
   "outputs": [],
   "source": [
    "def f(y,x,t,z):\n",
    "    return 3*y*z/20-np.cos(t+x)*(1+y)"
   ]
  },
  {
   "cell_type": "code",
   "execution_count": 37,
   "id": "e59a5ae9",
   "metadata": {},
   "outputs": [],
   "source": [
    "def sigma(x,t):\n",
    "    return (3/10)*np.cos(t+x)"
   ]
  },
  {
   "cell_type": "code",
   "execution_count": 38,
   "id": "9f63a2af",
   "metadata": {},
   "outputs": [],
   "source": [
    "def beta(x,t):\n",
    "    return np.sin(t+x)"
   ]
  },
  {
   "cell_type": "code",
   "execution_count": 39,
   "id": "c5c15fb8",
   "metadata": {},
   "outputs": [],
   "source": [
    "def expectation(I,x,sigma,beta,t,delta_t):\n",
    "    a,w=np.polynomial.hermite.hermgauss(10)\n",
    "    x = np.expand_dims(x, axis=1)\n",
    "    a = np.expand_dims(a, axis=0)\n",
    "    E_1=np.dot(I(x+beta(x,t)*delta_t+np.dot(sigma(x,t)*np.sqrt(2*delta_t),a)),w)/np.sqrt(np.pi)\n",
    "    E_2=np.dot(I(x+beta(x,t)*delta_t+np.dot(sigma(x,t)*np.sqrt(2*delta_t),a))*np.sqrt(2*delta_t)*a,w)/np.sqrt(np.pi)\n",
    "    return E_1,E_2"
   ]
  },
  {
   "cell_type": "code",
   "execution_count": 40,
   "id": "930714bb",
   "metadata": {},
   "outputs": [],
   "source": [
    "def expectation_fm(I,x,sigma,beta,delta_t,NE,f,z,t):\n",
    "    e3=0\n",
    "    for i in range(0,NE):\n",
    "        e3+=f(I(x+beta(x,t)*delta_t+sigma(x,t)*np.sqrt(delta_t)*np.random.normal(0,1)),x,t,z(x+beta(x,t)*delta_t+sigma(x,t)*np.sqrt(delta_t)*np.random.normal(0,1)))\n",
    "    e3/=NE\n",
    "    return e3"
   ]
  },
  {
   "cell_type": "code",
   "execution_count": 41,
   "id": "cfd0437d",
   "metadata": {},
   "outputs": [],
   "source": [
    "x=np.arange(0.9,1.1,0.05)"
   ]
  },
  {
   "cell_type": "code",
   "execution_count": 42,
   "id": "b19edf83",
   "metadata": {},
   "outputs": [
    {
     "data": {
      "text/plain": [
       "array([0.9 , 0.95, 1.  , 1.05, 1.1 ])"
      ]
     },
     "execution_count": 42,
     "metadata": {},
     "output_type": "execute_result"
    }
   ],
   "source": [
    "x"
   ]
  },
  {
   "cell_type": "code",
   "execution_count": 43,
   "id": "cca172dd",
   "metadata": {},
   "outputs": [],
   "source": [
    "N_=[1,2,3,4,5,6,7,8,9];T0=0;T=1;\n",
    "y=np.zeros(len(N_))\n",
    "z=np.zeros(len(N_))\n",
    "for N in range(len(N_)):\n",
    "    t,delta_t=np.linspace(T0,T,num=N_[N]+1,endpoint=True,retstep=True)\n",
    "    Y=np.zeros((N_[N]+1,len(x)))\n",
    "    Z=np.zeros((N_[N]+1,len(x)))\n",
    "    Y[-1]=g(x,T)\n",
    "    Z[-1]=Z_exact(x,T)\n",
    "    I=lagrange(x,g(x,T))\n",
    "    IZ=lagrange(x,Z_exact(x,T))\n",
    "    for n in range(N_[N]-1,-1,-1): \n",
    "        E_1,E_2=expectation(I,x,sigma,beta,t[n],delta_t)\n",
    "        E_3 = expectation_fm(I,x,sigma,beta,delta_t,500,f,IZ,t[n])\n",
    "        Z[n]=E_2/delta_t\n",
    "        Y[n]=E_1+delta_t*E_3\n",
    "        I=lagrange(x,Y[n])\n",
    "        IZ=lagrange(x,Z[n])\n",
    "    y[N]=Y[0][2]\n",
    "    z[N]=Z[0][2]"
   ]
  },
  {
   "cell_type": "code",
   "execution_count": 44,
   "id": "4294e02e",
   "metadata": {},
   "outputs": [],
   "source": [
    "exact_y,exact_z=g(1,0),Z_exact(1,0)"
   ]
  },
  {
   "cell_type": "code",
   "execution_count": 45,
   "id": "85dff8ba",
   "metadata": {},
   "outputs": [
    {
     "name": "stdout",
     "output_type": "stream",
     "text": [
      "+---+------------+---------------------+------------+-----------------------+-------------+-------------+\n",
      "| N |  y_exact   |          y          |  z_exact   |           z           | |y-y_exact| | |z-z_exact| |\n",
      "+---+------------+---------------------+------------+-----------------------+-------------+-------------+\n",
      "| 1 | 0.84147098 |  -0.401411200435622 | 0.08757797 |  -0.1504663677214098  |  1.24288219 |  0.23804434 |\n",
      "| 2 | 0.84147098 | 0.07573980693425814 | 0.08757797 |  -0.05209559256681564 |  0.76573118 |  0.13967357 |\n",
      "| 3 | 0.84147098 |  0.2965857522685139 | 0.08757797 | -0.005605399647474615 |  0.54488523 |  0.09318337 |\n",
      "| 4 | 0.84147098 | 0.42000441134909816 | 0.08757797 |  0.018164419778815968 |  0.42146657 |  0.06941355 |\n",
      "| 5 | 0.84147098 |  0.4972435677064808 | 0.08757797 |  0.03190735437594019  |  0.34422742 |  0.05567062 |\n",
      "| 6 | 0.84147098 |   0.54872034712291  | 0.08757797 |  0.040521259527012965 |  0.29275064 |  0.04705671 |\n",
      "| 7 | 0.84147098 |  0.5895140436780377 | 0.08757797 |  0.047597025258624644 |  0.25195694 |  0.03998095 |\n",
      "| 8 | 0.84147098 |  0.6199858897236487 | 0.08757797 |  0.052710213377415174 |  0.22148510 |  0.03486776 |\n",
      "| 9 | 0.84147098 |  0.6421815739224157 | 0.08757797 |  0.05615410211391654  |  0.19928941 |  0.03142387 |\n",
      "+---+------------+---------------------+------------+-----------------------+-------------+-------------+\n"
     ]
    }
   ],
   "source": [
    "table = PrettyTable()\n",
    "table.field_names = [\"N\",\"y_exact\",\"y\",\"z_exact\",\"z\",\"|y-y_exact|\", \"|z-z_exact|\"]\n",
    "for i in range(len(N_)):\n",
    "    table.add_row([N_[i],\"{:.8f}\".format(exact_y),y[i],\"{:.8f}\".format(exact_z),z[i],\"{:.8f}\".format(abs(y[i]-exact_y)),\"{:.8f}\".format(abs(z[i]-exact_z))])\n",
    "print(table)"
   ]
  },
  {
   "cell_type": "code",
   "execution_count": null,
   "id": "4eac0837",
   "metadata": {},
   "outputs": [],
   "source": []
  },
  {
   "cell_type": "code",
   "execution_count": null,
   "id": "5b865e12",
   "metadata": {},
   "outputs": [],
   "source": []
  },
  {
   "cell_type": "code",
   "execution_count": null,
   "id": "3c8cdb06",
   "metadata": {},
   "outputs": [],
   "source": []
  },
  {
   "cell_type": "code",
   "execution_count": null,
   "id": "c63752f6",
   "metadata": {},
   "outputs": [],
   "source": []
  },
  {
   "cell_type": "code",
   "execution_count": null,
   "id": "6e873451",
   "metadata": {},
   "outputs": [],
   "source": []
  }
 ],
 "metadata": {
  "kernelspec": {
   "display_name": "Python 3",
   "language": "python",
   "name": "python3"
  },
  "language_info": {
   "codemirror_mode": {
    "name": "ipython",
    "version": 3
   },
   "file_extension": ".py",
   "mimetype": "text/x-python",
   "name": "python",
   "nbconvert_exporter": "python",
   "pygments_lexer": "ipython3",
   "version": "3.8.5"
  }
 },
 "nbformat": 4,
 "nbformat_minor": 5
}
