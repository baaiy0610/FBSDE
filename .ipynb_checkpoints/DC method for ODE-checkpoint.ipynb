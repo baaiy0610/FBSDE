{
 "cells": [
  {
   "cell_type": "code",
   "execution_count": 1,
   "id": "24cd5081",
   "metadata": {},
   "outputs": [],
   "source": [
    "import numpy as np\n",
    "from scipy.interpolate import lagrange\n",
    "from prettytable import PrettyTable"
   ]
  },
  {
   "cell_type": "markdown",
   "id": "d8f792b5",
   "metadata": {},
   "source": [
    "**Let us consider the following IVP ODE**\n",
    "\\begin{equation}\n",
    "y^{\\prime}+2 y=2-\\mathbf{e}^{-4 t}\n",
    "\\end{equation}"
   ]
  },
  {
   "cell_type": "markdown",
   "id": "18de354f",
   "metadata": {},
   "source": [
    "*with the initial condition:* $y_{0}$=1"
   ]
  },
  {
   "cell_type": "code",
   "execution_count": 2,
   "id": "8b34abe0",
   "metadata": {},
   "outputs": [],
   "source": [
    "def derivate(t,y):\n",
    "    d=2-np.exp(-4*t)-2*y\n",
    "    return d"
   ]
  },
  {
   "cell_type": "code",
   "execution_count": 3,
   "id": "4a1429e2",
   "metadata": {},
   "outputs": [],
   "source": [
    "def exact(t):\n",
    "    return 1+1/(2*np.exp(4*t))-1/(2*np.exp(2*t))"
   ]
  },
  {
   "cell_type": "code",
   "execution_count": 4,
   "id": "8213626b",
   "metadata": {},
   "outputs": [],
   "source": [
    "def e_de(t,de,l,dl,error):\n",
    "    return de(t,error+l)-dl"
   ]
  },
  {
   "cell_type": "code",
   "execution_count": 5,
   "id": "a20be71d",
   "metadata": {},
   "outputs": [],
   "source": [
    "def explicit_euler(y0,T0,T,h,de):\n",
    "    n=round((T-T0)/h)+1\n",
    "    t=np.linspace(T0,T,n)\n",
    "    y=np.zeros(n)\n",
    "    y[0]=y0\n",
    "    for i in range(1,n):\n",
    "        y[i]=y[i-1]+de(t[i-1],y[i-1])*h\n",
    "    return t,y"
   ]
  },
  {
   "cell_type": "code",
   "execution_count": 6,
   "id": "776c4341",
   "metadata": {},
   "outputs": [],
   "source": [
    "def ex_euler_error(t,l,dl,de,h):\n",
    "    n=len(t)\n",
    "    error=np.zeros(n)\n",
    "    for i in range(1,n):\n",
    "        error[i]=error[i-1]+e_de(t[i-1],de,l[i-1],dl[i-1],error[i-1])*h\n",
    "    return error"
   ]
  },
  {
   "cell_type": "code",
   "execution_count": 7,
   "id": "f3ee236d",
   "metadata": {},
   "outputs": [],
   "source": [
    "def error_precent(exact,app):\n",
    "    return np.abs(exact-app)/exact"
   ]
  },
  {
   "cell_type": "code",
   "execution_count": 8,
   "id": "500a9afb",
   "metadata": {},
   "outputs": [],
   "source": [
    "T0=0;T=0.5;H=0.1\n",
    "K=int((T-T0)/H)+1\n",
    "T=np.linspace(T0,T,K)\n",
    "Y=np.zeros(K)\n",
    "Y[0]=1"
   ]
  },
  {
   "cell_type": "code",
   "execution_count": 9,
   "id": "db6fe4e2",
   "metadata": {},
   "outputs": [],
   "source": [
    "#DC method \n",
    "for k in range(1,K):\n",
    "    t,y=explicit_euler(Y[k-1],T[k-1],T[k],0.05,derivate)\n",
    "    for i in range(0,5):\n",
    "        a=lagrange(t,y) # using the lagrange interpolation to approximate the function\n",
    "        b=np.polyder(a,1) #the derivate of the interpolation\n",
    "        l=a(t)\n",
    "        dl=b(t)\n",
    "        error=ex_euler_error(t,l,dl,derivate,0.05)\n",
    "        y=y+error\n",
    "    Y[k]=y[-1]"
   ]
  },
  {
   "cell_type": "code",
   "execution_count": 10,
   "id": "d6b03488",
   "metadata": {},
   "outputs": [],
   "source": [
    "t,euler_app=explicit_euler(1,0,0.5,0.1,derivate)"
   ]
  },
  {
   "cell_type": "code",
   "execution_count": 11,
   "id": "32e20244",
   "metadata": {},
   "outputs": [],
   "source": [
    "exact_value=exact(t)"
   ]
  },
  {
   "cell_type": "code",
   "execution_count": 12,
   "id": "9e985b81",
   "metadata": {},
   "outputs": [],
   "source": [
    "error_euler=error_precent(exact_value,euler_app)"
   ]
  },
  {
   "cell_type": "code",
   "execution_count": 13,
   "id": "1e11de50",
   "metadata": {},
   "outputs": [],
   "source": [
    "error_DC=error_precent(exact_value,Y)"
   ]
  },
  {
   "cell_type": "code",
   "execution_count": 14,
   "id": "8cac537b",
   "metadata": {},
   "outputs": [
    {
     "name": "stdout",
     "output_type": "stream",
     "text": [
      "+----------+--------------------+--------------------+--------------------+--------------+-----------+\n",
      "| Time,t_n |       Exact        |     Euler_app      |       DC_app       | Error(Euler) | Error(DC) |\n",
      "+----------+--------------------+--------------------+--------------------+--------------+-----------+\n",
      "|   0.0    |        1.0         |        1.0         |        1.0         |    0.00%     |   0.00%   |\n",
      "|   0.1    | 0.9257946464788289 |        0.9         | 0.9267875513021834 |    2.79%     |   0.11%   |\n",
      "|   0.2    | 0.8895044590407911 | 0.8529679953964361 | 0.8909597460209044 |    4.11%     |   0.16%   |\n",
      "|   0.3    | 0.8761912879090878 | 0.8374414999054267 | 0.8777943655559004 |    4.42%     |   0.18%   |\n",
      "|   0.4    | 0.8762837769387168 | 0.8398337787331212 | 0.8778565999411327 |    4.16%     |   0.18%   |\n",
      "|   0.5    | 0.8837279210325852 | 0.8516773711870314 | 0.8851774001881014 |    3.63%     |   0.16%   |\n",
      "+----------+--------------------+--------------------+--------------------+--------------+-----------+\n"
     ]
    }
   ],
   "source": [
    "table = PrettyTable()\n",
    "table.field_names = [\"Time,t_n\", \"Exact\", \"Euler_app \", \"DC_app\", \"Error(Euler)\",\"Error(DC)\"]\n",
    "table.add_row([\"%.1f\"%t[0], exact_value[0], euler_app[0], Y[0], \"{:.2%}\".format(error_euler[0]),\"{:.2%}\".format(error_DC[0])])\n",
    "table.add_row([\"%.1f\"%t[1], exact_value[1], euler_app[1], Y[1], \"{:.2%}\".format(error_euler[1]),\"{:.2%}\".format(error_DC[1])])\n",
    "table.add_row([\"%.1f\"%t[2], exact_value[2], euler_app[2], Y[2], \"{:.2%}\".format(error_euler[2]),\"{:.2%}\".format(error_DC[2])])\n",
    "table.add_row([\"%.1f\"%t[3], exact_value[3], euler_app[3], Y[3], \"{:.2%}\".format(error_euler[3]),\"{:.2%}\".format(error_DC[3])])\n",
    "table.add_row([\"%.1f\"%t[4], exact_value[4], euler_app[4], Y[4], \"{:.2%}\".format(error_euler[4]),\"{:.2%}\".format(error_DC[4])])\n",
    "table.add_row([\"%.1f\"%t[5], exact_value[5], euler_app[5], Y[5], \"{:.2%}\".format(error_euler[5]),\"{:.2%}\".format(error_DC[5])])\n",
    "print(table)"
   ]
  },
  {
   "cell_type": "markdown",
   "id": "21378ac3",
   "metadata": {},
   "source": [
    "We could see that the relative error will be less than the normal euler method"
   ]
  },
  {
   "cell_type": "code",
   "execution_count": null,
   "id": "e44ee9e8",
   "metadata": {},
   "outputs": [],
   "source": []
  }
 ],
 "metadata": {
  "kernelspec": {
   "display_name": "Python 3",
   "language": "python",
   "name": "python3"
  },
  "language_info": {
   "codemirror_mode": {
    "name": "ipython",
    "version": 3
   },
   "file_extension": ".py",
   "mimetype": "text/x-python",
   "name": "python",
   "nbconvert_exporter": "python",
   "pygments_lexer": "ipython3",
   "version": "3.8.5"
  }
 },
 "nbformat": 4,
 "nbformat_minor": 5
}
